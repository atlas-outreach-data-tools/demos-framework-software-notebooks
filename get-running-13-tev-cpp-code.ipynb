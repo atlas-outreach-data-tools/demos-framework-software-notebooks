{
 "cells": [
  {
   "cell_type": "markdown",
   "metadata": {},
   "source": [
    "# Get Running the 13 TeV Example in C++\n",
    "\n",
    "\n",
    "You can follow the steps to run 8 TeV example and see the results."
   ]
  },
  {
   "cell_type": "markdown",
   "metadata": {},
   "source": [
    "## 1. Preparation\n",
    "\n",
    "### 1.1 Import necessary modules that provide a way of using operating system dependent functionality. "
   ]
  },
  {
   "cell_type": "code",
   "execution_count": 1,
   "metadata": {
    "collapsed": false
   },
   "outputs": [],
   "source": [
    "#include <stdio.h>\n",
    "#include <stdlib.h>\n",
    "#include <cstdio>\n",
    "#include <iostream>"
   ]
  },
  {
   "cell_type": "markdown",
   "metadata": {},
   "source": [
    "- Print current system time"
   ]
  },
  {
   "cell_type": "code",
   "execution_count": 2,
   "metadata": {
    "collapsed": false
   },
   "outputs": [
    {
     "name": "stdout",
     "output_type": "stream",
     "text": [
      "Mon Jul 22 11:43:44 CEST 2019\r\n"
     ]
    }
   ],
   "source": [
    "system(\"date\"); "
   ]
  },
  {
   "cell_type": "markdown",
   "metadata": {},
   "source": [
    "### 1.2 Create a new folder \"cpp-13tev\" in which you place your data and code\n",
    "- Create a directory"
   ]
  },
  {
   "cell_type": "code",
   "execution_count": 3,
   "metadata": {
    "collapsed": false,
    "scrolled": true
   },
   "outputs": [
    {
     "name": "stdout",
     "output_type": "stream",
     "text": [
      "(int) 0\r\n"
     ]
    }
   ],
   "source": [
    "system(\"mkdir cpp-13tev\")"
   ]
  },
  {
   "cell_type": "markdown",
   "metadata": {},
   "source": [
    "- List the files in your directory"
   ]
  },
  {
   "cell_type": "code",
   "execution_count": 4,
   "metadata": {
    "collapsed": false
   },
   "outputs": [
    {
     "name": "stdout",
     "output_type": "stream",
     "text": [
      "total 396K\r\n",
      "-rw-r--r-- 1 summerstudent users  125 Jul 22 11:07 README.md\r\n",
      "drwxr-xr-x 2 summerstudent users 4.0K Jul 22 11:07 images\r\n",
      "-rw-r--r-- 1 summerstudent users  15K Jul 22 11:07 get-running-8-tev-code-python.ipynb\r\n",
      "-rw------- 1 summerstudent users  12K Jul 22 11:09 get-running-8-tev-code-cpp.ipynb.BASE.1664.ipynb\r\n",
      "-rw------- 1 summerstudent users  14K Jul 22 11:09 get-running-8-tev-code-cpp.ipynb.LOCAL.1664.ipynb\r\n",
      "-rw-r--r-- 1 summerstudent users 104K Jul 22 11:09 get-running-8-tev-code-cpp.ipynb.BACKUP.1664.ipynb\r\n",
      "-rw-r--r-- 1 summerstudent users 104K Jul 22 11:10 get-running-8-tev-code-cpp.ipynb.orig\r\n",
      "-rw-r--r-- 1 summerstudent users 104K Jul 22 11:11 get-running-8-tev-code-cpp.ipynb\r\n",
      "-rw-r--r-- 1 summerstudent users 8.0K Jul 22 11:17 get-running-13-tev-python-code.ipynb\r\n",
      "-rw------- 1 summerstudent users 9.6K Jul 22 11:26 get-running-8-tev-code-cpp.ipynb.REMOTE.1664.ipynb\r\n",
      "-rw-r--r-- 1 summerstudent users 7.8K Jul 22 11:42 get-running-13-tev-cpp-code.ipynb\r\n",
      "drwxr-xr-x 2 summerstudent users 4.0K Jul 22 11:43 cpp-13tev\r\n"
     ]
    }
   ],
   "source": [
    "system(\"ls -lhrt\");"
   ]
  },
  {
   "cell_type": "markdown",
   "metadata": {},
   "source": [
    "- Print your current path"
   ]
  },
  {
   "cell_type": "code",
   "execution_count": 5,
   "metadata": {
    "collapsed": false
   },
   "outputs": [
    {
     "name": "stdout",
     "output_type": "stream",
     "text": [
      "/home/student/demos-framework-software-notebooks\r\n"
     ]
    }
   ],
   "source": [
    "system(\"pwd\");"
   ]
  },
  {
   "cell_type": "markdown",
   "metadata": {},
   "source": [
    "### 1.3 Prepare the code \n",
    "- Change current directory to \"cpp-8tev\" "
   ]
  },
  {
   "cell_type": "code",
   "execution_count": 6,
   "metadata": {
    "collapsed": false
   },
   "outputs": [
    {
     "name": "stdout",
     "output_type": "stream",
     "text": [
      "(int) 0\r\n"
     ]
    }
   ],
   "source": [
    "chdir(\"cpp-13tev\")"
   ]
  },
  {
   "cell_type": "markdown",
   "metadata": {},
   "source": [
    "- Print your current path"
   ]
  },
  {
   "cell_type": "code",
   "execution_count": 7,
   "metadata": {
    "collapsed": false
   },
   "outputs": [
    {
     "name": "stdout",
     "output_type": "stream",
     "text": [
      "/home/student/demos-framework-software-notebooks/cpp-13tev\r\n",
      "(int) 0\r\n"
     ]
    }
   ],
   "source": [
    "system(\"pwd\")"
   ]
  },
  {
   "cell_type": "markdown",
   "metadata": {},
   "source": [
    "- Print current system time"
   ]
  },
  {
   "cell_type": "code",
   "execution_count": 8,
   "metadata": {
    "collapsed": false
   },
   "outputs": [
    {
     "name": "stdout",
     "output_type": "stream",
     "text": [
      "Mon Jul 22 11:44:25 CEST 2019\r\n",
      "(int) 0\r\n"
     ]
    }
   ],
   "source": [
    "system(\"date\")"
   ]
  },
  {
   "cell_type": "markdown",
   "metadata": {
    "collapsed": true
   },
   "source": [
    "- Clone the code of 13TeV from github"
   ]
  },
  {
   "cell_type": "code",
   "execution_count": 11,
   "metadata": {
    "collapsed": false
   },
   "outputs": [
    {
     "name": "stderr",
     "output_type": "stream",
     "text": [
      "Cloning into 'atlas-outreach-cpp-framework-13tev'...\r\n",
      "remote: Enumerating objects: 311, done.\u001b[K\r\n",
      "remote: Counting objects:   0% (1/311)   \u001b[K\r",
      "remote: Counting objects:   1% (4/311)   \u001b[K\r",
      "remote: Counting objects:   2% (7/311)   \u001b[K\r",
      "remote: Counting objects:   3% (10/311)   \u001b[K\r",
      "remote: Counting objects:   4% (13/311)   \u001b[K\r",
      "remote: Counting objects:   5% (16/311)   \u001b[K\r",
      "remote: Counting objects:   6% (19/311)   \u001b[K\r",
      "remote: Counting objects:   7% (22/311)   \u001b[K\r",
      "remote: Counting objects:   8% (25/311)   \u001b[K\r",
      "remote: Counting objects:   9% (28/311)   \u001b[K\r",
      "remote: Counting objects:  10% (32/311)   \u001b[K\r",
      "remote: Counting objects:  11% (35/311)   \u001b[K\r",
      "remote: Counting objects:  12% (38/311)   \u001b[K\r",
      "remote: Counting objects:  13% (41/311)   \u001b[K\r",
      "remote: Counting objects:  14% (44/311)   \u001b[K\r",
      "remote: Counting objects:  15% (47/311)   \u001b[K\r",
      "remote: Counting objects:  16% (50/311)   \u001b[K\r",
      "remote: Counting objects:  17% (53/311)   \u001b[K\r",
      "remote: Counting objects:  18% (56/311)   \u001b[K\r",
      "remote: Counting objects:  19% (60/311)   \u001b[K\r",
      "remote: Counting objects:  20% (63/311)   \u001b[K\r",
      "remote: Counting objects:  21% (66/311)   \u001b[K\r",
      "remote: Counting objects:  22% (69/311)   \u001b[K\r",
      "remote: Counting objects:  23% (72/311)   \u001b[K\r",
      "remote: Counting objects:  24% (75/311)   \u001b[K\r",
      "remote: Counting objects:  25% (78/311)   \u001b[K\r",
      "remote: Counting objects:  26% (81/311)   \u001b[K\r",
      "remote: Counting objects:  27% (84/311)   \u001b[K\r",
      "remote: Counting objects:  28% (88/311)   \u001b[K\r",
      "remote: Counting objects:  29% (91/311)   \u001b[K\r",
      "remote: Counting objects:  30% (94/311)   \u001b[K\r",
      "remote: Counting objects:  31% (97/311)   \u001b[K\r",
      "remote: Counting objects:  32% (100/311)   \u001b[K\r",
      "remote: Counting objects:  33% (103/311)   \u001b[K\r",
      "remote: Counting objects:  34% (106/311)   \u001b[K\r",
      "remote: Counting objects:  35% (109/311)   \u001b[K\r",
      "remote: Counting objects:  36% (112/311)   \u001b[K\r",
      "remote: Counting objects:  37% (116/311)   \u001b[K\r",
      "remote: Counting objects:  38% (119/311)   \u001b[K\r",
      "remote: Counting objects:  39% (122/311)   \u001b[K\r",
      "remote: Counting objects:  40% (125/311)   \u001b[K\r",
      "remote: Counting objects:  41% (128/311)   \u001b[K\r",
      "remote: Counting objects:  42% (131/311)   \u001b[K\r",
      "remote: Counting objects:  43% (134/311)   \u001b[K\r",
      "remote: Counting objects:  44% (137/311)   \u001b[K\r",
      "remote: Counting objects:  45% (140/311)   \u001b[K\r",
      "remote: Counting objects:  46% (144/311)   \u001b[K\r",
      "remote: Counting objects:  47% (147/311)   \u001b[K\r",
      "remote: Counting objects:  48% (150/311)   \u001b[K\r",
      "remote: Counting objects:  49% (153/311)   \u001b[K\r",
      "remote: Counting objects:  50% (156/311)   \u001b[K\r",
      "remote: Counting objects:  51% (159/311)   \u001b[K\r",
      "remote: Counting objects:  52% (162/311)   \u001b[K\r",
      "remote: Counting objects:  53% (165/311)   \u001b[K\r",
      "remote: Counting objects:  54% (168/311)   \u001b[K\r",
      "remote: Counting objects:  55% (172/311)   \u001b[K\r",
      "remote: Counting objects:  56% (175/311)   \u001b[K\r",
      "remote: Counting objects:  57% (178/311)   \u001b[K\r",
      "remote: Counting objects:  58% (181/311)   \u001b[K\r",
      "remote: Counting objects:  59% (184/311)   \u001b[K\r",
      "remote: Counting objects:  60% (187/311)   \u001b[K\r",
      "remote: Counting objects:  61% (190/311)   \u001b[K\r",
      "remote: Counting objects:  62% (193/311)   \u001b[K\r",
      "remote: Counting objects:  63% (196/311)   \u001b[K\r",
      "remote: Counting objects:  64% (200/311)   \u001b[K\r",
      "remote: Counting objects:  65% (203/311)   \u001b[K\r",
      "remote: Counting objects:  66% (206/311)   \u001b[K\r",
      "remote: Counting objects:  67% (209/311)   \u001b[K\r",
      "remote: Counting objects:  68% (212/311)   \u001b[K\r",
      "remote: Counting objects:  69% (215/311)   \u001b[K\r",
      "remote: Counting objects:  70% (218/311)   \u001b[K\r",
      "remote: Counting objects:  71% (221/311)   \u001b[K\r",
      "remote: Counting objects:  72% (224/311)   \u001b[K\r",
      "remote: Counting objects:  73% (228/311)   \u001b[K\r",
      "remote: Counting objects:  74% (231/311)   \u001b[K\r",
      "remote: Counting objects:  75% (234/311)   \u001b[K\r",
      "remote: Counting objects:  76% (237/311)   \u001b[K\r",
      "remote: Counting objects:  77% (240/311)   \u001b[K\r",
      "remote: Counting objects:  78% (243/311)   \u001b[K\r",
      "remote: Counting objects:  79% (246/311)   \u001b[K\r",
      "remote: Counting objects:  80% (249/311)   \u001b[K\r",
      "remote: Counting objects:  81% (252/311)   \u001b[K\r",
      "remote: Counting objects:  82% (256/311)   \u001b[K\r",
      "remote: Counting objects:  83% (259/311)   \u001b[K\r",
      "remote: Counting objects:  84% (262/311)   \u001b[K\r",
      "remote: Counting objects:  85% (265/311)   \u001b[K\r",
      "remote: Counting objects:  86% (268/311)   \u001b[K\r",
      "remote: Counting objects:  87% (271/311)   \u001b[K\r",
      "remote: Counting objects:  88% (274/311)   \u001b[K\r",
      "remote: Counting objects:  89% (277/311)   \u001b[K\r",
      "remote: Counting objects:  90% (280/311)   \u001b[K\r",
      "remote: Counting objects:  91% (284/311)   \u001b[K\r",
      "remote: Counting objects:  92% (287/311)   \u001b[K\r",
      "remote: Counting objects:  93% (290/311)   \u001b[K\r",
      "remote: Counting objects:  94% (293/311)   \u001b[K\r",
      "remote: Counting objects:  95% (296/311)   \u001b[K\r",
      "remote: Counting objects:  96% (299/311)   \u001b[K\r",
      "remote: Counting objects:  97% (302/311)   \u001b[K\r",
      "remote: Counting objects:  98% (305/311)   \u001b[K\r",
      "remote: Counting objects:  99% (308/311)   \u001b[K\r",
      "remote: Counting objects: 100% (311/311)   \u001b[K\r",
      "remote: Counting objects: 100% (311/311), done.\u001b[K\r\n",
      "remote: Compressing objects:   0% (1/158)   \u001b[K\r",
      "remote: Compressing objects:   1% (2/158)   \u001b[K\r",
      "remote: Compressing objects:   2% (4/158)   \u001b[K\r",
      "remote: Compressing objects:   3% (5/158)   \u001b[K\r",
      "remote: Compressing objects:   4% (7/158)   \u001b[K\r",
      "remote: Compressing objects:   5% (8/158)   \u001b[K\r",
      "remote: Compressing objects:   6% (10/158)   \u001b[K\r",
      "remote: Compressing objects:   7% (12/158)   \u001b[K\r",
      "remote: Compressing objects:   8% (13/158)   \u001b[K\r",
      "remote: Compressing objects:   9% (15/158)   \u001b[K\r",
      "remote: Compressing objects:  10% (16/158)   \u001b[K\r",
      "remote: Compressing objects:  11% (18/158)   \u001b[K\r",
      "remote: Compressing objects:  12% (19/158)   \u001b[K\r",
      "remote: Compressing objects:  13% (21/158)   \u001b[K\r",
      "remote: Compressing objects:  14% (23/158)   \u001b[K\r",
      "remote: Compressing objects:  15% (24/158)   \u001b[K\r",
      "remote: Compressing objects:  16% (26/158)   \u001b[K\r",
      "remote: Compressing objects:  17% (27/158)   \u001b[K\r",
      "remote: Compressing objects:  18% (29/158)   \u001b[K\r",
      "remote: Compressing objects:  19% (31/158)   \u001b[K\r",
      "remote: Compressing objects:  20% (32/158)   \u001b[K\r",
      "remote: Compressing objects:  21% (34/158)   \u001b[K\r",
      "remote: Compressing objects:  22% (35/158)   \u001b[K\r",
      "remote: Compressing objects:  23% (37/158)   \u001b[K\r",
      "remote: Compressing objects:  24% (38/158)   \u001b[K\r",
      "remote: Compressing objects:  25% (40/158)   \u001b[K\r",
      "remote: Compressing objects:  26% (42/158)   \u001b[K\r",
      "remote: Compressing objects:  27% (43/158)   \u001b[K\r",
      "remote: Compressing objects:  28% (45/158)   \u001b[K\r",
      "remote: Compressing objects:  29% (46/158)   \u001b[K\r",
      "remote: Compressing objects:  30% (48/158)   \u001b[K\r",
      "remote: Compressing objects:  31% (49/158)   \u001b[K\r",
      "remote: Compressing objects:  32% (51/158)   \u001b[K\r",
      "remote: Compressing objects:  33% (53/158)   \u001b[K\r",
      "remote: Compressing objects:  34% (54/158)   \u001b[K\r",
      "remote: Compressing objects:  35% (56/158)   \u001b[K\r",
      "remote: Compressing objects:  36% (57/158)   \u001b[K\r",
      "remote: Compressing objects:  37% (59/158)   \u001b[K\r",
      "remote: Compressing objects:  38% (61/158)   \u001b[K\r",
      "remote: Compressing objects:  39% (62/158)   \u001b[K\r",
      "remote: Compressing objects:  40% (64/158)   \u001b[K\r",
      "remote: Compressing objects:  41% (65/158)   \u001b[K\r",
      "remote: Compressing objects:  42% (67/158)   \u001b[K\r",
      "remote: Compressing objects:  43% (68/158)   \u001b[K\r",
      "remote: Compressing objects:  44% (70/158)   \u001b[K\r",
      "remote: Compressing objects:  45% (72/158)   \u001b[K\r",
      "remote: Compressing objects:  46% (73/158)   \u001b[K\r",
      "remote: Compressing objects:  47% (75/158)   \u001b[K\r",
      "remote: Compressing objects:  48% (76/158)   \u001b[K\r",
      "remote: Compressing objects:  49% (78/158)   \u001b[K\r",
      "remote: Compressing objects:  50% (79/158)   \u001b[K\r",
      "remote: Compressing objects:  51% (81/158)   \u001b[K\r",
      "remote: Compressing objects:  52% (83/158)   \u001b[K\r",
      "remote: Compressing objects:  53% (84/158)   \u001b[K\r",
      "remote: Compressing objects:  54% (86/158)   \u001b[K\r",
      "remote: Compressing objects:  55% (87/158)   \u001b[K\r",
      "remote: Compressing objects:  56% (89/158)   \u001b[K\r",
      "remote: Compressing objects:  57% (91/158)   \u001b[K\r",
      "remote: Compressing objects:  58% (92/158)   \u001b[K\r",
      "remote: Compressing objects:  59% (94/158)   \u001b[K\r",
      "remote: Compressing objects:  60% (95/158)   \u001b[K\r",
      "remote: Compressing objects:  61% (97/158)   \u001b[K\r",
      "remote: Compressing objects:  62% (98/158)   \u001b[K\r",
      "remote: Compressing objects:  63% (100/158)   \u001b[K\r",
      "remote: Compressing objects:  64% (102/158)   \u001b[K\r",
      "remote: Compressing objects:  65% (103/158)   \u001b[K\r",
      "remote: Compressing objects:  66% (105/158)   \u001b[K\r",
      "remote: Compressing objects:  67% (106/158)   \u001b[K\r",
      "remote: Compressing objects:  68% (108/158)   \u001b[K\r",
      "remote: Compressing objects:  69% (110/158)   \u001b[K\r",
      "remote: Compressing objects:  70% (111/158)   \u001b[K\r",
      "remote: Compressing objects:  71% (113/158)   \u001b[K\r",
      "remote: Compressing objects:  72% (114/158)   \u001b[K\r",
      "remote: Compressing objects:  73% (116/158)   \u001b[K\r",
      "remote: Compressing objects:  74% (117/158)   \u001b[K\r",
      "remote: Compressing objects:  75% (119/158)   \u001b[K\r",
      "remote: Compressing objects:  76% (121/158)   \u001b[K\r",
      "remote: Compressing objects:  77% (122/158)   \u001b[K\r",
      "remote: Compressing objects:  78% (124/158)   \u001b[K\r",
      "remote: Compressing objects:  79% (125/158)   \u001b[K\r",
      "remote: Compressing objects:  80% (127/158)   \u001b[K\r",
      "remote: Compressing objects:  81% (128/158)   \u001b[K\r",
      "remote: Compressing objects:  82% (130/158)   \u001b[K\r",
      "remote: Compressing objects:  83% (132/158)   \u001b[K\r",
      "remote: Compressing objects:  84% (133/158)   \u001b[K\r",
      "remote: Compressing objects:  85% (135/158)   \u001b[K\r",
      "remote: Compressing objects:  86% (136/158)   \u001b[K\r",
      "remote: Compressing objects:  87% (138/158)   \u001b[K\r",
      "remote: Compressing objects:  88% (140/158)   \u001b[K\r",
      "remote: Compressing objects:  89% (141/158)   \u001b[K\r",
      "remote: Compressing objects:  90% (143/158)   \u001b[K\r",
      "remote: Compressing objects:  91% (144/158)   \u001b[K\r",
      "remote: Compressing objects:  92% (146/158)   \u001b[K\r",
      "remote: Compressing objects:  93% (147/158)   \u001b[K\r",
      "remote: Compressing objects:  94% (149/158)   \u001b[K\r",
      "remote: Compressing objects:  95% (151/158)   \u001b[K\r",
      "remote: Compressing objects:  96% (152/158)   \u001b[K\r",
      "remote: Compressing objects:  97% (154/158)   \u001b[K\r",
      "remote: Compressing objects:  98% (155/158)   \u001b[K\r",
      "remote: Compressing objects:  99% (157/158)   \u001b[K\r",
      "remote: Compressing objects: 100% (158/158)   \u001b[K\r",
      "remote: Compressing objects: 100% (158/158), done.\u001b[K\r\n",
      "Receiving objects:   0% (1/311)   \r",
      "Receiving objects:   1% (4/311)   \r",
      "Receiving objects:   2% (7/311)   \r",
      "Receiving objects:   3% (10/311)   \r",
      "Receiving objects:   4% (13/311)   \r",
      "Receiving objects:   5% (16/311)   \r",
      "Receiving objects:   6% (19/311)   \r",
      "Receiving objects:   7% (22/311)   \r",
      "Receiving objects:   8% (25/311)   \r",
      "Receiving objects:   9% (28/311)   \r",
      "Receiving objects:  10% (32/311)   \r",
      "Receiving objects:  11% (35/311)   \r",
      "Receiving objects:  12% (38/311)   \r",
      "Receiving objects:  13% (41/311)   \r",
      "Receiving objects:  14% (44/311)   \r",
      "Receiving objects:  15% (47/311)   \r",
      "Receiving objects:  16% (50/311)   \r",
      "Receiving objects:  17% (53/311)   \r",
      "Receiving objects:  18% (56/311)   \r",
      "Receiving objects:  19% (60/311)   \r",
      "Receiving objects:  20% (63/311)   \r",
      "Receiving objects:  21% (66/311)   \r",
      "Receiving objects:  22% (69/311)   \r",
      "Receiving objects:  23% (72/311)   \r",
      "Receiving objects:  24% (75/311)   \r",
      "Receiving objects:  25% (78/311)   \r",
      "Receiving objects:  26% (81/311)   \r",
      "Receiving objects:  27% (84/311)   \r",
      "Receiving objects:  28% (88/311)   \r",
      "Receiving objects:  29% (91/311)   \r",
      "Receiving objects:  30% (94/311)   \r",
      "Receiving objects:  31% (97/311)   \r",
      "Receiving objects:  32% (100/311)   \r",
      "Receiving objects:  33% (103/311)   \r",
      "Receiving objects:  34% (106/311)   \r",
      "Receiving objects:  35% (109/311)   \r",
      "Receiving objects:  36% (112/311)   \r",
      "Receiving objects:  37% (116/311)   \r",
      "Receiving objects:  38% (119/311)   \r",
      "Receiving objects:  39% (122/311)   \r",
      "Receiving objects:  40% (125/311)   \r",
      "Receiving objects:  41% (128/311)   \r",
      "Receiving objects:  42% (131/311)   \r",
      "Receiving objects:  43% (134/311)   \r",
      "Receiving objects:  44% (137/311)   \r",
      "Receiving objects:  45% (140/311)   \r",
      "Receiving objects:  46% (144/311)   \r",
      "Receiving objects:  47% (147/311)   \r",
      "Receiving objects:  48% (150/311)   \r",
      "Receiving objects:  49% (153/311)   \r",
      "Receiving objects:  50% (156/311)   \r",
      "Receiving objects:  51% (159/311)   \r",
      "Receiving objects:  52% (162/311)   \r",
      "Receiving objects:  53% (165/311)   \r",
      "Receiving objects:  54% (168/311)   \r",
      "Receiving objects:  55% (172/311)   \r",
      "Receiving objects:  56% (175/311)   \r",
      "Receiving objects:  57% (178/311)   \r",
      "Receiving objects:  58% (181/311)   \r",
      "Receiving objects:  59% (184/311)   \r",
      "Receiving objects:  60% (187/311)   \r",
      "Receiving objects:  61% (190/311)   \r",
      "Receiving objects:  62% (193/311)   \r",
      "Receiving objects:  63% (196/311)   \r",
      "Receiving objects:  64% (200/311)   \r",
      "Receiving objects:  65% (203/311)   \r",
      "Receiving objects:  66% (206/311)   \r",
      "Receiving objects:  67% (209/311)   \r",
      "Receiving objects:  68% (212/311)   \r",
      "Receiving objects:  69% (215/311)   \r",
      "Receiving objects:  70% (218/311)   \r",
      "Receiving objects:  71% (221/311)   \r",
      "Receiving objects:  72% (224/311)   \r",
      "Receiving objects:  73% (228/311)   \r",
      "Receiving objects:  74% (231/311)   \r",
      "Receiving objects:  75% (234/311)   \r",
      "Receiving objects:  76% (237/311)   \r",
      "Receiving objects:  77% (240/311)   \r",
      "Receiving objects:  78% (243/311)   \r",
      "Receiving objects:  79% (246/311)   \r",
      "Receiving objects:  80% (249/311)   \r",
      "Receiving objects:  81% (252/311)   \r",
      "Receiving objects:  82% (256/311)   \r",
      "Receiving objects:  83% (259/311)   \r",
      "Receiving objects:  84% (262/311)   \r",
      "Receiving objects:  85% (265/311)   \r",
      "Receiving objects:  86% (268/311)   \r",
      "Receiving objects:  87% (271/311)   \r",
      "Receiving objects:  88% (274/311)   \r",
      "Receiving objects:  89% (277/311)   \r",
      "Receiving objects:  90% (280/311)   \r",
      "remote: Total 311 (delta 179), reused 279 (delta 147)\u001b[K\r\n",
      "Receiving objects:  91% (284/311)   \r",
      "Receiving objects:  92% (287/311)   \r",
      "Receiving objects:  93% (290/311)   \r",
      "Receiving objects:  94% (293/311)   \r",
      "Receiving objects:  95% (296/311)   \r",
      "Receiving objects:  96% (299/311)   \r",
      "Receiving objects:  97% (302/311)   \r",
      "Receiving objects:  98% (305/311)   \r",
      "Receiving objects:  99% (308/311)   \r",
      "Receiving objects: 100% (311/311)   \r",
      "Receiving objects: 100% (311/311), 454.22 KiB | 0 bytes/s, done.\r\n",
      "Resolving deltas:   0% (0/179)   \r",
      "Resolving deltas:   4% (8/179)   \r",
      "Resolving deltas:   5% (9/179)   \r",
      "Resolving deltas:  12% (23/179)   \r",
      "Resolving deltas:  18% (33/179)   \r",
      "Resolving deltas:  27% (49/179)   \r",
      "Resolving deltas:  29% (53/179)   \r",
      "Resolving deltas:  37% (67/179)   \r",
      "Resolving deltas:  40% (73/179)   \r",
      "Resolving deltas:  41% (75/179)   \r",
      "Resolving deltas:  43% (77/179)   \r",
      "Resolving deltas:  45% (81/179)   \r",
      "Resolving deltas:  46% (83/179)   \r",
      "Resolving deltas:  48% (86/179)   \r",
      "Resolving deltas:  49% (89/179)   \r",
      "Resolving deltas:  51% (92/179)   \r",
      "Resolving deltas:  53% (95/179)   \r",
      "Resolving deltas:  54% (97/179)   \r",
      "Resolving deltas:  55% (100/179)   \r",
      "Resolving deltas:  56% (101/179)   \r",
      "Resolving deltas:  63% (114/179)   \r",
      "Resolving deltas:  64% (115/179)   \r",
      "Resolving deltas:  67% (120/179)   \r",
      "Resolving deltas:  69% (124/179)   \r",
      "Resolving deltas:  70% (127/179)   \r",
      "Resolving deltas:  76% (137/179)   \r",
      "Resolving deltas:  77% (138/179)   \r",
      "Resolving deltas:  79% (143/179)   \r",
      "Resolving deltas:  80% (144/179)   \r",
      "Resolving deltas:  81% (145/179)   \r",
      "Resolving deltas:  82% (147/179)   \r",
      "Resolving deltas:  83% (150/179)   \r",
      "Resolving deltas:  86% (155/179)   \r",
      "Resolving deltas:  87% (156/179)   \r",
      "Resolving deltas:  90% (162/179)   \r",
      "Resolving deltas:  91% (163/179)   \r",
      "Resolving deltas: 100% (179/179)   \r",
      "Resolving deltas: 100% (179/179), done.\r\n",
      "Checking connectivity... done.\r\n"
     ]
    }
   ],
   "source": [
    "system(\"git clone https://gitlab.cern.ch/lserkin/atlas-outreach-cpp-framework-13tev.git\");"
   ]
  },
  {
   "cell_type": "markdown",
   "metadata": {},
   "source": [
    "### 1.4 Prepare the 13 TeV dataset"
   ]
  },
  {
   "cell_type": "markdown",
   "metadata": {},
   "source": [
    "- Change your current path"
   ]
  },
  {
   "cell_type": "code",
   "execution_count": 12,
   "metadata": {
    "collapsed": false
   },
   "outputs": [
    {
     "name": "stdout",
     "output_type": "stream",
     "text": [
      "(int) 0\r\n"
     ]
    }
   ],
   "source": [
    "chdir(\"atlas-outreach-cpp-framework-13tev\")"
   ]
  },
  {
   "cell_type": "markdown",
   "metadata": {},
   "source": [
    "- print your current path"
   ]
  },
  {
   "cell_type": "code",
   "execution_count": 14,
   "metadata": {
    "collapsed": false
   },
   "outputs": [
    {
     "name": "stdout",
     "output_type": "stream",
     "text": [
      "/home/student/demos-framework-software-notebooks/cpp-13tev/atlas-outreach-cpp-framework-13tev\r\n",
      "(int) 0\r\n"
     ]
    }
   ],
   "source": [
    "system(\"pwd\")"
   ]
  },
  {
   "cell_type": "markdown",
   "metadata": {},
   "source": [
    "- Print your current time"
   ]
  },
  {
   "cell_type": "code",
   "execution_count": 16,
   "metadata": {
    "collapsed": false
   },
   "outputs": [
    {
     "name": "stdout",
     "output_type": "stream",
     "text": [
      "Mon Jul 22 11:47:09 CEST 2019\r\n",
      "(int) 0\r\n"
     ]
    }
   ],
   "source": [
    "system(\"date\")"
   ]
  },
  {
   "cell_type": "markdown",
   "metadata": {},
   "source": [
    "- Download dataset"
   ]
  },
  {
   "cell_type": "code",
   "execution_count": 17,
   "metadata": {
    "collapsed": false
   },
   "outputs": [
    {
     "name": "stdout",
     "output_type": "stream",
     "text": [
      "(int) 0\r\n"
     ]
    },
    {
     "name": "stderr",
     "output_type": "stream",
     "text": [
      "--2019-07-22 11:47:34--  http://opendata.atlas.cern/release/samples/2019/GamGam/ATLAS-open-data-13TeV-2019-GamGam.zip\r\n",
      "Resolving opendata.atlas.cern (opendata.atlas.cern)... 188.184.64.13\r\n",
      "Connecting to opendata.atlas.cern (opendata.atlas.cern)|188.184.64.13|:80... connected.\r\n",
      "HTTP request sent, awaiting response... 200 OK\r\n",
      "Length: 2304889220 (2.1G) [application/zip]\r\n",
      "Saving to: ‘ATLAS-open-data-13TeV-2019-GamGam.zip’\r\n",
      "\r\n",
      "\r",
      "ATLAS-open-data-13T   0%[                      ]       0  --.-KB/s             \r",
      "TLAS-open-data-13Te   0%[                      ]   1.86M  9.24MB/s             \r",
      "LAS-open-data-13TeV   0%[                      ]   4.94M  12.3MB/s             \r",
      "AS-open-data-13TeV-   0%[                      ]  11.01M  18.3MB/s             \r",
      "S-open-data-13TeV-2   0%[                      ]  17.37M  21.6MB/s             \r",
      "-open-data-13TeV-20   1%[                      ]  23.95M  23.9MB/s             \r",
      "open-data-13TeV-201   1%[                      ]  30.35M  25.2MB/s             \r",
      "pen-data-13TeV-2019   1%[                      ]  36.67M  26.1MB/s             \r",
      "en-data-13TeV-2019-   1%[                      ]  43.17M  26.9MB/s             \r",
      "n-data-13TeV-2019-G   2%[                      ]  49.58M  27.4MB/s             \r",
      "-data-13TeV-2019-Ga   2%[                      ]  55.36M  27.5MB/s             \r",
      "data-13TeV-2019-Gam   2%[                      ]  61.15M  27.7MB/s             \r",
      "ata-13TeV-2019-GamG   3%[                      ]  67.44M  28.0MB/s             \r",
      "ta-13TeV-2019-GamGa   3%[                      ]  74.09M  28.3MB/s             \r",
      "a-13TeV-2019-GamGam   3%[                      ]  80.82M  28.7MB/s             \r",
      "-13TeV-2019-GamGam.   3%[                      ]  86.64M  28.6MB/s   eta 74s   \r",
      "13TeV-2019-GamGam.z   4%[                      ]  91.14M  29.2MB/s   eta 74s   \r",
      "3TeV-2019-GamGam.zi   4%[                      ]  98.28M  30.2MB/s   eta 74s   \r",
      "TeV-2019-GamGam.zip   4%[>                     ] 105.93M  31.1MB/s   eta 74s   \r",
      "ATLAS-open-data-13T   5%[>                     ] 111.94M  30.9MB/s   eta 74s   \r",
      "TLAS-open-data-13Te   5%[>                     ] 117.94M  30.6MB/s   eta 72s   \r",
      "LAS-open-data-13TeV   5%[>                     ] 125.94M  31.0MB/s   eta 72s   \r",
      "AS-open-data-13TeV-   5%[>                     ] 128.25M  29.8MB/s   eta 72s   \r",
      "S-open-data-13TeV-2   6%[>                     ] 135.96M  29.8MB/s   eta 72s   \r",
      "-open-data-13TeV-20   6%[>                     ] 139.43M  28.8MB/s   eta 72s   \r",
      "open-data-13TeV-201   6%[>                     ] 145.96M  28.5MB/s   eta 73s   \r",
      "pen-data-13TeV-2019   7%[>                     ] 153.96M  29.2MB/s   eta 73s   \r",
      "en-data-13TeV-2019-   7%[>                     ] 161.81M  29.6MB/s   eta 73s   \r",
      "n-data-13TeV-2019-G   7%[>                     ] 167.10M  29.4MB/s   eta 73s   \r",
      "-data-13TeV-2019-Ga   7%[>                     ] 171.43M  28.6MB/s   eta 73s   \r",
      "data-13TeV-2019-Gam   8%[>                     ] 177.92M  28.4MB/s   eta 71s   \r",
      "ata-13TeV-2019-GamG   8%[>                     ] 185.70M  29.2MB/s   eta 71s   \r",
      "ta-13TeV-2019-GamGa   8%[>                     ] 192.04M  29.3MB/s   eta 71s   \r",
      "a-13TeV-2019-GamGam   9%[>                     ] 198.17M  28.9MB/s   eta 71s   \r",
      "-13TeV-2019-GamGam.   9%[=>                    ] 203.92M  28.4MB/s   eta 71s   \r",
      "13TeV-2019-GamGam.z   9%[=>                    ] 206.58M  27.7MB/s   eta 70s   \r",
      "3TeV-2019-GamGam.zi   9%[=>                    ] 209.93M  26.7MB/s   eta 70s   \r",
      "TeV-2019-GamGam.zip   9%[=>                    ] 215.93M  26.5MB/s   eta 70s   \r",
      "ATLAS-open-data-13T  10%[=>                    ] 221.93M  27.5MB/s   eta 70s   \r",
      "TLAS-open-data-13Te  10%[=>                    ] 228.46M  27.4MB/s   eta 70s   \r",
      "LAS-open-data-13TeV  10%[=>                    ] 234.04M  27.8MB/s   eta 70s   \r",
      "AS-open-data-13TeV-  10%[=>                    ] 239.93M  27.8MB/s   eta 70s   \r",
      "S-open-data-13TeV-2  11%[=>                    ] 244.91M  27.3MB/s   eta 70s   \r",
      "-open-data-13TeV-20  11%[=>                    ] 249.93M  26.5MB/s   eta 70s   \r",
      "open-data-13TeV-201  11%[=>                    ] 257.77M  27.0MB/s   eta 70s   \r",
      "pen-data-13TeV-2019  12%[=>                    ] 263.93M  27.2MB/s   eta 69s   \r",
      "en-data-13TeV-2019-  12%[=>                    ] 270.14M  27.4MB/s   eta 69s   \r",
      "n-data-13TeV-2019-G  12%[=>                    ] 275.93M  27.3MB/s   eta 69s   \r",
      "-data-13TeV-2019-Ga  12%[=>                    ] 282.79M  27.4MB/s   eta 69s   \r",
      "data-13TeV-2019-Gam  13%[=>                    ] 285.93M  26.1MB/s   eta 69s   \r",
      "ata-13TeV-2019-GamG  13%[=>                    ] 291.93M  25.8MB/s   eta 68s   \r",
      "ta-13TeV-2019-GamGa  13%[=>                    ] 295.93M  25.5MB/s   eta 68s   \r",
      "a-13TeV-2019-GamGam  13%[==>                   ] 302.86M  27.2MB/s   eta 68s   \r",
      "-13TeV-2019-GamGam.  14%[==>                   ] 308.01M  26.6MB/s   eta 68s   \r",
      "13TeV-2019-GamGam.z  14%[==>                   ] 313.93M  26.8MB/s   eta 68s   \r",
      "3TeV-2019-GamGam.zi  14%[==>                   ] 319.93M  26.6MB/s   eta 68s   \r",
      "TeV-2019-GamGam.zip  14%[==>                   ] 324.32M  25.8MB/s   eta 68s   \r",
      "ATLAS-open-data-13T  15%[==>                   ] 330.79M  26.5MB/s   eta 68s   \r",
      "TLAS-open-data-13Te  15%[==>                   ] 333.98M  25.8MB/s   eta 68s   \r",
      "LAS-open-data-13TeV  15%[==>                   ] 339.93M  26.2MB/s   eta 68s   \r",
      "AS-open-data-13TeV-  15%[==>                   ] 343.93M  25.7MB/s   eta 68s   \r",
      "S-open-data-13TeV-2  16%[==>                   ] 359.61M  28.3MB/s   eta 68s   \r",
      "-open-data-13TeV-20  16%[==>                   ] 366.05M  28.1MB/s   eta 68s   \r",
      "open-data-13TeV-201  16%[==>                   ] 372.24M  28.3MB/s   eta 68s   \r",
      "pen-data-13TeV-2019  16%[==>                   ] 373.22M  27.2MB/s   eta 68s   \r",
      "en-data-13TeV-2019-  17%[==>                   ] 379.72M  27.9MB/s   eta 65s   \r",
      "n-data-13TeV-2019-G  17%[==>                   ] 390.04M  30.1MB/s   eta 65s   \r",
      "-data-13TeV-2019-Ga  17%[==>                   ] 395.60M  29.8MB/s   eta 65s   \r",
      "data-13TeV-2019-Gam  18%[===>                  ] 403.48M  30.5MB/s   eta 65s   \r",
      "ata-13TeV-2019-GamG  18%[===>                  ] 409.83M  31.2MB/s   eta 65s   \r",
      "ta-13TeV-2019-GamGa  18%[===>                  ] 415.56M  31.0MB/s   eta 63s   \r",
      "a-13TeV-2019-GamGam  19%[===>                  ] 421.81M  31.9MB/s   eta 63s   \r",
      "-13TeV-2019-GamGam.  19%[===>                  ] 425.37M  30.8MB/s   eta 63s   \r",
      "13TeV-2019-GamGam.z  19%[===>                  ] 431.99M  31.5MB/s   eta 63s   \r",
      "3TeV-2019-GamGam.zi  19%[===>                  ] 437.01M  31.7MB/s   eta 63s   \r",
      "TeV-2019-GamGam.zip  20%[===>                  ] 443.41M  32.6MB/s   eta 62s   \r",
      "ATLAS-open-data-13T  20%[===>                  ] 449.82M  31.2MB/s   eta 62s   \r",
      "TLAS-open-data-13Te  20%[===>                  ] 456.47M  30.1MB/s   eta 62s   \r",
      "LAS-open-data-13TeV  20%[===>                  ] 460.15M  29.0MB/s   eta 62s   \r",
      "AS-open-data-13TeV-  21%[===>                  ] 469.60M  30.6MB/s   eta 62s   \r",
      "S-open-data-13TeV-2  21%[===>                  ] 475.66M  31.8MB/s   eta 60s   \r",
      "-open-data-13TeV-20  21%[===>                  ] 482.18M  31.8MB/s   eta 60s   \r",
      "open-data-13TeV-201  22%[===>                  ] 488.53M  29.9MB/s   eta 60s   \r",
      "pen-data-13TeV-2019  22%[===>                  ] 494.92M  30.4MB/s   eta 60s   \r",
      "en-data-13TeV-2019-  22%[====>                 ] 500.23M  29.8MB/s   eta 60s   \r",
      "n-data-13TeV-2019-G  23%[====>                 ] 507.73M  30.3MB/s   eta 59s   \r",
      "-data-13TeV-2019-Ga  23%[====>                 ] 514.35M  30.5MB/s   eta 59s   \r",
      "data-13TeV-2019-Gam  23%[====>                 ] 520.98M  30.9MB/s   eta 59s   \r",
      "ata-13TeV-2019-GamG  23%[====>                 ] 527.37M  31.1MB/s   eta 59s   \r",
      "ta-13TeV-2019-GamGa  24%[====>                 ] 533.90M  31.6MB/s   eta 59s   \r",
      "a-13TeV-2019-GamGam  24%[====>                 ] 538.81M  30.7MB/s   eta 58s   \r",
      "-13TeV-2019-GamGam.  24%[====>                 ] 540.71M  29.2MB/s   eta 58s   \r",
      "13TeV-2019-GamGam.z  25%[====>                 ] 552.29M  30.9MB/s   eta 58s   \r",
      "3TeV-2019-GamGam.zi  25%[====>                 ] 561.06M  31.5MB/s   eta 58s   \r",
      "TeV-2019-GamGam.zip  25%[====>                 ] 567.60M  32.6MB/s   eta 58s   \r",
      "ATLAS-open-data-13T  26%[====>                 ] 574.17M  32.5MB/s   eta 56s   \r",
      "TLAS-open-data-13Te  26%[====>                 ] 580.39M  31.8MB/s   eta 56s   \r",
      "LAS-open-data-13TeV  26%[====>                 ] 586.89M  31.9MB/s   eta 56s   \r",
      "AS-open-data-13TeV-  26%[====>                 ] 593.39M  31.9MB/s   eta 56s   \r",
      "S-open-data-13TeV-2  27%[=====>                ] 599.84M  31.9MB/s   eta 56s   \r",
      "-open-data-13TeV-20  27%[=====>                ] 606.04M  31.8MB/s   eta 54s   \r",
      "open-data-13TeV-201  27%[=====>                ] 612.47M  32.1MB/s   eta 54s   \r",
      "pen-data-13TeV-2019  28%[=====>                ] 618.89M  31.8MB/s   eta 54s   \r",
      "en-data-13TeV-2019-  28%[=====>                ] 625.12M  31.8MB/s   eta 54s   \r",
      "n-data-13TeV-2019-G  28%[=====>                ] 631.77M  32.4MB/s   eta 54s   \r",
      "-data-13TeV-2019-Ga  29%[=====>                ] 638.26M  31.7MB/s   eta 53s   \r",
      "data-13TeV-2019-Gam  29%[=====>                ] 644.55M  34.5MB/s   eta 53s   \r",
      "ata-13TeV-2019-GamG  29%[=====>                ] 650.83M  33.7MB/s   eta 53s   \r",
      "ta-13TeV-2019-GamGa  29%[=====>                ] 657.36M  31.9MB/s   eta 53s   \r",
      "a-13TeV-2019-GamGam  30%[=====>                ] 663.51M  31.8MB/s   eta 53s   \r",
      "-13TeV-2019-GamGam.  30%[=====>                ] 668.06M  31.2MB/s   eta 52s   \r",
      "13TeV-2019-GamGam.z  30%[=====>                ] 675.85M  31.6MB/s   eta 52s   \r",
      "3TeV-2019-GamGam.zi  31%[=====>                ] 681.99M  31.6MB/s   eta 52s   \r",
      "TeV-2019-GamGam.zip  31%[=====>                ] 688.45M  31.6MB/s   eta 52s   \r",
      "ATLAS-open-data-13T  31%[=====>                ] 694.91M  31.6MB/s   eta 52s   \r",
      "TLAS-open-data-13Te  31%[======>               ] 701.35M  31.6MB/s   eta 51s   \r",
      "LAS-open-data-13TeV  32%[======>               ] 705.46M  30.8MB/s   eta 51s   \r",
      "AS-open-data-13TeV-  32%[======>               ] 708.57M  29.2MB/s   eta 51s   \r",
      "S-open-data-13TeV-2  32%[======>               ] 721.44M  31.3MB/s   eta 51s   \r",
      "-open-data-13TeV-20  33%[======>               ] 727.96M  31.8MB/s   eta 51s   \r",
      "open-data-13TeV-201  33%[======>               ] 734.25M  31.2MB/s   eta 49s   \r",
      "pen-data-13TeV-2019  33%[======>               ] 740.46M  31.2MB/s   eta 49s   \r",
      "en-data-13TeV-2019-  33%[======>               ] 745.59M  30.9MB/s   eta 49s   \r",
      "n-data-13TeV-2019-G  34%[======>               ] 751.50M  30.7MB/s   eta 49s   \r",
      "-data-13TeV-2019-Ga  34%[======>               ] 756.96M  30.4MB/s   eta 49s   \r",
      "data-13TeV-2019-Gam  34%[======>               ] 763.14M  31.0MB/s   eta 49s   \r",
      "ata-13TeV-2019-GamG  34%[======>               ] 769.32M  30.4MB/s   eta 49s   \r",
      "ta-13TeV-2019-GamGa  35%[======>               ] 775.03M  30.3MB/s   eta 49s   \r",
      "a-13TeV-2019-GamGam  35%[======>               ] 781.58M  30.5MB/s   eta 49s   \r",
      "-13TeV-2019-GamGam.  35%[======>               ] 787.71M  30.3MB/s   eta 49s   \r",
      "13TeV-2019-GamGam.z  36%[======>               ] 792.39M  29.7MB/s   eta 48s   \r",
      "3TeV-2019-GamGam.zi  36%[=======>              ] 800.35M  30.2MB/s   eta 48s   \r",
      "TeV-2019-GamGam.zip  36%[=======>              ] 806.51M  31.4MB/s   eta 48s   \r",
      "ATLAS-open-data-13T  36%[=======>              ] 812.73M  30.3MB/s   eta 48s   \r",
      "TLAS-open-data-13Te  37%[=======>              ] 819.23M  30.6MB/s   eta 48s   \r",
      "LAS-open-data-13TeV  37%[=======>              ] 825.06M  30.2MB/s   eta 46s   \r",
      "AS-open-data-13TeV-  37%[=======>              ] 830.00M  29.7MB/s   eta 46s   \r",
      "S-open-data-13TeV-2  37%[=======>              ] 833.08M  28.9MB/s   eta 46s   \r",
      "-open-data-13TeV-20  38%[=======>              ] 838.57M  28.8MB/s   eta 46s   \r",
      "open-data-13TeV-201  38%[=======>              ] 843.31M  28.6MB/s   eta 46s   \r",
      "pen-data-13TeV-2019  38%[=======>              ] 847.82M  28.1MB/s   eta 46s   \r",
      "en-data-13TeV-2019-  38%[=======>              ] 852.65M  27.7MB/s   eta 46s   \r",
      "n-data-13TeV-2019-G  39%[=======>              ] 858.19M  27.4MB/s   eta 46s   \r",
      "-data-13TeV-2019-Ga  39%[=======>              ] 864.56M  27.6MB/s   eta 46s   \r",
      "data-13TeV-2019-Gam  39%[=======>              ] 870.78M  27.6MB/s   eta 46s   \r",
      "ata-13TeV-2019-GamG  39%[=======>              ] 873.51M  26.5MB/s   eta 45s   \r",
      "ta-13TeV-2019-GamGa  40%[=======>              ] 883.56M  27.6MB/s   eta 45s   \r",
      "a-13TeV-2019-GamGam  40%[=======>              ] 889.98M  27.8MB/s   eta 45s   \r",
      "-13TeV-2019-GamGam.  40%[=======>              ] 896.17M  27.6MB/s   eta 45s   \r",
      "13TeV-2019-GamGam.z  41%[========>             ] 902.56M  27.7MB/s   eta 45s   \r",
      "3TeV-2019-GamGam.zi  41%[========>             ] 909.06M  27.8MB/s   eta 44s   \r",
      "TeV-2019-GamGam.zip  41%[========>             ] 915.24M  28.0MB/s   eta 44s   \r",
      "ATLAS-open-data-13T  41%[========>             ] 921.65M  28.8MB/s   eta 44s   \r",
      "TLAS-open-data-13Te  42%[========>             ] 927.77M  29.1MB/s   eta 44s   \r",
      "LAS-open-data-13TeV  42%[========>             ] 933.95M  29.9MB/s   eta 44s   \r",
      "AS-open-data-13TeV-  42%[========>             ] 940.30M  30.3MB/s   eta 43s   \r",
      "S-open-data-13TeV-2  43%[========>             ] 946.73M  30.8MB/s   eta 43s   \r",
      "-open-data-13TeV-20  43%[========>             ] 953.04M  31.4MB/s   eta 43s   \r",
      "open-data-13TeV-201  43%[========>             ] 959.28M  31.4MB/s   eta 43s   \r",
      "pen-data-13TeV-2019  43%[========>             ] 966.01M  31.5MB/s   eta 43s   \r",
      "en-data-13TeV-2019-  44%[========>             ] 972.43M  32.5MB/s   eta 41s   \r",
      "n-data-13TeV-2019-G  44%[========>             ] 978.92M  32.7MB/s   eta 41s   \r",
      "-data-13TeV-2019-Ga  44%[========>             ] 985.36M  31.6MB/s   eta 41s   \r",
      "data-13TeV-2019-Gam  45%[========>             ] 991.80M  31.6MB/s   eta 41s   \r",
      "ata-13TeV-2019-GamG  45%[========>             ] 998.22M  31.7MB/s   eta 41s   \r",
      "ta-13TeV-2019-GamGa  45%[=========>            ]   1002M  30.7MB/s   eta 40s   \r",
      "a-13TeV-2019-GamGam  46%[=========>            ]   1011M  31.8MB/s   eta 40s   \r",
      "-13TeV-2019-GamGam.  46%[=========>            ]   1017M  31.7MB/s   eta 40s   \r",
      "13TeV-2019-GamGam.z  46%[=========>            ]   1024M  31.8MB/s   eta 40s   \r",
      "3TeV-2019-GamGam.zi  46%[=========>            ]   1.01G  31.9MB/s   eta 40s   \r",
      "TeV-2019-GamGam.zip  47%[=========>            ]   1.01G  31.9MB/s   eta 39s   \r",
      "ATLAS-open-data-13T  47%[=========>            ]   1.02G  31.1MB/s   eta 39s   \r",
      "TLAS-open-data-13Te  47%[=========>            ]   1.02G  30.1MB/s   eta 39s   \r",
      "LAS-open-data-13TeV  48%[=========>            ]   1.03G  31.9MB/s   eta 39s   \r",
      "AS-open-data-13TeV-  48%[=========>            ]   1.04G  32.3MB/s   eta 39s   \r",
      "S-open-data-13TeV-2  48%[=========>            ]   1.04G  31.8MB/s   eta 38s   \r",
      "-open-data-13TeV-20  48%[=========>            ]   1.05G  31.8MB/s   eta 38s   \r",
      "open-data-13TeV-201  49%[=========>            ]   1.06G  31.8MB/s   eta 38s   \r",
      "pen-data-13TeV-2019  49%[=========>            ]   1.06G  31.9MB/s   eta 38s   \r",
      "en-data-13TeV-2019-  49%[=========>            ]   1.07G  31.8MB/s   eta 38s   \r",
      "n-data-13TeV-2019-G  50%[==========>           ]   1.07G  31.8MB/s   eta 37s   \r",
      "-data-13TeV-2019-Ga  50%[==========>           ]   1.08G  31.7MB/s   eta 37s   \r",
      "data-13TeV-2019-Gam  50%[==========>           ]   1.09G  31.2MB/s   eta 37s   \r",
      "ata-13TeV-2019-GamG  50%[==========>           ]   1.09G  30.9MB/s   eta 37s   \r",
      "ta-13TeV-2019-GamGa  51%[==========>           ]   1.10G  30.9MB/s   eta 37s   \r",
      "a-13TeV-2019-GamGam  51%[==========>           ]   1.10G  30.0MB/s   eta 36s   \r",
      "-13TeV-2019-GamGam.  51%[==========>           ]   1.11G  30.9MB/s   eta 36s   \r",
      "13TeV-2019-GamGam.z  51%[==========>           ]   1.11G  31.8MB/s   eta 36s   \r",
      "3TeV-2019-GamGam.zi  52%[==========>           ]   1.12G  30.5MB/s   eta 36s   \r",
      "TeV-2019-GamGam.zip  52%[==========>           ]   1.12G  29.7MB/s   eta 36s   \r",
      "ATLAS-open-data-13T  52%[==========>           ]   1.13G  29.6MB/s   eta 35s   \r",
      "TLAS-open-data-13Te  52%[==========>           ]   1.14G  29.7MB/s   eta 35s   \r",
      "LAS-open-data-13TeV  53%[==========>           ]   1.14G  28.7MB/s   eta 35s   \r",
      "AS-open-data-13TeV-  53%[==========>           ]   1.15G  29.4MB/s   eta 35s   \r",
      "S-open-data-13TeV-2  53%[==========>           ]   1.16G  29.3MB/s   eta 35s   \r",
      "-open-data-13TeV-20  54%[==========>           ]   1.16G  29.3MB/s   eta 34s   \r",
      "open-data-13TeV-201  54%[==========>           ]   1.17G  29.4MB/s   eta 34s   \r",
      "pen-data-13TeV-2019  54%[===========>          ]   1.17G  29.3MB/s   eta 34s   \r",
      "en-data-13TeV-2019-  54%[===========>          ]   1.18G  29.2MB/s   eta 34s   \r",
      "n-data-13TeV-2019-G  55%[===========>          ]   1.18G  28.6MB/s   eta 34s   \r",
      "-data-13TeV-2019-Ga  55%[===========>          ]   1.19G  29.8MB/s   eta 33s   \r",
      "data-13TeV-2019-Gam  55%[===========>          ]   1.20G  30.5MB/s   eta 33s   \r",
      "ata-13TeV-2019-GamG  56%[===========>          ]   1.21G  30.6MB/s   eta 33s   \r",
      "ta-13TeV-2019-GamGa  56%[===========>          ]   1.21G  30.8MB/s   eta 33s   \r",
      "a-13TeV-2019-GamGam  56%[===========>          ]   1.22G  30.9MB/s   eta 33s   \r",
      "-13TeV-2019-GamGam.  57%[===========>          ]   1.22G  30.9MB/s   eta 32s   \r",
      "13TeV-2019-GamGam.z  57%[===========>          ]   1.23G  31.0MB/s   eta 32s   \r",
      "3TeV-2019-GamGam.zi  57%[===========>          ]   1.23G  27.4MB/s   eta 32s   \r",
      "TeV-2019-GamGam.zip  57%[===========>          ]   1.24G  26.7MB/s   eta 32s   \r",
      "ATLAS-open-data-13T  57%[===========>          ]   1.24G  26.8MB/s   eta 31s   \r",
      "TLAS-open-data-13Te  58%[===========>          ]   1.25G  26.8MB/s   eta 31s   \r",
      "LAS-open-data-13TeV  58%[===========>          ]   1.26G  26.8MB/s   eta 31s   \r",
      "AS-open-data-13TeV-  58%[===========>          ]   1.26G  26.8MB/s   eta 31s   \r",
      "S-open-data-13TeV-2  59%[===========>          ]   1.27G  26.4MB/s   eta 31s   \r",
      "-open-data-13TeV-20  59%[============>         ]   1.27G  28.4MB/s   eta 30s   \r",
      "open-data-13TeV-201  59%[============>         ]   1.28G  27.2MB/s   eta 30s   \r",
      "pen-data-13TeV-2019  59%[============>         ]   1.29G  27.4MB/s   eta 30s   \r",
      "en-data-13TeV-2019-  60%[============>         ]   1.29G  27.1MB/s   eta 30s   \r",
      "n-data-13TeV-2019-G  60%[============>         ]   1.30G  27.3MB/s   eta 30s   \r",
      "-data-13TeV-2019-Ga  60%[============>         ]   1.31G  27.1MB/s   eta 29s   \r",
      "data-13TeV-2019-Gam  61%[============>         ]   1.31G  27.4MB/s   eta 29s   \r",
      "ata-13TeV-2019-GamG  61%[============>         ]   1.32G  27.5MB/s   eta 29s   \r",
      "ta-13TeV-2019-GamGa  61%[============>         ]   1.33G  27.4MB/s   eta 29s   \r",
      "a-13TeV-2019-GamGam  62%[============>         ]   1.33G  31.7MB/s   eta 29s   \r",
      "-13TeV-2019-GamGam.  62%[============>         ]   1.34G  31.9MB/s   eta 28s   \r",
      "13TeV-2019-GamGam.z  62%[============>         ]   1.34G  31.7MB/s   eta 28s   \r",
      "3TeV-2019-GamGam.zi  62%[============>         ]   1.35G  30.4MB/s   eta 28s   \r",
      "TeV-2019-GamGam.zip  63%[============>         ]   1.35G  31.3MB/s   eta 28s   \r",
      "ATLAS-open-data-13T  63%[============>         ]   1.36G  31.5MB/s   eta 28s   \r",
      "TLAS-open-data-13Te  63%[=============>        ]   1.37G  31.7MB/s   eta 27s   \r",
      "LAS-open-data-13TeV  64%[=============>        ]   1.37G  31.5MB/s   eta 27s   \r",
      "AS-open-data-13TeV-  64%[=============>        ]   1.38G  31.5MB/s   eta 27s   \r",
      "S-open-data-13TeV-2  64%[=============>        ]   1.39G  31.6MB/s   eta 27s   \r",
      "-open-data-13TeV-20  64%[=============>        ]   1.39G  31.5MB/s   eta 27s   \r",
      "open-data-13TeV-201  65%[=============>        ]   1.40G  31.5MB/s   eta 26s   \r",
      "pen-data-13TeV-2019  65%[=============>        ]   1.41G  31.5MB/s   eta 26s   \r",
      "en-data-13TeV-2019-  65%[=============>        ]   1.41G  31.4MB/s   eta 26s   \r",
      "n-data-13TeV-2019-G  66%[=============>        ]   1.42G  31.4MB/s   eta 26s   \r",
      "-data-13TeV-2019-Ga  66%[=============>        ]   1.42G  31.5MB/s   eta 26s   \r",
      "data-13TeV-2019-Gam  66%[=============>        ]   1.43G  31.6MB/s   eta 25s   \r",
      "ata-13TeV-2019-GamG  66%[=============>        ]   1.43G  30.9MB/s   eta 25s   \r",
      "ta-13TeV-2019-GamGa  67%[=============>        ]   1.44G  32.8MB/s   eta 25s   \r",
      "a-13TeV-2019-GamGam  67%[=============>        ]   1.45G  31.6MB/s   eta 25s   \r",
      "-13TeV-2019-GamGam.  67%[=============>        ]   1.46G  31.6MB/s   eta 25s   \r",
      "13TeV-2019-GamGam.z  68%[=============>        ]   1.46G  31.6MB/s   eta 24s   \r",
      "3TeV-2019-GamGam.zi  68%[==============>       ]   1.47G  31.7MB/s   eta 24s   \r",
      "TeV-2019-GamGam.zip  68%[==============>       ]   1.47G  31.3MB/s   eta 24s   \r",
      "ATLAS-open-data-13T  68%[==============>       ]   1.48G  30.6MB/s   eta 24s   \r",
      "TLAS-open-data-13Te  69%[==============>       ]   1.48G  29.8MB/s   eta 24s   \r",
      "LAS-open-data-13TeV  69%[==============>       ]   1.48G  28.7MB/s   eta 23s   \r",
      "AS-open-data-13TeV-  69%[==============>       ]   1.49G  27.0MB/s   eta 23s   \r",
      "S-open-data-13TeV-2  69%[==============>       ]   1.49G  27.1MB/s   eta 23s   \r",
      "-open-data-13TeV-20  69%[==============>       ]   1.50G  27.2MB/s   eta 23s   \r",
      "open-data-13TeV-201  70%[==============>       ]   1.50G  27.1MB/s   eta 23s   \r",
      "pen-data-13TeV-2019  70%[==============>       ]   1.51G  27.1MB/s   eta 22s   \r",
      "en-data-13TeV-2019-  70%[==============>       ]   1.51G  26.2MB/s   eta 22s   \r",
      "n-data-13TeV-2019-G  70%[==============>       ]   1.52G  26.8MB/s   eta 22s   \r",
      "-data-13TeV-2019-Ga  71%[==============>       ]   1.53G  26.8MB/s   eta 22s   \r",
      "data-13TeV-2019-Gam  71%[==============>       ]   1.53G  26.7MB/s   eta 22s   \r",
      "ata-13TeV-2019-GamG  71%[==============>       ]   1.54G  26.1MB/s   eta 21s   \r",
      "ta-13TeV-2019-GamGa  71%[==============>       ]   1.54G  25.9MB/s   eta 21s   \r",
      "a-13TeV-2019-GamGam  72%[==============>       ]   1.55G  25.8MB/s   eta 21s   \r",
      "-13TeV-2019-GamGam.  72%[==============>       ]   1.56G  26.2MB/s   eta 21s   \r",
      "13TeV-2019-GamGam.z  72%[===============>      ]   1.56G  26.5MB/s   eta 21s   \r",
      "3TeV-2019-GamGam.zi  73%[===============>      ]   1.57G  27.3MB/s   eta 20s   \r",
      "TeV-2019-GamGam.zip  73%[===============>      ]   1.57G  29.7MB/s   eta 20s   \r",
      "ATLAS-open-data-13T  73%[===============>      ]   1.58G  29.7MB/s   eta 20s   \r",
      "TLAS-open-data-13Te  73%[===============>      ]   1.58G  29.7MB/s   eta 20s   \r",
      "LAS-open-data-13TeV  74%[===============>      ]   1.59G  29.4MB/s   eta 20s   \r",
      "AS-open-data-13TeV-  74%[===============>      ]   1.60G  29.2MB/s   eta 19s   \r",
      "S-open-data-13TeV-2  74%[===============>      ]   1.60G  29.0MB/s   eta 19s   \r",
      "-open-data-13TeV-20  74%[===============>      ]   1.60G  27.3MB/s   eta 19s   \r",
      "open-data-13TeV-201  75%[===============>      ]   1.62G  30.0MB/s   eta 19s   \r",
      "pen-data-13TeV-2019  75%[===============>      ]   1.62G  30.1MB/s   eta 19s   \r",
      "en-data-13TeV-2019-  75%[===============>      ]   1.63G  30.6MB/s   eta 18s   \r",
      "n-data-13TeV-2019-G  76%[===============>      ]   1.64G  30.9MB/s   eta 18s   \r",
      "-data-13TeV-2019-Ga  76%[===============>      ]   1.64G  30.3MB/s   eta 18s   \r",
      "data-13TeV-2019-Gam  76%[===============>      ]   1.65G  31.0MB/s   eta 18s   \r",
      "ata-13TeV-2019-GamG  77%[===============>      ]   1.65G  31.0MB/s   eta 18s   \r",
      "ta-13TeV-2019-GamGa  77%[================>     ]   1.66G  30.8MB/s   eta 17s   \r",
      "a-13TeV-2019-GamGam  77%[================>     ]   1.67G  30.7MB/s   eta 17s   \r",
      "-13TeV-2019-GamGam.  77%[================>     ]   1.67G  30.6MB/s   eta 17s   \r",
      "13TeV-2019-GamGam.z  78%[================>     ]   1.68G  30.4MB/s   eta 17s   \r",
      "3TeV-2019-GamGam.zi  78%[================>     ]   1.68G  29.4MB/s   eta 17s   \r",
      "TeV-2019-GamGam.zip  78%[================>     ]   1.69G  29.7MB/s   eta 16s   \r",
      "ATLAS-open-data-13T  78%[================>     ]   1.69G  29.5MB/s   eta 16s   \r",
      "TLAS-open-data-13Te  79%[================>     ]   1.70G  31.7MB/s   eta 16s   \r",
      "LAS-open-data-13TeV  79%[================>     ]   1.70G  28.7MB/s   eta 16s   \r",
      "AS-open-data-13TeV-  79%[================>     ]   1.71G  29.0MB/s   eta 16s   \r",
      "S-open-data-13TeV-2  79%[================>     ]   1.71G  28.2MB/s   eta 15s   \r",
      "-open-data-13TeV-20  80%[================>     ]   1.72G  28.3MB/s   eta 15s   \r",
      "open-data-13TeV-201  80%[================>     ]   1.73G  28.4MB/s   eta 15s   \r",
      "pen-data-13TeV-2019  80%[================>     ]   1.73G  28.3MB/s   eta 15s   \r",
      "en-data-13TeV-2019-  81%[================>     ]   1.74G  28.5MB/s   eta 15s   \r",
      "n-data-13TeV-2019-G  81%[================>     ]   1.75G  28.7MB/s   eta 14s   \r",
      "-data-13TeV-2019-Ga  81%[================>     ]   1.75G  28.8MB/s   eta 14s   \r",
      "data-13TeV-2019-Gam  81%[=================>    ]   1.76G  28.8MB/s   eta 14s   \r",
      "ata-13TeV-2019-GamG  82%[=================>    ]   1.76G  29.1MB/s   eta 14s   \r",
      "ta-13TeV-2019-GamGa  82%[=================>    ]   1.77G  29.1MB/s   eta 14s   \r",
      "a-13TeV-2019-GamGam  82%[=================>    ]   1.77G  30.4MB/s   eta 13s   \r",
      "-13TeV-2019-GamGam.  82%[=================>    ]   1.78G  30.1MB/s   eta 13s   \r",
      "13TeV-2019-GamGam.z  83%[=================>    ]   1.79G  30.3MB/s   eta 13s   \r",
      "3TeV-2019-GamGam.zi  83%[=================>    ]   1.79G  30.7MB/s   eta 13s   \r",
      "TeV-2019-GamGam.zip  83%[=================>    ]   1.80G  31.0MB/s   eta 13s   \r",
      "ATLAS-open-data-13T  84%[=================>    ]   1.80G  31.1MB/s   eta 12s   \r",
      "TLAS-open-data-13Te  84%[=================>    ]   1.81G  30.6MB/s   eta 12s   \r",
      "LAS-open-data-13TeV  84%[=================>    ]   1.82G  31.5MB/s   eta 12s   \r",
      "AS-open-data-13TeV-  85%[=================>    ]   1.82G  31.3MB/s   eta 12s   \r",
      "S-open-data-13TeV-2  85%[=================>    ]   1.83G  31.2MB/s   eta 12s   \r",
      "-open-data-13TeV-20  85%[=================>    ]   1.84G  31.2MB/s   eta 11s   \r",
      "open-data-13TeV-201  85%[=================>    ]   1.84G  31.5MB/s   eta 11s   \r",
      "pen-data-13TeV-2019  86%[=================>    ]   1.85G  31.3MB/s   eta 11s   \r",
      "en-data-13TeV-2019-  86%[=================>    ]   1.85G  30.5MB/s   eta 11s   \r",
      "n-data-13TeV-2019-G  86%[==================>   ]   1.86G  31.8MB/s   eta 11s   \r",
      "-data-13TeV-2019-Ga  87%[==================>   ]   1.87G  32.4MB/s   eta 10s   \r",
      "data-13TeV-2019-Gam  87%[==================>   ]   1.88G  32.1MB/s   eta 10s   \r",
      "ata-13TeV-2019-GamG  87%[==================>   ]   1.88G  32.1MB/s   eta 10s   \r",
      "ta-13TeV-2019-GamGa  87%[==================>   ]   1.89G  32.1MB/s   eta 10s   \r",
      "a-13TeV-2019-GamGam  88%[==================>   ]   1.89G  32.0MB/s   eta 10s   \r",
      "-13TeV-2019-GamGam.  88%[==================>   ]   1.90G  32.0MB/s   eta 8s    \r",
      "13TeV-2019-GamGam.z  88%[==================>   ]   1.91G  32.5MB/s   eta 8s    \r",
      "3TeV-2019-GamGam.zi  89%[==================>   ]   1.91G  32.6MB/s   eta 8s    \r",
      "TeV-2019-GamGam.zip  89%[==================>   ]   1.92G  32.2MB/s   eta 8s    \r",
      "ATLAS-open-data-13T  89%[==================>   ]   1.93G  32.1MB/s   eta 8s    \r",
      "TLAS-open-data-13Te  90%[==================>   ]   1.93G  32.1MB/s   eta 7s    \r",
      "LAS-open-data-13TeV  90%[==================>   ]   1.94G  32.1MB/s   eta 7s    \r",
      "AS-open-data-13TeV-  90%[==================>   ]   1.94G  31.3MB/s   eta 7s    \r",
      "S-open-data-13TeV-2  90%[==================>   ]   1.95G  33.2MB/s   eta 7s    \r",
      "-open-data-13TeV-20  91%[===================>  ]   1.96G  32.5MB/s   eta 7s    \r",
      "open-data-13TeV-201  91%[===================>  ]   1.96G  24.8MB/s   eta 6s    \r",
      "pen-data-13TeV-2019  91%[===================>  ]   1.97G  24.9MB/s   eta 6s    \r",
      "en-data-13TeV-2019-  91%[===================>  ]   1.97G  24.6MB/s   eta 6s    \r",
      "n-data-13TeV-2019-G  92%[===================>  ]   1.98G  24.1MB/s   eta 6s    \r",
      "-data-13TeV-2019-Ga  92%[===================>  ]   1.98G  22.9MB/s   eta 6s    \r",
      "data-13TeV-2019-Gam  92%[===================>  ]   1.98G  21.5MB/s   eta 6s    \r",
      "ata-13TeV-2019-GamG  92%[===================>  ]   1.98G  20.7MB/s   eta 6s    \r",
      "ta-13TeV-2019-GamGa  93%[===================>  ]   2.00G  22.0MB/s   eta 6s    \r",
      "a-13TeV-2019-GamGam  93%[===================>  ]   2.00G  21.8MB/s   eta 6s    \r",
      "-13TeV-2019-GamGam.  93%[===================>  ]   2.01G  22.4MB/s   eta 6s    \r",
      "13TeV-2019-GamGam.z  93%[===================>  ]   2.02G  22.2MB/s   eta 5s    \r",
      "3TeV-2019-GamGam.zi  94%[===================>  ]   2.02G  22.3MB/s   eta 5s    \r",
      "TeV-2019-GamGam.zip  94%[===================>  ]   2.03G  22.9MB/s   eta 5s    \r",
      "ATLAS-open-data-13T  94%[===================>  ]   2.03G  21.9MB/s   eta 5s    \r",
      "TLAS-open-data-13Te  95%[===================>  ]   2.04G  21.9MB/s   eta 5s    \r",
      "LAS-open-data-13TeV  95%[===================>  ]   2.04G  21.7MB/s   eta 4s    \r",
      "AS-open-data-13TeV-  95%[====================> ]   2.05G  27.9MB/s   eta 4s    \r",
      "S-open-data-13TeV-2  95%[====================> ]   2.06G  27.7MB/s   eta 4s    \r",
      "-open-data-13TeV-20  96%[====================> ]   2.06G  27.8MB/s   eta 4s    \r",
      "open-data-13TeV-201  96%[====================> ]   2.07G  29.5MB/s   eta 4s    \r",
      "pen-data-13TeV-2019  96%[====================> ]   2.07G  30.6MB/s   eta 3s    \r",
      "en-data-13TeV-2019-  96%[====================> ]   2.08G  32.1MB/s   eta 3s    \r",
      "n-data-13TeV-2019-G  97%[====================> ]   2.09G  30.4MB/s   eta 3s    \r",
      "-data-13TeV-2019-Ga  97%[====================> ]   2.09G  30.4MB/s   eta 3s    \r",
      "data-13TeV-2019-Gam  97%[====================> ]   2.10G  30.0MB/s   eta 3s    \r",
      "ata-13TeV-2019-GamG  97%[====================> ]   2.10G  29.7MB/s   eta 2s    \r",
      "ta-13TeV-2019-GamGa  98%[====================> ]   2.11G  29.6MB/s   eta 2s    \r",
      "a-13TeV-2019-GamGam  98%[====================> ]   2.11G  29.3MB/s   eta 2s    \r",
      "-13TeV-2019-GamGam.  98%[====================> ]   2.12G  29.7MB/s   eta 2s    \r",
      "13TeV-2019-GamGam.z  99%[====================> ]   2.13G  29.8MB/s   eta 2s    \r",
      "3TeV-2019-GamGam.zi  99%[====================> ]   2.13G  29.9MB/s   eta 0s    \r",
      "TeV-2019-GamGam.zip  99%[====================> ]   2.14G  30.0MB/s   eta 0s    \r",
      "ATLAS-open-data-13T  99%[====================> ]   2.14G  30.0MB/s   eta 0s    \r",
      "ATLAS-open-data-13T 100%[=====================>]   2.15G  30.0MB/s   in 75s    \r\n",
      "\r\n",
      "2019-07-22 11:48:49 (29.4 MB/s) - ‘ATLAS-open-data-13TeV-2019-GamGam.zip’ saved [2304889220/2304889220]\r\n",
      "\r\n"
     ]
    }
   ],
   "source": [
    "system(\"wget -c http://opendata.atlas.cern/release/samples/2019/GamGam/ATLAS-open-data-13TeV-2019-GamGam.zip\")"
   ]
  },
  {
   "cell_type": "markdown",
   "metadata": {},
   "source": [
    "- Print current system time"
   ]
  },
  {
   "cell_type": "code",
   "execution_count": 18,
   "metadata": {
    "collapsed": false
   },
   "outputs": [
    {
     "name": "stdout",
     "output_type": "stream",
     "text": [
      "Mon Jul 22 11:48:49 CEST 2019\r\n"
     ]
    }
   ],
   "source": [
    "system(\"date\");"
   ]
  },
  {
   "cell_type": "markdown",
   "metadata": {},
   "source": [
    "- Unzip the dataset you download"
   ]
  },
  {
   "cell_type": "code",
   "execution_count": 19,
   "metadata": {
    "collapsed": false
   },
   "outputs": [
    {
     "name": "stderr",
     "output_type": "stream",
     "text": [
      "input_line_65:2:9: warning: multi-character character constant [-Wmultichar]\r\n",
      " system('unzip ATLAS-open-data-13TeV-2019-GamGam.zip')\r\n",
      "        ^\r\n",
      "input_line_65:2:9: warning: character constant too long for its type\r\n",
      "input_line_65:2:2: error: no matching function for call to 'system'\r\n",
      " system('unzip ATLAS-open-data-13TeV-2019-GamGam.zip')\r\n",
      " ^~~~~~\r\n",
      "/usr/include/stdlib.h:716:12: note: candidate function not viable: no known\r\n",
      "      conversion from 'int' to 'const char *' for 1st argument\r\n",
      "extern int system (const char *__command) __wur;\r\n",
      "           ^\r\n"
     ]
    }
   ],
   "source": [
    "system('unzip ATLAS-open-data-13TeV-2019-GamGam.zip')"
   ]
  },
  {
   "cell_type": "markdown",
   "metadata": {},
   "source": [
    "- Print current system time"
   ]
  },
  {
   "cell_type": "code",
   "execution_count": null,
   "metadata": {
    "collapsed": false
   },
   "outputs": [],
   "source": [
    "system(\"date\");"
   ]
  },
  {
   "cell_type": "markdown",
   "metadata": {},
   "source": [
    "- Remove the zip file"
   ]
  },
  {
   "cell_type": "code",
   "execution_count": null,
   "metadata": {
    "collapsed": false
   },
   "outputs": [],
   "source": [
    "system('rm -rf ATLAS-open-data-13TeV-2019-GamGam.zip')"
   ]
  },
  {
   "cell_type": "markdown",
   "metadata": {},
   "source": [
    "- Print current system time"
   ]
  },
  {
   "cell_type": "code",
   "execution_count": null,
   "metadata": {
    "collapsed": false
   },
   "outputs": [],
   "source": [
    "system(\"date\")"
   ]
  },
  {
   "cell_type": "markdown",
   "metadata": {},
   "source": [
    "- Change your current path"
   ]
  },
  {
   "cell_type": "code",
   "execution_count": null,
   "metadata": {
    "collapsed": true
   },
   "outputs": [],
   "source": [
    "chdir(\"../atlas-outreach-cpp-framework-13tev\")"
   ]
  },
  {
   "cell_type": "code",
   "execution_count": null,
   "metadata": {
    "collapsed": false
   },
   "outputs": [],
   "source": [
    "system(\"pwd\")"
   ]
  },
  {
   "cell_type": "code",
   "execution_count": null,
   "metadata": {
    "collapsed": false
   },
   "outputs": [],
   "source": [
    "system(\"date\")"
   ]
  },
  {
   "cell_type": "code",
   "execution_count": null,
   "metadata": {
    "collapsed": true
   },
   "outputs": [],
   "source": [
    "system(\"pwd\")"
   ]
  }
 ],
 "metadata": {
  "kernelspec": {
   "display_name": "ROOT Prompt",
   "language": "c++",
   "name": "root"
  },
  "language_info": {
   "codemirror_mode": {
    "name": "ipython",
    "version": 2
   },
   "file_extension": ".py",
   "mimetype": "text/x-python",
   "name": "python",
   "nbconvert_exporter": "python",
   "pygments_lexer": "ipython2",
   "version": "2.7.9"
  }
 },
 "nbformat": 4,
 "nbformat_minor": 1
}
