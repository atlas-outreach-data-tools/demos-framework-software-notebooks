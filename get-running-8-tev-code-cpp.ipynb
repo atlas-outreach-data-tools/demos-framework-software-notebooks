{
 "cells": [
  {
   "cell_type": "markdown",
   "metadata": {},
   "source": [
    "# Get Running the 8 TeV Example in C++\n",
    "\n",
    "\n",
    "You can follow the steps to run 8 TeV example and see the results."
   ]
  },
  {
   "cell_type": "markdown",
   "metadata": {},
   "source": [
    "## 1. Preparation\n",
    "\n",
    "### 1.1 Import necessary modules that provide a way of using operating system dependent functionality. "
   ]
  },
  {
   "cell_type": "code",
   "execution_count": 1,
   "metadata": {
    "collapsed": false
   },
   "outputs": [],
   "source": [
    "#include <stdio.h>\n",
    "#include <stdlib.h>\n",
    "#include <cstdio>\n",
    "#include <iostream>"
   ]
  },
  {
   "cell_type": "markdown",
   "metadata": {
    "collapsed": true
   },
   "source": [
    "- Print current system time"
   ]
  },
  {
   "cell_type": "code",
   "execution_count": 2,
   "metadata": {
    "collapsed": false
   },
   "outputs": [
    {
     "name": "stdout",
     "output_type": "stream",
     "text": [
      "Mit Jul 17 17:37:31 CEST 2019\r\n"
     ]
    }
   ],
   "source": [
    "system(\"date\"); "
   ]
  },
  {
   "cell_type": "markdown",
   "metadata": {},
   "source": [
    "### 1.2 Create a new folder \"cpp-8tev\" in which you place your data and code"
   ]
  },
  {
   "cell_type": "markdown",
   "metadata": {},
   "source": [
    "- Create a directory"
   ]
  },
  {
   "cell_type": "code",
   "execution_count": 3,
   "metadata": {
    "collapsed": false
   },
   "outputs": [],
   "source": [
    "system(\"mkdir cpp-8tev\"); "
   ]
  },
  {
   "cell_type": "markdown",
   "metadata": {},
   "source": [
    "- List the files in your directory"
   ]
  },
  {
   "cell_type": "code",
   "execution_count": 4,
   "metadata": {
    "collapsed": false
   },
   "outputs": [
    {
     "name": "stdout",
     "output_type": "stream",
     "text": [
      "total 36K\r\n",
      "-rw-r--r-- 1 summerstudent users  138 Jul 11 16:11 README.md\r\n",
      "-rw-r--r-- 1 summerstudent users  15K Jul 13 01:28 get-running-8-tev-code.ipynb\r\n",
      "-rw-r--r-- 1 summerstudent users  10K Jul 17 17:31 get-running-8-tev-code-cpp.ipynb\r\n",
      "drwxr-xr-x 2 summerstudent users 4.0K Jul 17 17:37 cpp-8tev\r\n"
     ]
    }
   ],
   "source": [
    "system(\"ls -lhrt\");"
   ]
  },
  {
   "cell_type": "markdown",
   "metadata": {},
   "source": [
    "- Print your current path"
   ]
  },
  {
   "cell_type": "code",
   "execution_count": 5,
   "metadata": {
    "collapsed": false
   },
   "outputs": [
    {
     "name": "stdout",
     "output_type": "stream",
     "text": [
      "/home/student/demos-framework-software-notebooks\r\n"
     ]
    }
   ],
   "source": [
    "system(\"pwd\");"
   ]
  },
  {
   "cell_type": "markdown",
   "metadata": {
    "collapsed": true
   },
   "source": [
    "### 1.3 Prepare the code "
   ]
  },
  {
   "cell_type": "markdown",
   "metadata": {},
   "source": [
    "- Change current directory to \"cpp-8tev\" "
   ]
  },
  {
   "cell_type": "code",
   "execution_count": 6,
   "metadata": {
    "collapsed": false
   },
   "outputs": [],
   "source": [
    "chdir(\"cpp-8tev\");"
   ]
  },
  {
   "cell_type": "markdown",
   "metadata": {},
   "source": [
    "- Print your current path"
   ]
  },
  {
   "cell_type": "code",
   "execution_count": 7,
   "metadata": {
    "collapsed": false
   },
   "outputs": [
    {
     "name": "stdout",
     "output_type": "stream",
     "text": [
      "/home/student/demos-framework-software-notebooks/cpp-8tev\r\n"
     ]
    }
   ],
   "source": [
    "system(\"pwd\");"
   ]
  },
  {
   "cell_type": "markdown",
   "metadata": {},
   "source": [
    "- Print current system time"
   ]
  },
  {
   "cell_type": "code",
   "execution_count": 8,
   "metadata": {
    "collapsed": false
   },
   "outputs": [
    {
     "name": "stdout",
     "output_type": "stream",
     "text": [
      "Mit Jul 17 17:37:36 CEST 2019\r\n"
     ]
    }
   ],
   "source": [
    "system(\"date\");"
   ]
  },
  {
   "cell_type": "markdown",
   "metadata": {},
   "source": [
    "- Clone the code of 8TeV from github"
   ]
  },
  {
   "cell_type": "code",
   "execution_count": 9,
   "metadata": {
    "collapsed": false
   },
   "outputs": [
    {
     "name": "stderr",
     "output_type": "stream",
     "text": [
      "Cloning into 'atlas-outreach-data-tools-framework'...\r\n",
      "remote: Enumerating objects: 49, done.\u001b[K\r\n",
      "Unpacking objects:   2% (1/49)   \r",
      "Unpacking objects:   4% (2/49)   \r",
      "Unpacking objects:   6% (3/49)   \r",
      "Unpacking objects:   8% (4/49)   \r",
      "Unpacking objects:  10% (5/49)   \r",
      "Unpacking objects:  12% (6/49)   \r",
      "Unpacking objects:  14% (7/49)   \r",
      "Unpacking objects:  16% (8/49)   \r",
      "Unpacking objects:  18% (9/49)   \r",
      "Unpacking objects:  20% (10/49)   \r",
      "Unpacking objects:  22% (11/49)   \r",
      "Unpacking objects:  24% (12/49)   \r",
      "Unpacking objects:  26% (13/49)   \r",
      "Unpacking objects:  28% (14/49)   \r",
      "Unpacking objects:  30% (15/49)   \r",
      "Unpacking objects:  32% (16/49)   \r",
      "Unpacking objects:  34% (17/49)   \r",
      "Unpacking objects:  36% (18/49)   \r",
      "Unpacking objects:  38% (19/49)   \r",
      "Unpacking objects:  40% (20/49)   \r",
      "Unpacking objects:  42% (21/49)   \r",
      "Unpacking objects:  44% (22/49)   \r",
      "Unpacking objects:  46% (23/49)   \r",
      "Unpacking objects:  48% (24/49)   \r",
      "Unpacking objects:  51% (25/49)   \r",
      "Unpacking objects:  53% (26/49)   \r",
      "Unpacking objects:  55% (27/49)   \r",
      "remote: Total 49 (delta 0), reused 0 (delta 0), pack-reused 49\u001b[K\r\n",
      "Unpacking objects:  57% (28/49)   \r",
      "Unpacking objects:  59% (29/49)   \r",
      "Unpacking objects:  61% (30/49)   \r",
      "Unpacking objects:  63% (31/49)   \r",
      "Unpacking objects:  65% (32/49)   \r",
      "Unpacking objects:  67% (33/49)   \r",
      "Unpacking objects:  69% (34/49)   \r",
      "Unpacking objects:  71% (35/49)   \r",
      "Unpacking objects:  73% (36/49)   \r",
      "Unpacking objects:  75% (37/49)   \r",
      "Unpacking objects:  77% (38/49)   \r",
      "Unpacking objects:  79% (39/49)   \r",
      "Unpacking objects:  81% (40/49)   \r",
      "Unpacking objects:  83% (41/49)   \r",
      "Unpacking objects:  85% (42/49)   \r",
      "Unpacking objects:  87% (43/49)   \r",
      "Unpacking objects:  89% (44/49)   \r",
      "Unpacking objects:  91% (45/49)   \r",
      "Unpacking objects:  93% (46/49)   \r",
      "Unpacking objects:  95% (47/49)   \r",
      "Unpacking objects:  97% (48/49)   \r",
      "Unpacking objects: 100% (49/49)   \r",
      "Unpacking objects: 100% (49/49), done.\r\n",
      "Checking connectivity... done.\r\n"
     ]
    }
   ],
   "source": [
    "system(\"git clone https://github.com/atlas-outreach-data-tools/atlas-outreach-data-tools-framework.git\");"
   ]
  },
  {
   "cell_type": "markdown",
   "metadata": {},
   "source": [
    "### 1.4 Prepare the 8 TeV dataset"
   ]
  },
  {
   "cell_type": "markdown",
   "metadata": {},
   "source": [
    "- Change current directory to \"Input\""
   ]
  },
  {
   "cell_type": "code",
   "execution_count": 10,
   "metadata": {
    "collapsed": false
   },
   "outputs": [],
   "source": [
    "chdir(\"atlas-outreach-data-tools-framework/Input/\");"
   ]
  },
  {
   "cell_type": "markdown",
   "metadata": {},
   "source": [
    "- Print your current path"
   ]
  },
  {
   "cell_type": "code",
   "execution_count": 11,
   "metadata": {
    "collapsed": false
   },
   "outputs": [
    {
     "name": "stdout",
     "output_type": "stream",
     "text": [
      "/home/student/demos-framework-software-notebooks/cpp-8tev/atlas-outreach-data-tools-framework/Input\r\n"
     ]
    }
   ],
   "source": [
    "system(\"pwd\");"
   ]
  },
  {
   "cell_type": "markdown",
   "metadata": {},
   "source": [
    "- Print current system time"
   ]
  },
  {
   "cell_type": "code",
   "execution_count": 12,
   "metadata": {
    "collapsed": false
   },
   "outputs": [
    {
     "name": "stdout",
     "output_type": "stream",
     "text": [
      "Mit Jul 17 17:37:38 CEST 2019\r\n"
     ]
    }
   ],
   "source": [
    "system(\"date\");"
   ]
  },
  {
   "cell_type": "markdown",
   "metadata": {},
   "source": [
    "- Download dataset"
   ]
  },
  {
   "cell_type": "code",
   "execution_count": null,
   "metadata": {
    "collapsed": false
   },
   "outputs": [],
   "source": [
    "system(\"wget http://opendata.atlas.cern/release/samples/complete_set_of_ATLAS_open_data_samples_July_2016.zip\");"
   ]
  },
  {
   "cell_type": "markdown",
   "metadata": {},
   "source": [
    "- Print current system time"
   ]
  },
  {
   "cell_type": "code",
   "execution_count": null,
   "metadata": {
    "collapsed": false
   },
   "outputs": [],
   "source": [
    "system(\"date\");"
   ]
  },
  {
   "cell_type": "markdown",
   "metadata": {},
   "source": [
    "- Unzip the dataset you download"
   ]
  },
  {
   "cell_type": "code",
   "execution_count": null,
   "metadata": {
    "collapsed": false
   },
   "outputs": [],
   "source": [
    "system(\"unzip complete_set_of_ATLAS_open_data_samples_July_2016.zip\");"
   ]
  },
  {
   "cell_type": "markdown",
   "metadata": {},
   "source": [
    "- Print current system time"
   ]
  },
  {
   "cell_type": "code",
   "execution_count": null,
   "metadata": {
    "collapsed": false
   },
   "outputs": [],
   "source": [
    "system(\"date\");"
   ]
  },
  {
   "cell_type": "markdown",
   "metadata": {},
   "source": [
    "- Remove the zip file"
   ]
  },
  {
   "cell_type": "code",
   "execution_count": null,
   "metadata": {
    "collapsed": false
   },
   "outputs": [],
   "source": [
    "system(\"rm -rf complete_set_of_ATLAS_open_data_samples_July_2016.zip\");"
   ]
  },
  {
   "cell_type": "markdown",
   "metadata": {},
   "source": [
    "- Print current system time"
   ]
  },
  {
   "cell_type": "code",
   "execution_count": null,
   "metadata": {
    "collapsed": false
   },
   "outputs": [],
   "source": [
    "system(\"date\");"
   ]
  },
  {
   "cell_type": "markdown",
   "metadata": {},
   "source": [
    "- Change current path to parent directory"
   ]
  },
  {
   "cell_type": "code",
   "execution_count": null,
   "metadata": {
    "collapsed": false
   },
   "outputs": [],
   "source": [
    "chdir(\"..\");"
   ]
  },
  {
   "cell_type": "markdown",
   "metadata": {},
   "source": [
    "- Print your current path"
   ]
  },
  {
   "cell_type": "code",
   "execution_count": null,
   "metadata": {
    "collapsed": false
   },
   "outputs": [],
   "source": [
    "system(\"pwd\");"
   ]
  },
  {
   "cell_type": "markdown",
   "metadata": {},
   "source": [
    "- Print current system time"
   ]
  },
  {
   "cell_type": "code",
   "execution_count": null,
   "metadata": {
    "collapsed": false
   },
   "outputs": [],
   "source": [
    "system(\"date\");"
   ]
  },
  {
   "cell_type": "markdown",
   "metadata": {},
   "source": [
    "## 2. Run the TTbarAnalysis\n",
    "\n",
    "- Run \"python RunScript.py\" with option \"-a TTbarAnalysis\""
   ]
  },
  {
   "cell_type": "code",
   "execution_count": null,
   "metadata": {
    "collapsed": false
   },
   "outputs": [],
   "source": [
    "system(\"python RunScript.py -a TTbarAnalysis\");"
   ]
  },
  {
   "cell_type": "markdown",
   "metadata": {},
   "source": [
    "- Print current system time"
   ]
  },
  {
   "cell_type": "code",
   "execution_count": null,
   "metadata": {
    "collapsed": false
   },
   "outputs": [],
   "source": [
    "system(\"date\");"
   ]
  },
  {
   "cell_type": "markdown",
   "metadata": {},
   "source": [
    "## 3. Plot Results\n",
    "\n",
    "- Run \"PlotResults.py\" and \"Configurations/PlotConf_TTbarAnalysis.py\" to plot the results."
   ]
  },
  {
   "cell_type": "code",
   "execution_count": null,
   "metadata": {
    "collapsed": false
   },
   "outputs": [],
   "source": [
    "//plot results\n",
    "system(\"python PlotResults.py Configurations/PlotConf_TTbarAnalysis.py\");"
   ]
  },
  {
   "cell_type": "markdown",
   "metadata": {},
   "source": [
    "- Print current system time"
   ]
  },
  {
   "cell_type": "code",
   "execution_count": null,
   "metadata": {
    "collapsed": false
   },
   "outputs": [],
   "source": [
    "system(\"date\");"
   ]
  },
  {
   "cell_type": "markdown",
   "metadata": {},
   "source": [
    "- List all the plots in \"Output\" folder"
   ]
  },
  {
   "cell_type": "code",
   "execution_count": null,
   "metadata": {
    "collapsed": false
   },
   "outputs": [],
   "source": [
    "system(\"ls -lhrt Output/\");"
   ]
  },
  {
   "cell_type": "markdown",
   "metadata": {},
   "source": [
    "- Print your current path"
   ]
  },
  {
   "cell_type": "code",
   "execution_count": null,
   "metadata": {
    "collapsed": false
   },
   "outputs": [],
   "source": [
    "system(\"pwd\");"
   ]
  },
  {
   "cell_type": "code",
   "execution_count": null,
   "metadata": {
    "collapsed": true
   },
   "outputs": [],
   "source": []
  },
  {
   "cell_type": "code",
   "execution_count": null,
   "metadata": {
    "collapsed": true
   },
   "outputs": [],
   "source": []
  }
 ],
 "metadata": {
  "kernelspec": {
   "display_name": "ROOT Prompt",
   "language": "c++",
   "name": "root"
  },
  "language_info": {
   "codemirror_mode": {
    "name": "ipython",
    "version": 2
   },
   "file_extension": ".py",
   "mimetype": "text/x-python",
   "name": "python",
   "nbconvert_exporter": "python",
   "pygments_lexer": "ipython2",
   "version": "2.7.9"
  }
 },
 "nbformat": 4,
 "nbformat_minor": 1
}
