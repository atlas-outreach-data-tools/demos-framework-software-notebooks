{
 "cells": [
  {
   "cell_type": "markdown",
   "metadata": {},
   "source": [
    "# Get Running the 8 TeV Example in C++\n",
    "\n",
    "\n",
    "You can follow the steps to run 8 TeV example and see the results."
   ]
  },
  {
   "cell_type": "markdown",
   "metadata": {},
   "source": [
    "## 1. Preparation\n",
    "\n",
    "### 1.1 Import necessary modules that provide a way of using operating system dependent functionality. "
   ]
  },
  {
   "cell_type": "code",
   "execution_count": 1,
   "metadata": {
    "collapsed": false
   },
   "outputs": [],
   "source": [
    "#include <stdio.h>\n",
    "#include <stdlib.h>\n",
    "#include <cstdio>\n",
    "#include <iostream>"
   ]
  },
  {
   "cell_type": "markdown",
   "metadata": {
    "collapsed": true
   },
   "source": [
    "- Print current system time"
   ]
  },
  {
   "cell_type": "code",
   "execution_count": 2,
   "metadata": {
    "collapsed": false
   },
   "outputs": [
    {
     "name": "stdout",
     "output_type": "stream",
     "text": [
<<<<<<< HEAD
      "Mit Jul 17 17:37:31 CEST 2019\r\n"
=======
      "Sam Jul 13 23:38:53 CEST 2019\r\n"
>>>>>>> 61d508c9229bc92f8459854941c183fea9a327e6
     ]
    }
   ],
   "source": [
    "system(\"date\"); "
   ]
  },
  {
   "cell_type": "markdown",
   "metadata": {},
   "source": [
    "### 1.2 Create a new folder \"cpp-8tev\" in which you place your data and code"
   ]
  },
  {
   "cell_type": "markdown",
   "metadata": {},
   "source": [
    "- Create a directory"
   ]
  },
  {
   "cell_type": "code",
   "execution_count": 3,
   "metadata": {
    "collapsed": false
   },
   "outputs": [],
   "source": [
    "system(\"mkdir cpp-8tev\"); "
   ]
  },
  {
   "cell_type": "markdown",
   "metadata": {},
   "source": [
    "- List the files in your directory"
   ]
  },
  {
   "cell_type": "code",
   "execution_count": 4,
   "metadata": {
    "collapsed": false
   },
   "outputs": [
    {
     "name": "stdout",
     "output_type": "stream",
     "text": [
      "total 36K\r\n",
<<<<<<< HEAD
      "-rw-r--r-- 1 summerstudent users  138 Jul 11 16:11 README.md\r\n",
      "-rw-r--r-- 1 summerstudent users  15K Jul 13 01:28 get-running-8-tev-code.ipynb\r\n",
      "-rw-r--r-- 1 summerstudent users  10K Jul 17 17:31 get-running-8-tev-code-cpp.ipynb\r\n",
      "drwxr-xr-x 2 summerstudent users 4.0K Jul 17 17:37 cpp-8tev\r\n"
=======
      "-rw-r--r-- 1 summerstudent users  138 Jul 13 23:36 README.md\r\n",
      "-rw-r--r-- 1 summerstudent users  15K Jul 13 23:36 get-running-8-tev-code-python.ipynb\r\n",
      "-rw-r--r-- 1 summerstudent users 9.6K Jul 13 23:38 get-running-8-tev-code-cpp.ipynb\r\n",
      "drwxr-xr-x 2 summerstudent users 4.0K Jul 13 23:38 cpp-8tev\r\n"
>>>>>>> 61d508c9229bc92f8459854941c183fea9a327e6
     ]
    }
   ],
   "source": [
    "system(\"ls -lhrt\");"
   ]
  },
  {
   "cell_type": "markdown",
   "metadata": {},
   "source": [
    "- Print your current path"
   ]
  },
  {
   "cell_type": "code",
   "execution_count": 5,
   "metadata": {
    "collapsed": false
   },
   "outputs": [
    {
     "name": "stdout",
     "output_type": "stream",
     "text": [
      "/home/student/notebooks/demos-framework-software-notebooks\r\n"
     ]
    }
   ],
   "source": [
    "system(\"pwd\");"
   ]
  },
  {
   "cell_type": "markdown",
   "metadata": {
    "collapsed": true
   },
   "source": [
    "### 1.3 Prepare the code "
   ]
  },
  {
   "cell_type": "markdown",
   "metadata": {},
   "source": [
    "- Change current directory to \"cpp-8tev\" "
   ]
  },
  {
   "cell_type": "code",
   "execution_count": 6,
   "metadata": {
    "collapsed": false
   },
   "outputs": [],
   "source": [
    "chdir(\"cpp-8tev\");"
   ]
  },
  {
   "cell_type": "markdown",
   "metadata": {},
   "source": [
    "- Print your current path"
   ]
  },
  {
   "cell_type": "code",
   "execution_count": 7,
   "metadata": {
    "collapsed": false
   },
   "outputs": [
    {
     "name": "stdout",
     "output_type": "stream",
     "text": [
      "/home/student/notebooks/demos-framework-software-notebooks/cpp-8tev\r\n"
     ]
    }
   ],
   "source": [
    "system(\"pwd\");"
   ]
  },
  {
   "cell_type": "markdown",
   "metadata": {},
   "source": [
    "- Print current system time"
   ]
  },
  {
   "cell_type": "code",
   "execution_count": 8,
   "metadata": {
    "collapsed": false
   },
   "outputs": [
    {
     "name": "stdout",
     "output_type": "stream",
     "text": [
<<<<<<< HEAD
      "Mit Jul 17 17:37:36 CEST 2019\r\n"
=======
      "Sam Jul 13 23:39:10 CEST 2019\r\n"
>>>>>>> 61d508c9229bc92f8459854941c183fea9a327e6
     ]
    }
   ],
   "source": [
    "system(\"date\");"
   ]
  },
  {
   "cell_type": "markdown",
   "metadata": {},
   "source": [
    "- Clone the code of 8TeV from github"
   ]
  },
  {
   "cell_type": "code",
   "execution_count": 9,
   "metadata": {
    "collapsed": false
   },
   "outputs": [
    {
     "name": "stderr",
     "output_type": "stream",
     "text": [
      "Cloning into 'atlas-outreach-data-tools-framework'...\r\n",
      "remote: Enumerating objects: 49, done.\u001b[K\r\n",
      "Unpacking objects:   2% (1/49)   \r",
      "Unpacking objects:   4% (2/49)   \r",
      "Unpacking objects:   6% (3/49)   \r",
      "Unpacking objects:   8% (4/49)   \r",
      "Unpacking objects:  10% (5/49)   \r",
      "Unpacking objects:  12% (6/49)   \r",
      "Unpacking objects:  14% (7/49)   \r",
      "Unpacking objects:  16% (8/49)   \r",
      "Unpacking objects:  18% (9/49)   \r",
      "Unpacking objects:  20% (10/49)   \r",
      "Unpacking objects:  22% (11/49)   \r",
      "Unpacking objects:  24% (12/49)   \r",
      "Unpacking objects:  26% (13/49)   \r",
      "Unpacking objects:  28% (14/49)   \r",
      "Unpacking objects:  30% (15/49)   \r",
      "Unpacking objects:  32% (16/49)   \r",
      "Unpacking objects:  34% (17/49)   \r",
      "Unpacking objects:  36% (18/49)   \r",
      "Unpacking objects:  38% (19/49)   \r",
      "Unpacking objects:  40% (20/49)   \r",
      "Unpacking objects:  42% (21/49)   \r",
<<<<<<< HEAD
=======
      "remote: Total 49 (delta 0), reused 0 (delta 0), pack-reused 49\u001b[K\r\n",
>>>>>>> 61d508c9229bc92f8459854941c183fea9a327e6
      "Unpacking objects:  44% (22/49)   \r",
      "Unpacking objects:  46% (23/49)   \r",
      "Unpacking objects:  48% (24/49)   \r",
      "Unpacking objects:  51% (25/49)   \r",
      "Unpacking objects:  53% (26/49)   \r",
      "Unpacking objects:  55% (27/49)   \r",
<<<<<<< HEAD
      "remote: Total 49 (delta 0), reused 0 (delta 0), pack-reused 49\u001b[K\r\n",
=======
>>>>>>> 61d508c9229bc92f8459854941c183fea9a327e6
      "Unpacking objects:  57% (28/49)   \r",
      "Unpacking objects:  59% (29/49)   \r",
      "Unpacking objects:  61% (30/49)   \r",
      "Unpacking objects:  63% (31/49)   \r",
      "Unpacking objects:  65% (32/49)   \r",
      "Unpacking objects:  67% (33/49)   \r",
      "Unpacking objects:  69% (34/49)   \r",
      "Unpacking objects:  71% (35/49)   \r",
      "Unpacking objects:  73% (36/49)   \r",
      "Unpacking objects:  75% (37/49)   \r",
      "Unpacking objects:  77% (38/49)   \r",
      "Unpacking objects:  79% (39/49)   \r",
      "Unpacking objects:  81% (40/49)   \r",
      "Unpacking objects:  83% (41/49)   \r",
      "Unpacking objects:  85% (42/49)   \r",
      "Unpacking objects:  87% (43/49)   \r",
      "Unpacking objects:  89% (44/49)   \r",
      "Unpacking objects:  91% (45/49)   \r",
      "Unpacking objects:  93% (46/49)   \r",
      "Unpacking objects:  95% (47/49)   \r",
      "Unpacking objects:  97% (48/49)   \r",
      "Unpacking objects: 100% (49/49)   \r",
      "Unpacking objects: 100% (49/49), done.\r\n",
      "Checking connectivity... done.\r\n"
     ]
    }
   ],
   "source": [
    "system(\"git clone https://github.com/atlas-outreach-data-tools/atlas-outreach-data-tools-framework.git\");"
   ]
  },
  {
   "cell_type": "markdown",
   "metadata": {},
   "source": [
    "### 1.4 Prepare the 8 TeV dataset"
   ]
  },
  {
   "cell_type": "markdown",
   "metadata": {},
   "source": [
    "- Change current directory to \"Input\""
   ]
  },
  {
   "cell_type": "code",
   "execution_count": 10,
   "metadata": {
    "collapsed": false
   },
   "outputs": [],
   "source": [
    "chdir(\"atlas-outreach-data-tools-framework/Input/\");"
   ]
  },
  {
   "cell_type": "markdown",
   "metadata": {},
   "source": [
    "- Print your current path"
   ]
  },
  {
   "cell_type": "code",
   "execution_count": 11,
   "metadata": {
    "collapsed": false
   },
   "outputs": [
    {
     "name": "stdout",
     "output_type": "stream",
     "text": [
      "/home/student/notebooks/demos-framework-software-notebooks/cpp-8tev/atlas-outreach-data-tools-framework/Input\r\n"
     ]
    }
   ],
   "source": [
    "system(\"pwd\");"
   ]
  },
  {
   "cell_type": "markdown",
   "metadata": {},
   "source": [
    "- Print current system time"
   ]
  },
  {
   "cell_type": "code",
   "execution_count": 12,
   "metadata": {
    "collapsed": false
   },
   "outputs": [
    {
     "name": "stdout",
     "output_type": "stream",
     "text": [
<<<<<<< HEAD
      "Mit Jul 17 17:37:38 CEST 2019\r\n"
=======
      "Sam Jul 13 23:39:25 CEST 2019\r\n"
>>>>>>> 61d508c9229bc92f8459854941c183fea9a327e6
     ]
    }
   ],
   "source": [
    "system(\"date\");"
   ]
  },
  {
   "cell_type": "markdown",
   "metadata": {},
   "source": [
    "- Download dataset"
   ]
  },
  {
   "cell_type": "code",
   "execution_count": 13,
   "metadata": {
    "collapsed": false
   },
   "outputs": [
    {
     "name": "stderr",
     "output_type": "stream",
     "text": [
      "--2019-07-13 23:39:26--  http://opendata.atlas.cern/release/samples/complete_set_of_ATLAS_open_data_samples_July_2016.zip\r\n",
      "Resolving opendata.atlas.cern (opendata.atlas.cern)... 188.184.64.13\r\n",
      "Connecting to opendata.atlas.cern (opendata.atlas.cern)|188.184.64.13|:80... connected.\r\n",
      "HTTP request sent, awaiting response... 200 OK\r\n",
      "Length: 5982176723 (5.6G) [application/zip]\r\n",
      "Saving to: ‘complete_set_of_ATLAS_open_data_samples_July_2016.zip’\r\n",
      "\r\n",
      "\r",
      "complete_set_of_ATL   0%[                      ]       0  --.-KB/s             \r",
      "omplete_set_of_ATLA   0%[                      ]   2.04M  10.2MB/s             \r",
      "mplete_set_of_ATLAS   0%[                      ]   6.24M  15.5MB/s             \r",
      "plete_set_of_ATLAS_   0%[                      ]  13.47M  22.4MB/s             \r",
      "lete_set_of_ATLAS_o   0%[                      ]  23.26M  29.0MB/s             \r",
      "ete_set_of_ATLAS_op   0%[                      ]  33.08M  33.0MB/s             \r",
      "te_set_of_ATLAS_ope   0%[                      ]  44.24M  36.8MB/s             \r",
      "e_set_of_ATLAS_open   0%[                      ]  54.43M  38.8MB/s             \r",
      "_set_of_ATLAS_open_   1%[                      ]  65.61M  40.9MB/s             \r",
      "set_of_ATLAS_open_d   1%[                      ]  76.89M  42.6MB/s             \r",
      "et_of_ATLAS_open_da   1%[                      ]  87.24M  43.5MB/s             \r",
      "t_of_ATLAS_open_dat   1%[                      ]  98.56M  44.7MB/s             \r",
      "_of_ATLAS_open_data   1%[                      ] 103.46M  43.0MB/s             \r",
      "of_ATLAS_open_data_   2%[                      ] 114.34M  43.9MB/s             \r",
      "f_ATLAS_open_data_s   2%[                      ] 123.21M  43.9MB/s             \r",
      "_ATLAS_open_data_sa   2%[                      ] 126.48M  41.7MB/s   eta 2m 14s\r",
      "ATLAS_open_data_sam   2%[                      ] 136.02M  43.8MB/s   eta 2m 14s\r",
      "TLAS_open_data_samp   2%[                      ] 144.23M  44.9MB/s   eta 2m 14s\r",
      "LAS_open_data_sampl   2%[                      ] 153.09M  45.7MB/s   eta 2m 14s\r",
      "AS_open_data_sample   2%[                      ] 164.11M  46.6MB/s   eta 2m 14s\r",
      "S_open_data_samples   3%[                      ] 174.47M  46.6MB/s   eta 2m 8s \r",
      "_open_data_samples_   3%[                      ] 185.52M  47.0MB/s   eta 2m 8s \r",
      "open_data_samples_J   3%[                      ] 195.62M  46.6MB/s   eta 2m 8s \r",
      "pen_data_samples_Ju   3%[                      ] 203.56M  45.8MB/s   eta 2m 8s \r",
      "en_data_samples_Jul   3%[                      ] 214.61M  46.0MB/s   eta 2m 8s \r",
      "n_data_samples_July   3%[                      ] 223.96M  45.4MB/s   eta 2m 3s \r",
      "_data_samples_July_   4%[                      ] 232.07M  44.4MB/s   eta 2m 3s \r",
      "data_samples_July_2   4%[                      ] 241.13M  45.4MB/s   eta 2m 3s \r",
      "ata_samples_July_20   4%[                      ] 250.70M  45.0MB/s   eta 2m 3s \r",
      "ta_samples_July_201   4%[>                     ] 260.52M  45.4MB/s   eta 2m 3s \r",
      "a_samples_July_2016   4%[>                     ] 265.89M  46.2MB/s   eta 2m 4s \r",
      "_samples_July_2016.   4%[>                     ] 276.23M  46.6MB/s   eta 2m 4s \r",
      "samples_July_2016.z   5%[>                     ] 285.53M  46.8MB/s   eta 2m 4s \r",
      "amples_July_2016.zi   5%[>                     ] 293.99M  46.6MB/s   eta 2m 4s \r",
      "mples_July_2016.zip   5%[>                     ] 304.81M  46.8MB/s   eta 2m 4s \r",
      "complete_set_of_ATL   5%[>                     ] 312.38M  45.8MB/s   eta 2m 2s \r",
      "omplete_set_of_ATLA   5%[>                     ] 322.63M  45.9MB/s   eta 2m 2s \r",
      "mplete_set_of_ATLAS   5%[>                     ] 330.90M  44.9MB/s   eta 2m 2s \r",
      "plete_set_of_ATLAS_   5%[>                     ] 339.48M  44.9MB/s   eta 2m 2s \r",
      "lete_set_of_ATLAS_o   6%[>                     ] 347.52M  43.6MB/s   eta 2m 2s \r",
      "ete_set_of_ATLAS_op   6%[>                     ] 356.49M  43.0MB/s   eta 2m 2s \r",
      "te_set_of_ATLAS_ope   6%[>                     ] 363.72M  42.6MB/s   eta 2m 2s \r",
      "e_set_of_ATLAS_open   6%[>                     ] 374.53M  43.0MB/s   eta 2m 2s \r",
      "_set_of_ATLAS_open_   6%[>                     ] 385.67M  43.6MB/s   eta 2m 2s \r",
      "set_of_ATLAS_open_d   6%[>                     ] 396.78M  43.8MB/s   eta 2m 2s \r",
      "et_of_ATLAS_open_da   7%[>                     ] 407.94M  45.9MB/s   eta 1m 59s\r",
      "t_of_ATLAS_open_dat   7%[>                     ] 417.62M  43.9MB/s   eta 1m 59s\r",
      "_of_ATLAS_open_data   7%[>                     ] 429.10M  44.9MB/s   eta 1m 59s\r",
      "of_ATLAS_open_data_   7%[>                     ] 440.37M  45.5MB/s   eta 1m 59s\r",
      "f_ATLAS_open_data_s   7%[>                     ] 450.39M  45.5MB/s   eta 1m 59s\r",
      "_ATLAS_open_data_sa   8%[>                     ] 460.83M  45.1MB/s   eta 1m 58s\r",
      "ATLAS_open_data_sam   8%[>                     ] 471.56M  45.3MB/s   eta 1m 58s\r",
      "TLAS_open_data_samp   8%[>                     ] 481.01M  45.3MB/s   eta 1m 58s\r",
      "LAS_open_data_sampl   8%[>                     ] 490.12M  45.9MB/s   eta 1m 58s\r",
      "AS_open_data_sample   8%[>                     ] 500.48M  46.9MB/s   eta 1m 58s\r",
      "S_open_data_samples   8%[>                     ] 510.04M  47.4MB/s   eta 1m 55s\r",
      "_open_data_samples_   9%[=>                    ] 521.40M  48.8MB/s   eta 1m 55s\r",
      "open_data_samples_J   9%[=>                    ] 530.26M  48.3MB/s   eta 1m 55s\r",
      "pen_data_samples_Ju   9%[=>                    ] 541.40M  48.5MB/s   eta 1m 55s\r",
      "en_data_samples_Jul   9%[=>                    ] 552.81M  48.8MB/s   eta 1m 55s\r",
      "n_data_samples_July   9%[=>                    ] 563.17M  48.7MB/s   eta 1m 53s\r",
      "_data_samples_July_   9%[=>                    ] 570.15M  49.3MB/s   eta 1m 53s\r",
      "data_samples_July_2  10%[=>                    ] 581.83M  49.4MB/s   eta 1m 53s\r",
      "ata_samples_July_20  10%[=>                    ] 592.59M  49.4MB/s   eta 1m 53s\r",
      "ta_samples_July_201  10%[=>                    ] 603.79M  50.7MB/s   eta 1m 53s\r",
      "a_samples_July_2016  10%[=>                    ] 610.61M  49.0MB/s   eta 1m 52s\r",
      "_samples_July_2016.  10%[=>                    ] 617.50M  47.7MB/s   eta 1m 52s\r",
      "samples_July_2016.z  11%[=>                    ] 628.54M  48.1MB/s   eta 1m 52s\r",
      "amples_July_2016.zi  11%[=>                    ] 638.07M  48.1MB/s   eta 1m 52s\r",
      "mples_July_2016.zip  11%[=>                    ] 649.20M  48.8MB/s   eta 1m 52s\r",
      "complete_set_of_ATL  11%[=>                    ] 659.50M  48.9MB/s   eta 1m 50s\r",
      "omplete_set_of_ATLA  11%[=>                    ] 670.69M  49.3MB/s   eta 1m 50s\r",
      "mplete_set_of_ATLAS  11%[=>                    ] 682.08M  49.0MB/s   eta 1m 50s\r",
      "plete_set_of_ATLAS_  12%[=>                    ] 690.65M  49.4MB/s   eta 1m 50s\r",
      "lete_set_of_ATLAS_o  12%[=>                    ] 701.82M  49.2MB/s   eta 1m 50s\r",
      "ete_set_of_ATLAS_op  12%[=>                    ] 711.24M  48.4MB/s   eta 1m 48s\r",
      "te_set_of_ATLAS_ope  12%[=>                    ] 719.60M  47.9MB/s   eta 1m 48s\r",
      "e_set_of_ATLAS_open  12%[=>                    ] 731.39M  49.7MB/s   eta 1m 48s\r",
      "_set_of_ATLAS_open_  13%[=>                    ] 742.45M  49.3MB/s   eta 1m 48s\r",
      "set_of_ATLAS_open_d  13%[=>                    ] 753.76M  49.5MB/s   eta 1m 48s\r",
      "et_of_ATLAS_open_da  13%[=>                    ] 759.46M  47.9MB/s   eta 1m 47s\r",
      "t_of_ATLAS_open_dat  13%[=>                    ] 772.06M  51.5MB/s   eta 1m 47s\r",
      "_of_ATLAS_open_data  13%[==>                   ] 783.19M  51.6MB/s   eta 1m 47s\r",
      "of_ATLAS_open_data_  13%[==>                   ] 793.62M  51.4MB/s   eta 1m 47s\r",
      "f_ATLAS_open_data_s  13%[==>                   ] 797.85M  49.5MB/s   eta 1m 47s\r",
      "_ATLAS_open_data_sa  14%[==>                   ] 810.01M  50.0MB/s   eta 1m 45s\r",
      "ATLAS_open_data_sam  14%[==>                   ] 821.27M  50.2MB/s   eta 1m 45s\r",
      "TLAS_open_data_samp  14%[==>                   ] 832.42M  50.1MB/s   eta 1m 45s\r",
      "LAS_open_data_sampl  14%[==>                   ] 836.95M  48.6MB/s   eta 1m 45s\r",
      "AS_open_data_sample  14%[==>                   ] 847.69M  48.7MB/s   eta 1m 45s\r",
      "S_open_data_samples  15%[==>                   ] 857.94M  48.7MB/s   eta 1m 44s\r",
      "_open_data_samples_  15%[==>                   ] 869.11M  49.3MB/s   eta 1m 44s\r",
      "open_data_samples_J  15%[==>                   ] 876.68M  46.9MB/s   eta 1m 44s\r",
      "pen_data_samples_Ju  15%[==>                   ] 886.44M  46.6MB/s   eta 1m 44s\r",
      "en_data_samples_Jul  15%[==>                   ] 898.32M  46.9MB/s   eta 1m 44s\r",
      "n_data_samples_July  15%[==>                   ] 907.80M  47.3MB/s   eta 1m 43s\r",
      "_data_samples_July_  16%[==>                   ] 914.98M  46"
     ]
    }
   ],
   "source": [
    "system(\"wget http://opendata.atlas.cern/release/samples/complete_set_of_ATLAS_open_data_samples_July_2016.zip\");"
   ]
  },
  {
   "cell_type": "markdown",
   "metadata": {},
   "source": [
    "- Print current system time"
   ]
  },
  {
   "cell_type": "code",
   "execution_count": 14,
   "metadata": {
    "collapsed": false
   },
   "outputs": [
    {
     "name": "stdout",
     "output_type": "stream",
     "text": [
      "Sam Jul 13 23:43:41 CEST 2019\r\n"
     ]
    },
    {
     "name": "stderr",
     "output_type": "stream",
     "text": [
      ".1MB/s   eta 1m 43s\r",
      "data_samples_July_2  16%[==>                   ] 921.87M  45.0MB/s   eta 1m 43s\r",
      "ata_samples_July_20  16%[==>                   ] 928.81M  43.5MB/s   eta 1m 43s\r",
      "ta_samples_July_201  16%[==>                   ] 933.22M  43.4MB/s   eta 1m 43s\r",
      "a_samples_July_2016  16%[==>                   ] 939.91M  41.5MB/s   eta 1m 44s\r",
      "_samples_July_2016.  16%[==>                   ] 946.28M  40.8MB/s   eta 1m 44s\r",
      "samples_July_2016.z  16%[==>                   ] 953.10M  39.0MB/s   eta 1m 44s\r",
      "amples_July_2016.zi  16%[==>                   ] 959.29M  38.6MB/s   eta 1m 44s\r",
      "mples_July_2016.zip  16%[==>                   ] 966.32M  38.9MB/s   eta 1m 44s\r",
      "complete_set_of_ATL  16%[==>                   ] 968.23M  35.5MB/s   eta 1m 45s\r",
      "omplete_set_of_ATLA  17%[==>                   ] 975.71M  34.6MB/s   eta 1m 45s\r",
      "mplete_set_of_ATLAS  17%[==>                   ] 977.07M  31.8MB/s   eta 1m 45s\r",
      "plete_set_of_ATLAS_  17%[==>                   ] 981.27M  31.2MB/s   eta 1m 45s\r",
      "lete_set_of_ATLAS_o  17%[==>                   ] 988.28M  29.8MB/s   eta 1m 48s\r",
      "ete_set_of_ATLAS_op  17%[==>                   ] 993.04M  26.3MB/s   eta 1m 48s\r",
      "te_set_of_ATLAS_ope  17%[==>                   ] 996.43M  24.5MB/s   eta 1m 48s\r",
      "e_set_of_ATLAS_open  17%[==>                   ]   1002M  24.1MB/s   eta 1m 48s\r",
      "_set_of_ATLAS_open_  17%[==>                   ]   1004M  22.7MB/s   eta 1m 48s\r",
      "set_of_ATLAS_open_d  17%[==>                   ]   1007M  21.7MB/s   eta 1m 51s\r",
      "et_of_ATLAS_open_da  17%[==>                   ]   1009M  20.9MB/s   eta 1m 51s\r",
      "t_of_ATLAS_open_dat  17%[==>                   ]   1012M  20.2MB/s   eta 1m 51s\r",
      "_of_ATLAS_open_data  17%[==>                   ]   1015M  19.5MB/s   eta 1m 51s\r",
      "of_ATLAS_open_data_  17%[==>                   ]   1017M  17.2MB/s   eta 1m 51s\r",
      "f_ATLAS_open_data_s  17%[==>                   ]   1020M  16.5MB/s   eta 1m 54s\r",
      "_ATLAS_open_data_sa  17%[==>                   ]   1023M  15.7MB/s   eta 1m 54s\r",
      "ATLAS_open_data_sam  17%[==>                   ]   1.00G  14.1MB/s   eta 1m 54s\r",
      "TLAS_open_data_samp  18%[==>                   ]   1.01G  15.6MB/s   eta 1m 54s\r",
      "LAS_open_data_sampl  18%[===>                  ]   1.01G  16.0MB/s   eta 1m 54s\r",
      "AS_open_data_sample  18%[===>                  ]   1.02G  17.1MB/s   eta 1m 56s\r",
      "S_open_data_samples  18%[===>                  ]   1.03G  17.0MB/s   eta 1m 56s\r",
      "_open_data_samples_  18%[===>                  ]   1.03G  18.1MB/s   eta 1m 56s\r",
      "open_data_samples_J  18%[===>                  ]   1.04G  19.6MB/s   eta 1m 56s\r",
      "pen_data_samples_Ju  18%[===>                  ]   1.05G  20.7MB/s   eta 1m 56s\r",
      "en_data_samples_Jul  18%[===>                  ]   1.05G  21.0MB/s   eta 1m 56s\r",
      "n_data_samples_July  19%[===>                  ]   1.06G  23.1MB/s   eta 1m 56s\r",
      "_data_samples_July_  19%[===>                  ]   1.07G  24.5MB/s   eta 1m 56s\r",
      "data_samples_July_2  19%[===>                  ]   1.07G  25.8MB/s   eta 1m 56s\r",
      "ata_samples_July_20  19%[===>                  ]   1.08G  27.6MB/s   eta 1m 56s\r",
      "ta_samples_July_201  19%[===>                  ]   1.09G  29.1MB/s   eta 1m 55s\r",
      "a_samples_July_2016  19%[===>                  ]   1.09G  30.7MB/s   eta 1m 55s\r",
      "_samples_July_2016.  19%[===>                  ]   1.10G  33.4MB/s   eta 1m 55s\r",
      "samples_July_2016.z  19%[===>                  ]   1.11G  34.9MB/s   eta 1m 55s\r",
      "amples_July_2016.zi  20%[===>                  ]   1.12G  34.5MB/s   eta 1m 55s\r",
      "mples_July_2016.zip  20%[===>                  ]   1.12G  34.5MB/s   eta 1m 55s\r",
      "complete_set_of_ATL  20%[===>                  ]   1.13G  34.4MB/s   eta 1m 55s\r",
      "omplete_set_of_ATLA  20%[===>                  ]   1.13G  34.0MB/s   eta 1m 55s\r",
      "mplete_set_of_ATLAS  20%[===>                  ]   1.14G  33.9MB/s   eta 1m 55s\r",
      "plete_set_of_ATLAS_  20%[===>                  ]   1.15G  34.4MB/s   eta 1m 55s\r",
      "lete_set_of_ATLAS_o  20%[===>                  ]   1.16G  34.2MB/s   eta 1m 55s\r",
      "ete_set_of_ATLAS_op  20%[===>                  ]   1.16G  34.2MB/s   eta 1m 55s\r",
      "te_set_of_ATLAS_ope  20%[===>                  ]   1.17G  33.8MB/s   eta 1m 55s\r",
      "e_set_of_ATLAS_open  21%[===>                  ]   1.17G  33.8MB/s   eta 1m 55s\r",
      "_set_of_ATLAS_open_  21%[===>                  ]   1.18G  33.6MB/s   eta 1m 55s\r",
      "set_of_ATLAS_open_d  21%[===>                  ]   1.19G  33.9MB/s   eta 1m 54s\r",
      "et_of_ATLAS_open_da  21%[===>                  ]   1.20G  33.9MB/s   eta 1m 54s\r",
      "t_of_ATLAS_open_dat  21%[===>                  ]   1.20G  33.7MB/s   eta 1m 54s\r",
      "_of_ATLAS_open_data  21%[===>                  ]   1.21G  33.7MB/s   eta 1m 54s\r",
      "of_ATLAS_open_data_  21%[===>                  ]   1.21G  33.6MB/s   eta 1m 54s\r",
      "f_ATLAS_open_data_s  21%[===>                  ]   1.22G  33.8MB/s   eta 1m 54s\r",
      "_ATLAS_open_data_sa  22%[===>                  ]   1.23G  33.7MB/s   eta 1m 54s\r",
      "ATLAS_open_data_sam  22%[===>                  ]   1.24G  33.8MB/s   eta 1m 54s\r",
      "TLAS_open_data_samp  22%[===>                  ]   1.24G  33.8MB/s   eta 1m 54s\r",
      "LAS_open_data_sampl  22%[===>                  ]   1.25G  34.1MB/s   eta 1m 54s\r",
      "AS_open_data_sample  22%[===>                  ]   1.25G  33.3MB/s   eta 1m 54s\r",
      "S_open_data_samples  22%[===>                  ]   1.26G  33.3MB/s   eta 1m 54s\r",
      "_open_data_samples_  22%[====>                 ]   1.27G  33.6MB/s   eta 1m 54s\r",
      "open_data_samples_J  22%[====>                 ]   1.27G  33.8MB/s   eta 1m 54s\r",
      "pen_data_samples_Ju  22%[====>                 ]   1.28G  33.6MB/s   eta 1m 54s\r",
      "en_data_samples_Jul  23%[====>                 ]   1.29G  32.9MB/s   eta 1m 53s\r",
      "n_data_samples_July  23%[====>                 ]   1.29G  33.7MB/s   eta 1m 53s\r",
      "_data_samples_July_  23%[====>                 ]   1.30G  33.2MB/s   eta 1m 53s\r",
      "data_samples_July_2  23%[====>                 ]   1.31G  33.6MB/s   eta 1m 53s\r",
      "ata_samples_July_20  23%[====>                 ]   1.31G  33.2MB/s   eta 1m 53s\r",
      "ta_samples_July_201  23%[====>                 ]   1.32G  32.6MB/s   eta 1m 53s\r",
      "a_samples_July_2016  23%[====>                 ]   1.32G  32.8MB/s   eta 1m 53s\r",
      "_samples_July_2016.  23%[====>                 ]   1.33G  31.2MB/s   eta 1m 53s\r",
      "samples_July_2016.z  23%[====>                 ]   1.34G  31.9MB/s   eta 1m 53s\r",
      "amples_July_2016.zi  24%[====>                 ]   1.34G  31.6MB/s   eta 1m 53s\r",
      "mples_July_2016.zip  24%[====>                 ]   1.35G  31.9MB/s   eta 1m 53s\r",
      "complete_set_of_ATL  24%[====>                 ]   1.35G  32.0MB/s   eta 1m 53s\r",
      "omplete_set_of_ATLA  24%[====>                 ]   1.36G  32.0MB/s   eta 1m 53s\r",
      "mplete_set_of_ATLAS  24%[====>                 ]   1.36G  29.5MB/s   eta 1m 53s\r",
      "plete_set_of_ATLAS_  24%[====>                 ]   1.37G  29.4MB/s   eta 1m 53s\r",
      "lete_set_of_ATLAS_o  24%[====>                 ]   1.38G  29.3MB/s   eta 1m 53s\r",
      "ete_set_of_ATLAS_op  24%[====>                 ]   1.38G  29.7MB/s   eta 1m 53s\r",
      "te_set_of_ATLAS_ope  24%[====>                 ]   1.39G  28.9MB/s   eta 1m 53s\r",
      "e_set_of_ATLAS_open  25%[====>                 ]   1.39G  29.2MB/s   eta 1m 53s\r",
      "_set_of_ATLAS_open_  25%[====>                 ]   1.40G  29.0MB/s   eta 1m 53s\r",
      "set_of_ATLAS_open_d  25%[====>                 ]   1.41G  29.0MB/s   eta 1m 53s\r",
      "et_of_ATLAS_open_da  25%[====>                 ]   1.41G  28.9MB/s   eta 1m 53s\r",
      "t_of_ATLAS_open_dat  25%[====>                 ]   1.42G  29.3MB/s   eta 1m 53s\r",
      "_of_ATLAS_open_data  25%[====>                 ]   1.42G  30.0MB/s   eta 1m 53s\r",
      "of_ATLAS_open_data_  25%[====>                 ]   1.43G  28.9MB/s   eta 1m 53s\r",
      "f_ATLAS_open_data_s  25%[====>                 ]   1.43G  29.0MB/s   eta 1m 53s\r",
      "_ATLAS_open_data_sa  25%[====>                 ]   1.44G  28.6MB/s   eta 1m 53s\r",
      "ATLAS_open_data_sam  25%[====>                 ]   1.44G  22.2MB/s   eta 1m 56s\r",
      "TLAS_open_data_samp  25%[====>                 ]   1.44G  20.9MB/s   eta 1m 56s\r",
      "LAS_open_data_sampl  26%[====>                 ]   1.45G  22.8MB/s   eta 1m 56s\r",
      "AS_open_data_sample  26%[====>                 ]   1.46G  22.9MB/s   eta 1m 56s\r",
      "S_open_data_samples  26%[====>                 ]   1.46G  22.6MB/s   eta 1m 56s\r",
      "_open_data_samples_  26%[====>                 ]   1.47G  22.7MB/s   eta 1m 55s\r",
      "open_data_samples_J  26%[====>                 ]   1.48G  22.9MB/s   eta 1m 55s\r",
      "pen_data_samples_Ju  26%[====>                 ]   1.48G  22.6MB/s   eta 1m 55s\r",
      "en_data_samples_Jul  26%[====>                 ]   1.49G  22.8MB/s   eta 1m 55s\r",
      "n_data_samples_July  26%[====>                 ]   1.49G  22.8MB/s   eta 1m 55s\r",
      "_data_samples_July_  26%[====>                 ]   1.50G  22.8MB/s   eta 1m 55s\r",
      "data_samples_July_2  27%[====>                 ]   1.51G  22.6MB/s   eta 1m 55s\r",
      "ata_samples_July_20  27%[====>                 ]   1.51G  23.0MB/s   eta 1m 55s\r",
      "ta_samples_July_201  27%[=====>                ]   1.52G  23.2MB/s   eta 1m 55s\r",
      "a_samples_July_2016  27%[=====>                ]   1.53G  23.5MB/s   eta 1m 55s\r",
      "_samples_July_2016.  27%[=====>                ]   1.53G  23.8MB/s   eta 1m 54s\r",
      "samples_July_2016.z  27%[=====>                ]   1.54G  32.3MB/s   eta 1m 54s\r",
      "amples_July_2016.zi  27%[=====>                ]   1.55G  29.5MB/s   eta 1m 54s\r",
      "mples_July_2016.zip  27%[=====>                ]   1.55G  30.0MB/s   eta 1m 54s\r",
      "complete_set_of_ATL  28%[=====>                ]   1.56G  30.1MB/s   eta 1m 54s\r",
      "omplete_set_of_ATLA  28%[=====>                ]   1.57G  30.3MB/s   eta 1m 54s\r",
      "mplete_set_of_ATLAS  28%[=====>                ]   1.57G  30.2MB/s   eta 1m 54s\r",
      "plete_set_of_ATLAS_  28%[=====>                ]   1.58G  30.3MB/s   eta 1m 54s\r",
      "lete_set_of_ATLAS_o  28%[=====>                ]   1.59G  30.5MB/s   eta 1m 54s\r",
      "ete_set_of_ATLAS_op  28%[=====>                ]   1.59G  30.8MB/s   eta 1m 53s\r",
      "te_set_of_ATLAS_ope  28%[=====>                ]   1.60G  30.8MB/s   eta 1m 53s\r",
      "e_set_of_ATLAS_open  28%[=====>                ]   1.61G  30.9MB/s   eta 1m 53s\r",
      "_set_of_ATLAS_open_  28%[=====>                ]   1.61G  30.5MB/s   eta 1m 53s\r",
      "set_of_ATLAS_open_d  29%[=====>                ]   1.62G  30.7MB/s   eta 1m 53s\r",
      "et_of_ATLAS_open_da  29%[=====>                ]   1.62G  30.7MB/s   eta 1m 53s\r",
      "t_of_ATLAS_open_dat  29%[=====>                ]   1.63G  30.5MB/s   eta 1m 53s\r",
      "_of_ATLAS_open_data  29%[=====>                ]   1.64G  30.5MB/s   eta 1m 53s\r",
      "of_ATLAS_open_data_  29%[=====>                ]   1.64G  30.5MB/s   eta 1m 53s\r",
      "f_ATLAS_open_data_s  29%[=====>                ]   1.65G  32.7MB/s   eta 1m 53s\r",
      "_ATLAS_open_data_sa  29%[=====>                ]   1.66G  32.8MB/s   eta 1m 52s\r",
      "ATLAS_open_data_sam  29%[=====>                ]   1.66G  32.6MB/s   eta 1m 52s\r",
      "TLAS_open_data_samp  29%[=====>                ]   1.67G  32.6MB/s   eta 1m 52s\r",
      "LAS_open_data_sampl  30%[=====>                ]   1.67G  32.6MB/s   eta 1m 52s\r",
      "AS_open_data_sample  30%[=====>                ]   1.68G  32.8MB/s   eta 1m 52s\r",
      "S_open_data_samples  30%[=====>                ]   1.69G  32.6MB/s   eta 1m 51s\r",
      "_open_data_samples_  30%[=====>                ]   1.69G  31.2MB/s   eta 1m 51s\r",
      "open_data_samples_J  30%[=====>                ]   1.70G  31.8MB/s   eta 1m 51s\r",
      "pen_data_samples_Ju  30%[=====>                ]   1.71G  31.9MB/s   eta 1m 51s\r",
      "en_data_samples_Jul  30%[=====>                ]   1.71G  32.1MB/s   eta 1m 51s\r",
      "n_data_samples_July  30%[=====>                ]   1.72G  32.2MB/s   eta 1m 51s\r",
      "_data_samples_July_  30%[=====>                ]   1.73G  32.2MB/s   eta 1m 51s\r",
      "data_samples_July_2  31%[=====>                ]   1.73G  32.4MB/s   eta 1m 51s\r",
      "ata_samples_July_20  31%[=====>                ]   1.74G  32.0MB/s   eta 1m 51s\r",
      "ta_samples_July_201  31%[=====>                ]   1.74G  31.6MB/s   eta 1m 51s\r",
      "a_samples_July_2016  31%[=====>                ]   1.75G  31.6MB/s   eta 1m 50s\r",
      "_samples_July_2016.  31%[=====>                ]   1.76G  31.7MB/s   eta 1m 50s\r",
      "samples_July_2016.z  31%[=====>                ]   1.76G  31.8MB/s   eta 1m 50s\r",
      "amples_July_2016.zi  31%[=====>                ]   1.77G  31.7MB/s   eta 1m 50s\r",
      "mples_July_2016.zip  31%[======>               ]   1.78G  31.7MB/s   eta 1m 50s\r",
      "complete_set_of_ATL  31%[======>               ]   1.78G  31.7MB/s   eta 1m 49s\r",
      "omplete_set_of_ATLA  32%[======>               ]   1.79G  33.4MB/s   eta 1m 49s\r",
      "mplete_set_of_ATLAS  32%[======>               ]   1.79G  32.6MB/s   eta 1m 49s\r",
      "plete_set_of_ATLAS_  32%[======>               ]   1.80G  32.0MB/s   eta 1m 49s\r",
      "lete_set_of_ATLAS_o  32%[======>               ]   1.81G  32.5MB/s   eta 1m 49s\r",
      "ete_set_of_ATLAS_op  32%[======>               ]   1.82G  32.5MB/s   eta 1m 49s\r",
      "te_set_of_ATLAS_ope  32%[======>               ]   1.82G  32.5MB/s   eta 1m 49s\r",
      "e_set_of_ATLAS_open  32%[======>               ]   1.83G  32.4MB/s   eta 1m 49s\r",
      "_set_of_ATLAS_open_  32%[======>               ]   1.83G  31.7MB/s   eta 1m 49s\r",
      "set_of_ATLAS_open_d  33%[======>               ]   1.84G  32.8MB/s   eta 1m 49s\r",
      "et_of_ATLAS_open_da  33%[======>               ]   1.85G  32.6MB/s   eta 1m 48s\r",
      "t_of_ATLAS_open_dat  33%[======>               ]   1.85G  32.5MB/s   eta 1m 48s\r",
      "_of_ATLAS_open_data  33%[======>               ]   1.86G  32.4MB/s   eta 1m 48s\r",
      "of_ATLAS_open_data_  33%[======>               ]   1.87G  32.4MB/s   eta 1m 48s\r",
      "f_ATLAS_open_data_s  33%[======>               ]   1.87G  32.4MB/s   eta 1m 48s\r",
      "_ATLAS_open_data_sa  33%[======>               ]   1.87G  29.9MB/s   eta 1m 48s\r",
      "ATLAS_open_data_sam  33%[======>               ]   1.88G  30.6MB/s   eta 1m 48s\r",
      "TLAS_open_data_samp  33%[======>               ]   1.89G  29.8MB/s   eta 1m 48s\r",
      "LAS_open_data_sampl  33%[======>               ]   1.89G  28.0MB/s   eta 1m 48s\r",
      "AS_open_data_sample  34%[======>               ]   1.90G  29.3MB/s   eta 1m 48s\r",
      "S_open_data_samples  34%[======>               ]   1.91G  28.2MB/s   eta 1m 47s\r",
      "_open_data_samples_  34%[======>               ]   1.91G  22.3MB/s   eta 1m 47s\r",
      "open_data_samples_J  34%[======>               ]   1.91G  21.3MB/s   eta 1m 49s\r",
      "pen_data_samples_Ju  34%[======>               ]   1.91G  20.6MB/s   eta 1m 49s\r",
      "en_data_samples_Jul  34%[======>               ]   1.91G  19.9MB/s   eta 1m 49s\r",
      "n_data_samples_July  34%[======>               ]   1.92G  19.4MB/s   eta 1m 49s\r",
      "_data_samples_July_  34%[======>               ]   1.92G  18.6MB/s   eta 1m 49s\r",
      "data_samples_July_2  34%[======>               ]   1.92G  18.0MB/s   eta 1m 50s\r",
      "ata_samples_July_20  34%[======>               ]   1.93G  17.1MB/s   eta 1m 50s\r",
      "ta_samples_July_201  34%[======>               ]   1.93G  16.5MB/s   eta 1m 50s\r",
      "a_samples_July_2016  34%[======>               ]   1.93G  15.8MB/s   eta 1m 50s\r",
      "_samples_July_2016.  34%[======>               ]   1.94G  15.7MB/s   eta 1m 50s\r",
      "samples_July_2016.z  34%[======>               ]   1.94G  14.7MB/s   eta 1m 50s\r",
      "amples_July_2016.zi  34%[======>               ]   1.94G  14.5MB/s   eta 1m 50s\r",
      "mples_July_2016.zip  34%[======>               ]   1.95G  14.6MB/s   eta 1m 50s\r",
      "complete_set_of_ATL  35%[======>               ]   1.95G  13.5MB/s   eta 1m 50s\r",
      "omplete_set_of_ATLA  35%[======>               ]   1.95G  13.1MB/s   eta 1m 50s\r",
      "mplete_set_of_ATLAS  35%[======>               ]   1.96G  17.0MB/s   eta 1m 51s\r",
      "plete_set_of_ATLAS_  35%[======>               ]   1.96G  17.2MB/s   eta 1m 51s\r",
      "lete_set_of_ATLAS_o  35%[======>               ]   1.96G  17.4MB/s   eta 1m 51s\r",
      "ete_set_of_ATLAS_op  35%[======>               ]   1.97G  17.5MB/s   eta 1m 51s\r",
      "te_set_of_ATLAS_ope  35%[======>               ]   1.97G  17.6MB/s   eta 1m 51s\r",
      "e_set_of_ATLAS_open  35%[======>               ]   1.98G  17.8MB/s   eta 1m 51s\r",
      "_set_of_ATLAS_open_  35%[======>               ]   1.98G  17.9MB/s   eta 1m 51s\r",
      "set_of_ATLAS_open_d  35%[======>               ]   1.98G  17.9MB/s   eta 1m 51s\r",
      "et_of_ATLAS_open_da  35%[======>               ]   1.99G  18.0MB/s   eta 1m 51s\r",
      "t_of_ATLAS_open_dat  35%[======>               ]   1.99G  14.0MB/s   eta 1m 53s\r",
      "_of_ATLAS_open_data  35%[======>               ]   1.99G  12.8MB/s   eta 1m 53s\r",
      "of_ATLAS_open_data_  35%[======>               ]   1.99G  12.8MB/s   eta 1m 53s\r",
      "f_ATLAS_open_data_s  35%[======>               ]   1.99G  12.9MB/s   eta 1m 53s\r",
      "_ATLAS_open_data_sa  35%[======>               ]   2.00G  12.8MB/s   eta 1m 53s\r",
      "ATLAS_open_data_sam  35%[======>               ]   2.00G  12.8MB/s   eta 1m 53s\r",
      "TLAS_open_data_samp  35%[======>               ]   2.00G  12.9MB/s   eta 1m 53s\r",
      "LAS_open_data_sampl  36%[======>               ]   2.01G  12.8MB/s   eta 1m 53s\r",
      "AS_open_data_sample  36%[======>               ]   2.01G  12.9MB/s   eta 1m 53s\r",
      "S_open_data_samples  36%[======>               ]   2.02G  13.0MB/s   eta 1m 53s\r",
      "_open_data_samples_  36%[======>               ]   2.02G  12.3MB/s   eta 1m 54s\r",
      "open_data_samples_J  36%[======>               ]   2.02G  12.6MB/s   eta 1m 54s\r",
      "pen_data_samples_Ju  36%[======>               ]   2.03G  12.7MB/s   eta 1m 54s\r",
      "en_data_samples_Jul  36%[=======>              ]   2.03G  12.5MB/s   eta 1m 54s\r",
      "n_data_samples_July  36%[=======>              ]   2.03G  12.6MB/s   eta 1m 54s\r",
      "_data_samples_July_  36%[=======>              ]   2.04G  12.6MB/s   eta 1m 54s\r",
      "data_samples_July_2  36%[=======>              ]   2.04G  12.8MB/s   eta 1m 54s\r",
      "ata_samples_July_20  36%[=======>              ]   2.04G  17.9MB/s   eta 1m 54s\r",
      "ta_samples_July_201  36%[=======>              ]   2.05G  18.0MB/s   eta 1m 54s\r",
      "a_samples_July_2016  36%[=======>              ]   2.05G  18.2MB/s   eta 1m 54s\r",
      "_samples_July_2016.  36%[=======>              ]   2.06G  18.4MB/s   eta 1m 54s\r",
      "samples_July_2016.z  36%[=======>              ]   2.06G  18.5MB/s   eta 1m 54s\r",
      "amples_July_2016.zi  37%[=======>              ]   2.06G  18.7MB/s   eta 1m 54s\r",
      "mples_July_2016.zip  37%[=======>              ]   2.07G  18.8MB/s   eta 1m 54s\r",
      "complete_set_of_ATL  37%[=======>              ]   2.07G  19.1MB/s   eta 1m 54s\r",
      "omplete_set_of_ATLA  37%[=======>              ]   2.08G  20.5MB/s   eta 1m 54s\r",
      "mplete_set_of_ATLAS  37%[=======>              ]   2.08G  20.4MB/s   eta 1m 54s\r",
      "plete_set_of_ATLAS_  37%[=======>              ]   2.09G  20.7MB/s   eta 1m 54s\r",
      "lete_set_of_ATLAS_o  37%[=======>              ]   2.09G  21.0MB/s   eta 1m 54s\r",
      "ete_set_of_ATLAS_op  37%[=======>              ]   2.10G  21.7MB/s   eta 1m 54s\r",
      "te_set_of_ATLAS_ope  37%[=======>              ]   2.10G  21.2MB/s   eta 1m 54s\r",
      "e_set_of_ATLAS_open  37%[=======>              ]   2.10G  21.6MB/s   eta 1m 54s\r",
      "_set_of_ATLAS_open_  37%[=======>              ]   2.11G  22.1MB/s   eta 1m 54s\r",
      "set_of_ATLAS_open_d  37%[=======>              ]   2.11G  22.6MB/s   eta 1m 54s\r",
      "et_of_ATLAS_open_da  38%[=======>              ]   2.12G  23.1MB/s   eta 1m 54s\r",
      "t_of_ATLAS_open_dat  38%[=======>              ]   2.13G  23.9MB/s   eta 1m 53s\r",
      "_of_ATLAS_open_data  38%[=======>              ]   2.13G  24.5MB/s   eta 1m 53s\r",
      "of_ATLAS_open_data_  38%[=======>              ]   2.14G  25.1MB/s   eta 1m 53s\r",
      "f_ATLAS_open_data_s  38%[=======>              ]   2.14G  26.0MB/s   eta 1m 53s\r",
      "_ATLAS_open_data_sa  38%[=======>              ]   2.15G  26.7MB/s   eta 1m 53s\r",
      "ATLAS_open_data_sam  38%[=======>              ]   2.16G  27.5MB/s   eta 1m 52s\r",
      "TLAS_open_data_samp  38%[=======>              ]   2.17G  28.4MB/s   eta 1m 52s\r",
      "LAS_open_data_sampl  39%[=======>              ]   2.17G  29.2MB/s   eta 1m 52s\r",
      "AS_open_data_sample  39%[=======>              ]   2.18G  29.8MB/s   eta 1m 52s\r",
      "S_open_data_samples  39%[=======>              ]   2.19G  30.9MB/s   eta 1m 52s\r",
      "_open_data_samples_  39%[=======>              ]   2.20G  32.8MB/s   eta 1m 50s\r",
      "open_data_samples_J  39%[=======>              ]   2.20G  32.5MB/s   eta 1m 50s\r",
      "pen_data_samples_Ju  39%[=======>              ]   2.21G  32.8MB/s   eta 1m 50s\r",
      "en_data_samples_Jul  39%[=======>              ]   2.21G  33.4MB/s   eta 1m 50s\r",
      "n_data_samples_July  39%[=======>              ]   2.22G  33.4MB/s   eta 1m 50s\r",
      "_data_samples_July_  39%[=======>              ]   2.23G  33.6MB/s   eta 1m 49s\r",
      "data_samples_July_2  40%[=======>              ]   2.23G  33.9MB/s   eta 1m 49s\r",
      "ata_samples_July_20  40%[=======>              ]   2.24G  34.0MB/s   eta 1m 49s\r",
      "ta_samples_July_201  40%[=======>              ]   2.24G  33.9MB/s   eta 1m 49s\r",
      "a_samples_July_2016  40%[=======>              ]   2.25G  34.8MB/s   eta 1m 49s\r",
      "_samples_July_2016.  40%[=======>              ]   2.26G  34.9MB/s   eta 1m 48s\r",
      "samples_July_2016.z  40%[=======>              ]   2.27G  34.6MB/s   eta 1m 48s\r",
      "amples_July_2016.zi  40%[=======>              ]   2.27G  34.2MB/s   eta 1m 48s\r",
      "mples_July_2016.zip  40%[=======>              ]   2.28G  28.1MB/s   eta 1m 48s\r",
      "complete_set_of_ATL  40%[=======>              ]   2.28G  26.1MB/s   eta 1m 48s\r",
      "omplete_set_of_ATLA  41%[========>             ]   2.29G  26.9MB/s   eta 1m 48s\r",
      "mplete_set_of_ATLAS  41%[========>             ]   2.29G  26.7MB/s   eta 1m 48s\r",
      "plete_set_of_ATLAS_  41%[========>             ]   2.30G  27.6MB/s   eta 1m 48s\r",
      "lete_set_of_ATLAS_o  41%[========>             ]   2.31G  27.3MB/s   eta 1m 47s\r",
      "ete_set_of_ATLAS_op  41%[========>             ]   2.32G  27.5MB/s   eta 1m 47s\r",
      "te_set_of_ATLAS_ope  41%[========>             ]   2.32G  27.5MB/s   eta 1m 47s\r",
      "e_set_of_ATLAS_open  41%[========>             ]   2.33G  27.4MB/s   eta 1m 47s\r",
      "_set_of_ATLAS_open_  41%[========>             ]   2.34G  28.0MB/s   eta 1m 47s\r",
      "set_of_ATLAS_open_d  42%[========>             ]   2.34G  28.0MB/s   eta 1m 46s\r",
      "et_of_ATLAS_open_da  42%[========>             ]   2.35G  28.0MB/s   eta 1m 46s\r",
      "t_of_ATLAS_open_dat  42%[========>             ]   2.36G  27.9MB/s   eta 1m 46s\r",
      "_of_ATLAS_open_data  42%[========>             ]   2.37G  28.0MB/s   eta 1m 46s\r",
      "of_ATLAS_open_data_  42%[========>             ]   2.37G  28.4MB/s   eta 1m 46s\r",
      "f_ATLAS_open_data_s  42%[========>             ]   2.38G  28.5MB/s   eta 1m 44s\r",
      "_ATLAS_open_data_sa  42%[========>             ]   2.39G  34.2MB/s   eta 1m 44s\r",
      "ATLAS_open_data_sam  42%[========>             ]   2.39G  34.5MB/s   eta 1m 44s\r",
      "TLAS_open_data_samp  43%[========>             ]   2.40G  35.1MB/s   eta 1m 44s\r",
      "LAS_open_data_sampl  43%[========>             ]   2.41G  35.1MB/s   eta 1m 44s\r",
      "AS_open_data_sample  43%[========>             ]   2.41G  34.7MB/s   eta 1m 43s\r",
      "S_open_data_samples  43%[========>             ]   2.42G  34.7MB/s   eta 1m 43s\r",
      "_open_data_samples_  43%[========>             ]   2.43G  34.7MB/s   eta 1m 43s\r",
      "open_data_samples_J  43%[========>             ]   2.43G  34.9MB/s   eta 1m 43s\r",
      "pen_data_samples_Ju  43%[========>             ]   2.44G  34.5MB/s   eta 1m 43s\r",
      "en_data_samples_Jul  43%[========>             ]   2.44G  33.8MB/s   eta 1m 42s\r",
      "n_data_samples_July  43%[========>             ]   2.45G  33.7MB/s   eta 1m 42s\r",
      "_data_samples_July_  44%[========>             ]   2.46G  33.6MB/s   eta 1m 42s\r",
      "data_samples_July_2  44%[========>             ]   2.46G  33.1MB/s   eta 1m 42s\r",
      "ata_samples_July_20  44%[========>             ]   2.47G  30.9MB/s   eta 1m 42s\r",
      "ta_samples_July_201  44%[========>             ]   2.47G  30.7MB/s   eta 1m 41s\r",
      "a_samples_July_2016  44%[========>             ]   2.48G  30.2MB/s   eta 1m 41s\r",
      "_samples_July_2016.  44%[========>             ]   2.49G  31.0MB/s   eta 1m 41s\r",
      "samples_July_2016.z  44%[========>             ]   2.49G  32.2MB/s   eta 1m 41s\r",
      "amples_July_2016.zi  44%[========>             ]   2.50G  31.4MB/s   eta 1m 41s\r",
      "mples_July_2016.zip  44%[========>             ]   2.51G  31.5MB/s   eta 1m 40s\r",
      "complete_set_of_ATL  45%[========>             ]   2.51G  31.4MB/s   eta 1m 40s\r",
      "omplete_set_of_ATLA  45%[========>             ]   2.52G  31.3MB/s   eta 1m 40s\r",
      "mplete_set_of_ATLAS  45%[========>             ]   2.53G  31.3MB/s   eta 1m 40s\r",
      "plete_set_of_ATLAS_  45%[=========>            ]   2.53G  31.2MB/s   eta 1m 40s\r",
      "lete_set_of_ATLAS_o  45%[=========>            ]   2.54G  31.5MB/s   eta 99s   \r",
      "ete_set_of_ATLAS_op  45%[=========>            ]   2.54G  31.5MB/s   eta 99s   \r",
      "te_set_of_ATLAS_ope  45%[=========>            ]   2.55G  31.5MB/s   eta 99s   \r",
      "e_set_of_ATLAS_open  45%[=========>            ]   2.56G  31.4MB/s   eta 99s   \r",
      "_set_of_ATLAS_open_  46%[=========>            ]   2.56G  32.9MB/s   eta 99s   \r",
      "set_of_ATLAS_open_d  46%[=========>            ]   2.57G  33.5MB/s   eta 98s   \r",
      "et_of_ATLAS_open_da  46%[=========>            ]   2.57G  32.1MB/s   eta 98s   \r",
      "t_of_ATLAS_open_dat  46%[=========>            ]   2.58G  32.7MB/s   eta 98s   \r",
      "_of_ATLAS_open_data  46%[=========>            ]   2.59G  32.5MB/s   eta 98s   \r",
      "of_ATLAS_open_data_  46%[=========>            ]   2.59G  32.5MB/s   eta 98s   \r",
      "f_ATLAS_open_data_s  46%[=========>            ]   2.60G  31.7MB/s   eta 97s   \r",
      "_ATLAS_open_data_sa  46%[=========>            ]   2.61G  31.5MB/s   eta 97s   \r",
      "ATLAS_open_data_sam  46%[=========>            ]   2.61G  31.5MB/s   eta 97s   \r",
      "TLAS_open_data_samp  47%[=========>            ]   2.62G  31.5MB/s   eta 97s   \r",
      "LAS_open_data_sampl  47%[=========>            ]   2.62G  31.5MB/s   eta 97s   \r",
      "AS_open_data_sample  47%[=========>            ]   2.63G  31.5MB/s   eta 96s   \r",
      "S_open_data_samples  47%[=========>            ]   2.64G  31.7MB/s   eta 96s   \r",
      "_open_data_samples_  47%[=========>            ]   2.64G  31.8MB/s   eta 96s   \r",
      "open_data_samples_J  47%[=========>            ]   2.65G  31.9MB/s   eta 96s   \r",
      "pen_data_samples_Ju  47%[=========>            ]   2.66G  31.8MB/s   eta 96s   \r",
      "en_data_samples_Jul  47%[=========>            ]   2.66G  31.8MB/s   eta 95s   \r",
      "n_data_samples_July  47%[=========>            ]   2.67G  32.4MB/s   eta 95s   \r",
      "_data_samples_July_  48%[=========>            ]   2.68G  32.2MB/s   eta 95s   \r",
      "data_samples_July_2  48%[=========>            ]   2.68G  32.1MB/s   eta 95s   \r",
      "ata_samples_July_20  48%[=========>            ]   2.69G  32.3MB/s   eta 95s   \r",
      "ta_samples_July_201  48%[=========>            ]   2.70G  32.9MB/s   eta 94s   \r",
      "a_samples_July_2016  48%[=========>            ]   2.70G  33.2MB/s   eta 94s   \r",
      "_samples_July_2016.  48%[=========>            ]   2.71G  33.4MB/s   eta 94s   \r",
      "samples_July_2016.z  48%[=========>            ]   2.72G  33.4MB/s   eta 94s   \r",
      "amples_July_2016.zi  48%[=========>            ]   2.72G  33.5MB/s   eta 94s   \r",
      "mples_July_2016.zip  49%[=========>            ]   2.73G  33.6MB/s   eta 93s   \r",
      "complete_set_of_ATL  49%[=========>            ]   2.74G  33.7MB/s   eta 93s   \r",
      "omplete_set_of_ATLA  49%[=========>            ]   2.74G  33.5MB/s   eta 93s   \r",
      "mplete_set_of_ATLAS  49%[=========>            ]   2.75G  33.2MB/s   eta 93s   \r",
      "plete_set_of_ATLAS_  49%[=========>            ]   2.75G  25.4MB/s   eta 93s   \r",
      "lete_set_of_ATLAS_o  49%[=========>            ]   2.75G  23.4MB/s   eta 93s   \r",
      "ete_set_of_ATLAS_op  49%[=========>            ]   2.76G  21.9MB/s   eta 93s   \r",
      "te_set_of_ATLAS_ope  49%[=========>            ]   2.76G  20.7MB/s   eta 93s   \r",
      "e_set_of_ATLAS_open  49%[=========>            ]   2.76G  19.0MB/s   eta 93s   \r",
      "_set_of_ATLAS_open_  49%[=========>            ]   2.76G  17.8MB/s   eta 94s   \r",
      "set_of_ATLAS_open_d  49%[=========>            ]   2.76G  16.5MB/s   eta 94s   \r",
      "et_of_ATLAS_open_da  49%[=========>            ]   2.76G  14.7MB/s   eta 94s   \r",
      "t_of_ATLAS_open_dat  49%[=========>            ]   2.76G  13.5MB/s   eta 94s   \r",
      "_of_ATLAS_open_data  49%[=========>            ]   2.76G  12.4MB/s   eta 94s   \r",
      "of_ATLAS_open_data_  49%[=========>            ]   2.76G  10.4MB/s   eta 94s   \r",
      "f_ATLAS_open_data_s  49%[=========>            ]   2.76G  9.33MB/s   eta 94s   \r",
      "_ATLAS_open_data_sa  49%[=========>            ]   2.76G  8.28MB/s   eta 94s   \r",
      "ATLAS_open_data_sam  49%[=========>            ]   2.77G  7.18MB/s   eta 94s   \r",
      "TLAS_open_data_samp  49%[=========>            ]   2.77G  5.23MB/s   eta 94s   \r",
      "LAS_open_data_sampl  49%[=========>            ]   2.77G  4.50MB/s   eta 95s   \r",
      "AS_open_data_sample  49%[=========>            ]   2.77G  3.55MB/s   eta 95s   \r",
      "S_open_data_samples  49%[=========>            ]   2.77G  4.95MB/s   eta 95s   \r",
      "_open_data_samples_  49%[=========>            ]   2.77G  5.09MB/s   eta 95s   \r",
      "open_data_samples_J  49%[=========>            ]   2.77G  5.21MB/s   eta 95s   \r",
      "pen_data_samples_Ju  49%[=========>            ]   2.77G  5.37MB/s   eta 96s   \r",
      "en_data_samples_Jul  49%[=========>            ]   2.78G  5.50MB/s   eta 96s   \r",
      "n_data_samples_July  49%[=========>            ]   2.78G  5.66MB/s   eta 96s   \r",
      "_data_samples_July_  49%[=========>            ]   2.78G  5.85MB/s   eta 96s   \r",
      "data_samples_July_2  49%[=========>            ]   2.78G  5.98MB/s   eta 96s   \r",
      "ata_samples_July_20  49%[=========>            ]   2.78G  6.12MB/s   eta 96s   \r",
      "ta_samples_July_201  49%[=========>            ]   2.78G  6.27MB/s   eta 96s   \r",
      "a_samples_July_2016  49%[=========>            ]   2.78G  6.39MB/s   eta 96s   \r",
      "_samples_July_2016.  50%[==========>           ]   2.79G  6.53MB/s   eta 96s   \r",
      "samples_July_2016.z  50%[==========>           ]   2.79G  6.71MB/s   eta 96s   \r",
      "amples_July_2016.zi  50%[==========>           ]   2.79G  6.83MB/s   eta 97s   \r",
      "mples_July_2016.zip  50%[==========>           ]   2.79G  6.92MB/s   eta 97s   \r",
      "complete_set_of_ATL  50%[==========>           ]   2.79G  7.07MB/s   eta 97s   \r",
      "omplete_set_of_ATLA  50%[==========>           ]   2.79G  7.20MB/s   eta 97s   \r",
      "mplete_set_of_ATLAS  50%[==========>           ]   2.79G  7.32MB/s   eta 97s   \r",
      "plete_set_of_ATLAS_  50%[==========>           ]   2.80G  7.50MB/s   eta 97s   \r",
      "lete_set_of_ATLAS_o  50%[==========>           ]   2.80G  7.62MB/s   eta 97s   \r",
      "ete_set_of_ATLAS_op  50%[==========>           ]   2.80G  7.72MB/s   eta 97s   \r",
      "te_set_of_ATLAS_ope  50%[==========>           ]   2.80G  7.88MB/s   eta 97s   \r",
      "e_set_of_ATLAS_open  50%[==========>           ]   2.80G  8.07MB/s   eta 97s   \r",
      "_set_of_ATLAS_open_  50%[==========>           ]   2.81G  8.27MB/s   eta 97s   \r",
      "set_of_ATLAS_open_d  50%[==========>           ]   2.81G  8.61MB/s   eta 97s   \r",
      "et_of_ATLAS_open_da  50%[==========>           ]   2.81G  8.92MB/s   eta 97s   \r",
      "t_of_ATLAS_open_dat  50%[==========>           ]   2.81G  9.28MB/s   eta 97s   \r",
      "_of_ATLAS_open_data  50%[==========>           ]   2.82G  9.80MB/s   eta 97s   \r",
      "of_ATLAS_open_data_  50%[==========>           ]   2.82G  10.1MB/s   eta 98s   \r",
      "f_ATLAS_open_data_s  50%[==========>           ]   2.82G  10.5MB/s   eta 98s   \r",
      "_ATLAS_open_data_sa  50%[==========>           ]   2.82G  11.2MB/s   eta 98s   \r",
      "ATLAS_open_data_sam  50%[==========>           ]   2.83G  11.8MB/s   eta 98s   \r",
      "TLAS_open_data_samp  50%[==========>           ]   2.83G  12.4MB/s   eta 98s   \r",
      "LAS_open_data_sampl  50%[==========>           ]   2.84G  13.3MB/s   eta 97s   \r",
      "AS_open_data_sample  50%[==========>           ]   2.84G  14.1MB/s   eta 97s   \r",
      "S_open_data_samples  51%[==========>           ]   2.84G  14.9MB/s   eta 97s   \r",
      "_open_data_samples_  51%[==========>           ]   2.85G  16.1MB/s   eta 97s   \r",
      "open_data_samples_J  51%[==========>           ]   2.85G  17.0MB/s   eta 97s   \r",
      "pen_data_samples_Ju  51%[==========>           ]   2.86G  18.0MB/s   eta 97s   \r",
      "en_data_samples_Jul  51%[==========>           ]   2.86G  19.2MB/s   eta 97s   \r",
      "n_data_samples_July  51%[==========>           ]   2.87G  20.2MB/s   eta 97s   \r",
      "_data_samples_July_  51%[==========>           ]   2.88G  21.2MB/s   eta 97s   \r",
      "data_samples_July_2  51%[==========>           ]   2.88G  22.6MB/s   eta 97s   \r",
      "ata_samples_July_20  51%[==========>           ]   2.89G  23.8MB/s   eta 96s   \r",
      "ta_samples_July_201  51%[==========>           ]   2.90G  24.9MB/s   eta 96s   \r",
      "a_samples_July_2016  52%[==========>           ]   2.90G  25.4MB/s   eta 96s   \r",
      "_samples_July_2016.  52%[==========>           ]   2.91G  27.1MB/s   eta 96s   \r",
      "samples_July_2016.z  52%[==========>           ]   2.92G  27.9MB/s   eta 96s   \r",
      "amples_July_2016.zi  52%[==========>           ]   2.92G  29.4MB/s   eta 94s   \r",
      "mples_July_2016.zip  52%[==========>           ]   2.93G  30.1MB/s   eta 94s   \r",
      "complete_set_of_ATL  52%[==========>           ]   2.94G  30.8MB/s   eta 94s   \r",
      "omplete_set_of_ATLA  52%[==========>           ]   2.94G  31.9MB/s   eta 94s   \r",
      "mplete_set_of_ATLAS  52%[==========>           ]   2.94G  28.9MB/s   eta 94s   \r",
      "plete_set_of_ATLAS_  52%[==========>           ]   2.95G  29.2MB/s   eta 93s   \r",
      "lete_set_of_ATLAS_o  52%[==========>           ]   2.95G  26.4MB/s   eta 93s   \r",
      "ete_set_of_ATLAS_op  53%[==========>           ]   2.96G  25.6MB/s   eta 93s   \r",
      "te_set_of_ATLAS_ope  53%[==========>           ]   2.96G  25.9MB/s   eta 93s   \r",
      "e_set_of_ATLAS_open  53%[==========>           ]   2.97G  26.2MB/s   eta 93s   \r",
      "_set_of_ATLAS_open_  53%[==========>           ]   2.98G  26.4MB/s   eta 93s   \r",
      "set_of_ATLAS_open_d  53%[==========>           ]   2.99G  26.4MB/s   eta 93s   \r",
      "et_of_ATLAS_open_da  53%[==========>           ]   2.99G  26.4MB/s   eta 93s   \r",
      "t_of_ATLAS_open_dat  53%[==========>           ]   3.00G  26.6MB/s   eta 92s   \r",
      "_of_ATLAS_open_data  53%[==========>           ]   3.00G  26.6MB/s   eta 92s   \r",
      "of_ATLAS_open_data_  54%[==========>           ]   3.01G  26.8MB/s   eta 92s   \r",
      "f_ATLAS_open_data_s  54%[==========>           ]   3.01G  23.5MB/s   eta 92s   \r",
      "_ATLAS_open_data_sa  54%[==========>           ]   3.02G  23.6MB/s   eta 91s   \r",
      "ATLAS_open_data_sam  54%[==========>           ]   3.03G  24.0MB/s   eta 91s   \r",
      "TLAS_open_data_samp  54%[==========>           ]   3.03G  22.7MB/s   eta 91s   \r",
      "LAS_open_data_sampl  54%[===========>          ]   3.04G  23.7MB/s   eta 91s   \r",
      "AS_open_data_sample  54%[===========>          ]   3.05G  24.1MB/s   eta 91s   \r",
      "S_open_data_samples  54%[===========>          ]   3.05G  22.3MB/s   eta 91s   \r",
      "_open_data_samples_  54%[===========>          ]   3.06G  23.0MB/s   eta 91s   \r",
      "open_data_samples_J  54%[===========>          ]   3.06G  22.8MB/s   eta 91s   \r",
      "pen_data_samples_Ju  55%[===========>          ]   3.07G  22.6MB/s   eta 90s   \r",
      "en_data_samples_Jul  55%[===========>          ]   3.07G  22.8MB/s   eta 90s   \r",
      "n_data_samples_July  55%[===========>          ]   3.08G  22.5MB/s   eta 90s   \r",
      "_data_samples_July_  55%[===========>          ]   3.09G  22.6MB/s   eta 90s   \r",
      "data_samples_July_2  55%[===========>          ]   3.09G  22.7MB/s   eta 90s   \r",
      "ata_samples_July_20  55%[===========>          ]   3.10G  22.5MB/s   eta 89s   \r",
      "ta_samples_July_201  55%[===========>          ]   3.11G  23.0MB/s   eta 89s   \r",
      "a_samples_July_2016  55%[===========>          ]   3.12G  25.3MB/s   eta 89s   \r",
      "_samples_July_2016.  56%[===========>          ]   3.12G  24.7MB/s   eta 89s   \r",
      "samples_July_2016.z  56%[===========>          ]   3.13G  25.3MB/s   eta 89s   \r",
      "amples_July_2016.zi  56%[===========>          ]   3.14G  27.1MB/s   eta 87s   \r",
      "mples_July_2016.zip  56%[===========>          ]   3.14G  26.7MB/s   eta 87s   \r",
      "complete_set_of_ATL  56%[===========>          ]   3.15G  29.8MB/s   eta 87s   \r",
      "omplete_set_of_ATLA  56%[===========>          ]   3.16G  33.1MB/s   eta 87s   \r",
      "mplete_set_of_ATLAS  56%[===========>          ]   3.16G  33.6MB/s   eta 87s   \r",
      "plete_set_of_ATLAS_  56%[===========>          ]   3.17G  33.0MB/s   eta 86s   \r",
      "lete_set_of_ATLAS_o  56%[===========>          ]   3.17G  33.5MB/s   eta 86s   \r",
      "ete_set_of_ATLAS_op  57%[===========>          ]   3.18G  33.8MB/s   eta 86s   \r",
      "te_set_of_ATLAS_ope  57%[===========>          ]   3.19G  34.4MB/s   eta 86s   \r",
      "e_set_of_ATLAS_open  57%[===========>          ]   3.20G  33.7MB/s   eta 86s   \r",
      "_set_of_ATLAS_open_  57%[===========>          ]   3.20G  33.4MB/s   eta 85s   \r",
      "set_of_ATLAS_open_d  57%[===========>          ]   3.21G  33.2MB/s   eta 85s   \r",
      "et_of_ATLAS_open_da  57%[===========>          ]   3.21G  32.5MB/s   eta 85s   \r",
      "t_of_ATLAS_open_dat  57%[===========>          ]   3.22G  32.5MB/s   eta 85s   \r",
      "_of_ATLAS_open_data  57%[===========>          ]   3.23G  32.3MB/s   eta 85s   \r",
      "of_ATLAS_open_data_  58%[===========>          ]   3.23G  32.4MB/s   eta 84s   \r",
      "f_ATLAS_open_data_s  58%[===========>          ]   3.24G  32.3MB/s   eta 84s   \r",
      "_ATLAS_open_data_sa  58%[===========>          ]   3.25G  32.1MB/s   eta 84s   \r",
      "ATLAS_open_data_sam  58%[===========>          ]   3.25G  32.1MB/s   eta 84s   \r",
      "TLAS_open_data_samp  58%[===========>          ]   3.26G  31.9MB/s   eta 84s   \r",
      "LAS_open_data_sampl  58%[===========>          ]   3.27G  32.7MB/s   eta 82s   \r",
      "AS_open_data_sample  58%[===========>          ]   3.27G  32.0MB/s   eta 82s   \r",
      "S_open_data_samples  58%[===========>          ]   3.28G  30.9MB/s   eta 82s   \r",
      "_open_data_samples_  58%[===========>          ]   3.28G  31.6MB/s   eta 82s   \r",
      "open_data_samples_J  59%[===========>          ]   3.29G  31.5MB/s   eta 82s   \r",
      "pen_data_samples_Ju  59%[============>         ]   3.30G  31.7MB/s   eta 81s   \r",
      "en_data_samples_Jul  59%[============>         ]   3.30G  31.7MB/s   eta 81s   \r",
      "n_data_samples_July  59%[============>         ]   3.31G  31.8MB/s   eta 81s   \r",
      "_data_samples_July_  59%[============>         ]   3.31G  30.8MB/s   eta 81s   \r",
      "data_samples_July_2  59%[============>         ]   3.31G  29.0MB/s   eta 81s   \r",
      "ata_samples_July_20  59%[============>         ]   3.31G  27.2MB/s   eta 81s   \r",
      "ta_samples_July_201  59%[============>         ]   3.32G  21.4MB/s   eta 81s   \r",
      "a_samples_July_2016  59%[============>         ]   3.32G  17.4MB/s   eta 81s   \r",
      "_samples_July_2016.  59%[============>         ]   3.32G  14.6MB/s   eta 83s   \r",
      "samples_July_2016.z  59%[============>         ]   3.32G  12.6MB/s   eta 83s   \r",
      "amples_July_2016.zi  59%[============>         ]   3.32G  11.1MB/s   eta 84s   \r",
      "mples_July_2016.zip  59%[============>         ]   3.32G  9.74MB/s   eta 84s   \r",
      "complete_set_of_ATL  59%[============>         ]   3.32G  8.76MB/s   eta 85s   \r",
      "omplete_set_of_ATLA  59%[============>         ]   3.32G  7.95MB/s   eta 85s   \r",
      "mplete_set_of_ATLAS  59%[============>         ]   3.32G  7.28MB/s   eta 86s   \r",
      "plete_set_of_ATLAS_  59%[============>         ]   3.32G  6.72MB/s   eta 86s   \r",
      "lete_set_of_ATLAS_o  59%[============>         ]   3.32G  6.23MB/s   eta 88s   \r",
      "ete_set_of_ATLAS_op  59%[============>         ]   3.32G  5.84MB/s   eta 88s   \r",
      "te_set_of_ATLAS_ope  59%[============>         ]   3.32G  5.55MB/s   eta 88s   \r",
      "e_set_of_ATLAS_open  59%[============>         ]   3.33G  5.69MB/s   eta 88s   \r",
      "_set_of_ATLAS_open_  59%[============>         ]   3.33G  5.42MB/s   eta 88s   \r",
      "set_of_ATLAS_open_d  59%[============>         ]   3.34G  5.57MB/s   eta 87s   \r",
      "et_of_ATLAS_open_da  60%[============>         ]   3.35G  5.70MB/s   eta 87s   \r",
      "t_of_ATLAS_open_dat  60%[============>         ]   3.35G  5.63MB/s   eta 87s   \r",
      "_of_ATLAS_open_data  60%[============>         ]   3.36G  5.13MB/s   eta 87s   \r",
      "of_ATLAS_open_data_  60%[============>         ]   3.36G  5.12MB/s   eta 87s   \r",
      "f_ATLAS_open_data_s  60%[============>         ]   3.37G  5.25MB/s   eta 87s   \r",
      "_ATLAS_open_data_sa  60%[============>         ]   3.38G  5.38MB/s   eta 87s   \r",
      "ATLAS_open_data_sam  60%[============>         ]   3.38G  5.24MB/s   eta 87s   \r",
      "TLAS_open_data_samp  60%[============>         ]   3.39G  5.58MB/s   eta 85s   \r",
      "LAS_open_data_sampl  60%[============>         ]   3.40G  6.00MB/s   eta 85s   \r",
      "AS_open_data_sample  61%[============>         ]   3.40G  6.40MB/s   eta 85s   \r",
      "S_open_data_samples  61%[============>         ]   3.41G  10.3MB/s   eta 85s   \r",
      "_open_data_samples_  61%[============>         ]   3.42G  24.9MB/s   eta 85s   \r",
      "open_data_samples_J  61%[============>         ]   3.42G  25.6MB/s   eta 84s   \r",
      "pen_data_samples_Ju  61%[============>         ]   3.43G  26.1MB/s   eta 84s   \r",
      "en_data_samples_Jul  61%[============>         ]   3.44G  26.1MB/s   eta 84s   \r",
      "n_data_samples_July  61%[============>         ]   3.44G  26.1MB/s   eta 84s   \r",
      "_data_samples_July_  61%[============>         ]   3.45G  26.2MB/s   eta 84s   \r",
      "data_samples_July_2  62%[============>         ]   3.46G  34.0MB/s   eta 82s   \r",
      "ata_samples_July_20  62%[============>         ]   3.46G  32.6MB/s   eta 82s   \r",
      "ta_samples_July_201  62%[============>         ]   3.47G  33.0MB/s   eta 82s   \r",
      "a_samples_July_2016  62%[============>         ]   3.48G  33.2MB/s   eta 82s   \r",
      "_samples_July_2016.  62%[============>         ]   3.48G  32.8MB/s   eta 82s   \r",
      "samples_July_2016.z  62%[============>         ]   3.49G  32.5MB/s   eta 81s   \r",
      "amples_July_2016.zi  62%[============>         ]   3.50G  32.5MB/s   eta 81s   \r",
      "mples_July_2016.zip  62%[============>         ]   3.50G  32.7MB/s   eta 81s   \r",
      "complete_set_of_ATL  63%[============>         ]   3.51G  33.0MB/s   eta 81s   \r",
      "omplete_set_of_ATLA  63%[============>         ]   3.52G  32.5MB/s   eta 81s   \r",
      "mplete_set_of_ATLAS  63%[============>         ]   3.52G  32.5MB/s   eta 79s   \r",
      "plete_set_of_ATLAS_  63%[============>         ]   3.53G  32.5MB/s   eta 79s   \r",
      "lete_set_of_ATLAS_o  63%[============>         ]   3.54G  32.6MB/s   eta 79s   \r",
      "ete_set_of_ATLAS_op  63%[============>         ]   3.54G  32.6MB/s   eta 79s   \r",
      "te_set_of_ATLAS_ope  63%[=============>        ]   3.55G  27.2MB/s   eta 79s   \r",
      "e_set_of_ATLAS_open  63%[=============>        ]   3.55G  25.3MB/s   eta 79s   \r",
      "_set_of_ATLAS_open_  63%[=============>        ]   3.55G  26.7MB/s   eta 79s   \r",
      "set_of_ATLAS_open_d  63%[=============>        ]   3.56G  26.4MB/s   eta 79s   \r",
      "et_of_ATLAS_open_da  64%[=============>        ]   3.57G  26.6MB/s   eta 79s   \r",
      "t_of_ATLAS_open_dat  64%[=============>        ]   3.58G  26.6MB/s   eta 78s   \r",
      "_of_ATLAS_open_data  64%[=============>        ]   3.58G  26.8MB/s   eta 78s   \r",
      "of_ATLAS_open_data_  64%[=============>        ]   3.59G  26.9MB/s   eta 78s   \r",
      "f_ATLAS_open_data_s  64%[=============>        ]   3.59G  26.3MB/s   eta 78s   \r",
      "_ATLAS_open_data_sa  64%[=============>        ]   3.60G  26.8MB/s   eta 78s   \r",
      "ATLAS_open_data_sam  64%[=============>        ]   3.61G  26.7MB/s   eta 76s   \r",
      "TLAS_open_data_samp  64%[=============>        ]   3.61G  25.3MB/s   eta 76s   \r",
      "LAS_open_data_sampl  65%[=============>        ]   3.62G  26.0MB/s   eta 76s   \r",
      "AS_open_data_sample  65%[=============>        ]   3.63G  26.2MB/s   eta 76s   \r",
      "S_open_data_samples  65%[=============>        ]   3.63G  26.0MB/s   eta 76s   \r",
      "_open_data_samples_  65%[=============>        ]   3.64G  26.2MB/s   eta 75s   \r",
      "open_data_samples_J  65%[=============>        ]   3.65G  30.5MB/s   eta 75s   \r",
      "pen_data_samples_Ju  65%[=============>        ]   3.66G  32.9MB/s   eta 75s   \r",
      "en_data_samples_Jul  65%[=============>        ]   3.66G  33.0MB/s   eta 75s   \r",
      "n_data_samples_July  65%[=============>        ]   3.67G  32.9MB/s   eta 75s   \r",
      "_data_samples_July_  65%[=============>        ]   3.67G  32.8MB/s   eta 73s   \r",
      "data_samples_July_2  66%[=============>        ]   3.68G  32.6MB/s   eta 73s   \r",
      "ata_samples_July_20  66%[=============>        ]   3.69G  32.4MB/s   eta 73s   \r",
      "ta_samples_July_201  66%[=============>        ]   3.69G  32.5MB/s   eta 73s   \r",
      "a_samples_July_2016  66%[=============>        ]   3.70G  32.8MB/s   eta 73s   \r",
      "_samples_July_2016.  66%[=============>        ]   3.71G  31.9MB/s   eta 72s   \r",
      "samples_July_2016.z  66%[=============>        ]   3.71G  33.3MB/s   eta 72s   \r",
      "amples_July_2016.zi  66%[=============>        ]   3.71G  28.0MB/s   eta 72s   \r",
      "mples_July_2016.zip  66%[=============>        ]   3.71G  27.0MB/s   eta 72s   \r",
      "complete_set_of_ATL  66%[=============>        ]   3.72G  27.0MB/s   eta 72s   \r",
      "omplete_set_of_ATLA  66%[=============>        ]   3.73G  26.4MB/s   eta 72s   \r",
      "mplete_set_of_ATLAS  67%[=============>        ]   3.73G  26.7MB/s   eta 72s   \r",
      "plete_set_of_ATLAS_  67%[=============>        ]   3.74G  27.0MB/s   eta 72s   \r",
      "lete_set_of_ATLAS_o  67%[=============>        ]   3.75G  27.1MB/s   eta 72s   \r",
      "ete_set_of_ATLAS_op  67%[=============>        ]   3.75G  27.1MB/s   eta 70s   \r",
      "te_set_of_ATLAS_ope  67%[=============>        ]   3.76G  26.9MB/s   eta 70s   \r",
      "e_set_of_ATLAS_open  67%[=============>        ]   3.76G  25.0MB/s   eta 70s   \r",
      "_set_of_ATLAS_open_  67%[=============>        ]   3.77G  25.9MB/s   eta 70s   \r",
      "set_of_ATLAS_open_d  67%[=============>        ]   3.78G  26.4MB/s   eta 70s   \r",
      "et_of_ATLAS_open_da  67%[=============>        ]   3.79G  26.3MB/s   eta 69s   \r",
      "t_of_ATLAS_open_dat  68%[=============>        ]   3.79G  26.5MB/s   eta 69s   \r",
      "_of_ATLAS_open_data  68%[==============>       ]   3.80G  26.8MB/s   eta 69s   \r",
      "of_ATLAS_open_data_  68%[==============>       ]   3.81G  27.1MB/s   eta 69s   \r",
      "f_ATLAS_open_data_s  68%[==============>       ]   3.81G  32.2MB/s   eta 69s   \r",
      "_ATLAS_open_data_sa  68%[==============>       ]   3.82G  32.3MB/s   eta 68s   \r",
      "ATLAS_open_data_sam  68%[==============>       ]   3.83G  32.4MB/s   eta 68s   \r",
      "TLAS_open_data_samp  68%[==============>       ]   3.83G  32.6MB/s   eta 68s   \r",
      "LAS_open_data_sampl  68%[==============>       ]   3.84G  32.5MB/s   eta 68s   \r",
      "AS_open_data_sample  69%[==============>       ]   3.84G  32.2MB/s   eta 68s   \r",
      "S_open_data_samples  69%[==============>       ]   3.85G  31.8MB/s   eta 66s   \r",
      "_open_data_samples_  69%[==============>       ]   3.86G  31.8MB/s   eta 66s   \r",
      "open_data_samples_J  69%[==============>       ]   3.86G  33.7MB/s   eta 66s   \r",
      "pen_data_samples_Ju  69%[==============>       ]   3.87G  32.4MB/s   eta 66s   \r",
      "en_data_samples_Jul  69%[==============>       ]   3.88G  32.2MB/s   eta 66s   \r",
      "n_data_samples_July  69%[==============>       ]   3.88G  32.3MB/s   eta 65s   \r",
      "_data_samples_July_  69%[==============>       ]   3.89G  32.3MB/s   eta 65s   \r",
      "data_samples_July_2  69%[==============>       ]   3.89G  31.9MB/s   eta 65s   \r",
      "ata_samples_July_20  70%[==============>       ]   3.90G  31.8MB/s   eta 65s   \r",
      "ta_samples_July_201  70%[==============>       ]   3.91G  31.7MB/s   eta 65s   \r",
      "a_samples_July_2016  70%[==============>       ]   3.91G  31.6MB/s   eta 64s   \r",
      "_samples_July_2016.  70%[==============>       ]   3.92G  31.8MB/s   eta 64s   \r",
      "samples_July_2016.z  70%[==============>       ]   3.93G  31.7MB/s   eta 64s   \r",
      "amples_July_2016.zi  70%[==============>       ]   3.93G  31.7MB/s   eta 64s   \r",
      "mples_July_2016.zip  70%[==============>       ]   3.94G  31.9MB/s   eta 64s   \r",
      "complete_set_of_ATL  70%[==============>       ]   3.95G  31.9MB/s   eta 62s   \r",
      "omplete_set_of_ATLA  70%[==============>       ]   3.95G  31.9MB/s   eta 62s   \r",
      "mplete_set_of_ATLAS  71%[==============>       ]   3.96G  30.5MB/s   eta 62s   \r",
      "plete_set_of_ATLAS_  71%[==============>       ]   3.96G  31.4MB/s   eta 62s   \r",
      "lete_set_of_ATLAS_o  71%[==============>       ]   3.97G  31.4MB/s   eta 62s   \r",
      "ete_set_of_ATLAS_op  71%[==============>       ]   3.98G  31.3MB/s   eta 61s   \r",
      "te_set_of_ATLAS_ope  71%[==============>       ]   3.98G  31.3MB/s   eta 61s   \r",
      "e_set_of_ATLAS_open  71%[==============>       ]   3.99G  31.4MB/s   eta 61s   \r",
      "_set_of_ATLAS_open_  71%[==============>       ]   4.00G  31.8MB/s   eta 61s   \r",
      "set_of_ATLAS_open_d  71%[==============>       ]   4.00G  31.8MB/s   eta 61s   \r",
      "et_of_ATLAS_open_da  71%[==============>       ]   4.01G  31.9MB/s   eta 60s   \r",
      "t_of_ATLAS_open_dat  72%[==============>       ]   4.02G  31.5MB/s   eta 60s   \r",
      "_of_ATLAS_open_data  72%[==============>       ]   4.02G  31.7MB/s   eta 60s   \r",
      "of_ATLAS_open_data_  72%[==============>       ]   4.03G  31.5MB/s   eta 60s   \r",
      "f_ATLAS_open_data_s  72%[==============>       ]   4.04G  31.4MB/s   eta 60s   \r",
      "_ATLAS_open_data_sa  72%[==============>       ]   4.04G  31.5MB/s   eta 58s   \r",
      "ATLAS_open_data_sam  72%[==============>       ]   4.05G  31.6MB/s   eta 58s   \r",
      "TLAS_open_data_samp  72%[===============>      ]   4.05G  33.4MB/s   eta 58s   \r",
      "LAS_open_data_sampl  72%[===============>      ]   4.06G  32.6MB/s   eta 58s   \r",
      "AS_open_data_sample  73%[===============>      ]   4.07G  32.6MB/s   eta 58s   \r",
      "S_open_data_samples  73%[===============>      ]   4.07G  32.7MB/s   eta 57s   \r",
      "_open_data_samples_  73%[===============>      ]   4.08G  32.8MB/s   eta 57s   \r",
      "open_data_samples_J  73%[===============>      ]   4.09G  32.8MB/s   eta 57s   \r",
      "pen_data_samples_Ju  73%[===============>      ]   4.09G  32.7MB/s   eta 57s   \r",
      "en_data_samples_Jul  73%[===============>      ]   4.10G  30.8MB/s   eta 57s   \r",
      "n_data_samples_July  73%[===============>      ]   4.11G  31.4MB/s   eta 56s   \r",
      "_data_samples_July_  73%[===============>      ]   4.11G  30.0MB/s   eta 56s   \r",
      "data_samples_July_2  73%[===============>      ]   4.12G  30.7MB/s   eta 56s   \r",
      "ata_samples_July_20  74%[===============>      ]   4.12G  31.4MB/s   eta 56s   \r",
      "ta_samples_July_201  74%[===============>      ]   4.13G  31.4MB/s   eta 56s   \r",
      "a_samples_July_2016  74%[===============>      ]   4.14G  31.3MB/s   eta 55s   \r",
      "_samples_July_2016.  74%[===============>      ]   4.14G  31.5MB/s   eta 55s   \r",
      "samples_July_2016.z  74%[===============>      ]   4.15G  31.6MB/s   eta 55s   \r",
      "amples_July_2016.zi  74%[===============>      ]   4.16G  31.7MB/s   eta 55s   \r",
      "mples_July_2016.zip  74%[===============>      ]   4.17G  32.2MB/s   eta 55s   \r",
      "complete_set_of_ATL  74%[===============>      ]   4.17G  31.8MB/s   eta 53s   \r",
      "omplete_set_of_ATLA  75%[===============>      ]   4.18G  31.8MB/s   eta 53s   \r",
      "mplete_set_of_ATLAS  75%[===============>      ]   4.18G  31.8MB/s   eta 53s   \r",
      "plete_set_of_ATLAS_  75%[===============>      ]   4.19G  31.9MB/s   eta 53s   \r",
      "lete_set_of_ATLAS_o  75%[===============>      ]   4.20G  32.1MB/s   eta 53s   \r",
      "ete_set_of_ATLAS_op  75%[===============>      ]   4.20G  33.0MB/s   eta 52s   \r",
      "te_set_of_ATLAS_ope  75%[===============>      ]   4.21G  32.6MB/s   eta 52s   \r",
      "e_set_of_ATLAS_open  75%[===============>      ]   4.21G  33.4MB/s   eta 52s   \r",
      "_set_of_ATLAS_open_  75%[===============>      ]   4.22G  32.7MB/s   eta 52s   \r",
      "set_of_ATLAS_open_d  75%[===============>      ]   4.23G  32.5MB/s   eta 52s   \r",
      "et_of_ATLAS_open_da  75%[===============>      ]   4.23G  32.5MB/s   eta 51s   \r",
      "t_of_ATLAS_open_dat  76%[===============>      ]   4.24G  32.5MB/s   eta 51s   \r",
      "_of_ATLAS_open_data  76%[===============>      ]   4.25G  32.6MB/s   eta 51s   \r",
      "of_ATLAS_open_data_  76%[===============>      ]   4.25G  32.4MB/s   eta 51s   \r",
      "f_ATLAS_open_data_s  76%[===============>      ]   4.26G  32.3MB/s   eta 51s   \r",
      "_ATLAS_open_data_sa  76%[===============>      ]   4.27G  32.5MB/s   eta 49s   \r",
      "ATLAS_open_data_sam  76%[===============>      ]   4.27G  32.6MB/s   eta 49s   \r",
      "TLAS_open_data_samp  76%[===============>      ]   4.28G  33.0MB/s   eta 49s   \r",
      "LAS_open_data_sampl  76%[===============>      ]   4.29G  32.8MB/s   eta 49s   \r",
      "AS_open_data_sample  77%[===============>      ]   4.29G  33.0MB/s   eta 49s   \r",
      "S_open_data_samples  77%[===============>      ]   4.30G  32.9MB/s   eta 48s   \r",
      "_open_data_samples_  77%[================>     ]   4.31G  34.3MB/s   eta 48s   \r",
      "open_data_samples_J  77%[================>     ]   4.31G  34.9MB/s   eta 48s   \r",
      "pen_data_samples_Ju  77%[================>     ]   4.32G  34.5MB/s   eta 48s   \r",
      "en_data_samples_Jul  77%[================>     ]   4.33G  34.5MB/s   eta 48s   \r",
      "n_data_samples_July  77%[================>     ]   4.33G  34.5MB/s   eta 47s   \r",
      "_data_samples_July_  77%[================>     ]   4.34G  34.4MB/s   eta 47s   \r",
      "data_samples_July_2  78%[================>     ]   4.35G  34.0MB/s   eta 47s   \r",
      "ata_samples_July_20  78%[================>     ]   4.35G  34.0MB/s   eta 47s   \r",
      "ta_samples_July_201  78%[================>     ]   4.36G  33.9MB/s   eta 47s   \r",
      "a_samples_July_2016  78%[================>     ]   4.37G  33.7MB/s   eta 45s   \r",
      "_samples_July_2016.  78%[================>     ]   4.37G  31.5MB/s   eta 45s   \r",
      "samples_July_2016.z  78%[================>     ]   4.37G  26.2MB/s   eta 45s   \r",
      "amples_July_2016.zi  78%[================>     ]   4.37G  25.9MB/s   eta 45s   \r",
      "mples_July_2016.zip  78%[================>     ]   4.38G  24.2MB/s   eta 45s   \r",
      "complete_set_of_ATL  78%[================>     ]   4.38G  24.8MB/s   eta 45s   \r",
      "omplete_set_of_ATLA  78%[================>     ]   4.39G  25.0MB/s   eta 45s   \r",
      "mplete_set_of_ATLAS  78%[================>     ]   4.40G  24.9MB/s   eta 45s   \r",
      "plete_set_of_ATLAS_  79%[================>     ]   4.40G  25.0MB/s   eta 45s   \r",
      "lete_set_of_ATLAS_o  79%[================>     ]   4.41G  25.2MB/s   eta 44s   \r",
      "ete_set_of_ATLAS_op  79%[================>     ]   4.42G  24.8MB/s   eta 44s   \r",
      "te_set_of_ATLAS_ope  79%[================>     ]   4.42G  24.8MB/s   eta 44s   \r",
      "e_set_of_ATLAS_open  79%[================>     ]   4.43G  24.9MB/s   eta 44s   \r",
      "_set_of_ATLAS_open_  79%[================>     ]   4.44G  25.1MB/s   eta 44s   \r",
      "set_of_ATLAS_open_d  79%[================>     ]   4.44G  25.1MB/s   eta 43s   \r",
      "et_of_ATLAS_open_da  79%[================>     ]   4.45G  25.2MB/s   eta 43s   \r",
      "t_of_ATLAS_open_dat  79%[================>     ]   4.45G  22.5MB/s   eta 43s   \r",
      "_of_ATLAS_open_data  80%[================>     ]   4.46G  25.0MB/s   eta 43s   \r",
      "of_ATLAS_open_data_  80%[================>     ]   4.47G  29.7MB/s   eta 43s   \r",
      "f_ATLAS_open_data_s  80%[================>     ]   4.47G  32.1MB/s   eta 41s   \r",
      "_ATLAS_open_data_sa  80%[================>     ]   4.48G  31.5MB/s   eta 41s   \r",
      "ATLAS_open_data_sam  80%[================>     ]   4.49G  31.4MB/s   eta 41s   \r",
      "TLAS_open_data_samp  80%[================>     ]   4.50G  31.5MB/s   eta 41s   \r",
      "LAS_open_data_sampl  80%[================>     ]   4.50G  31.2MB/s   eta 41s   \r",
      "AS_open_data_sample  80%[================>     ]   4.51G  31.2MB/s   eta 40s   \r",
      "S_open_data_samples  81%[================>     ]   4.52G  31.9MB/s   eta 40s   \r",
      "_open_data_samples_  81%[================>     ]   4.52G  31.3MB/s   eta 40s   \r",
      "open_data_samples_J  81%[================>     ]   4.53G  31.2MB/s   eta 40s   \r",
      "pen_data_samples_Ju  81%[================>     ]   4.53G  31.3MB/s   eta 40s   \r",
      "en_data_samples_Jul  81%[================>     ]   4.54G  31.4MB/s   eta 39s   \r",
      "n_data_samples_July  81%[================>     ]   4.55G  31.7MB/s   eta 39s   \r",
      "_data_samples_July_  81%[================>     ]   4.55G  32.0MB/s   eta 39s   \r",
      "data_samples_July_2  81%[=================>    ]   4.56G  34.3MB/s   eta 39s   \r",
      "ata_samples_July_20  82%[=================>    ]   4.57G  34.0MB/s   eta 39s   \r",
      "ta_samples_July_201  82%[=================>    ]   4.58G  34.3MB/s   eta 37s   \r",
      "a_samples_July_2016  82%[=================>    ]   4.58G  34.4MB/s   eta 37s   \r",
      "_samples_July_2016.  82%[=================>    ]   4.59G  34.4MB/s   eta 37s   \r",
      "samples_July_2016.z  82%[=================>    ]   4.60G  34.4MB/s   eta 37s   \r",
      "amples_July_2016.zi  82%[=================>    ]   4.60G  34.8MB/s   eta 37s   \r",
      "mples_July_2016.zip  82%[=================>    ]   4.61G  34.4MB/s   eta 36s   \r",
      "complete_set_of_ATL  82%[=================>    ]   4.62G  34.5MB/s   eta 36s   \r",
      "omplete_set_of_ATLA  82%[=================>    ]   4.62G  34.9MB/s   eta 36s   \r",
      "mplete_set_of_ATLAS  83%[=================>    ]   4.63G  34.8MB/s   eta 36s   \r",
      "plete_set_of_ATLAS_  83%[=================>    ]   4.64G  34.7MB/s   eta 36s   \r",
      "lete_set_of_ATLAS_o  83%[=================>    ]   4.64G  33.6MB/s   eta 35s   \r",
      "ete_set_of_ATLAS_op  83%[=================>    ]   4.65G  31.7MB/s   eta 35s   \r",
      "te_set_of_ATLAS_ope  83%[=================>    ]   4.66G  32.6MB/s   eta 35s   \r",
      "e_set_of_ATLAS_open  83%[=================>    ]   4.66G  32.5MB/s   eta 35s   \r",
      "_set_of_ATLAS_open_  83%[=================>    ]   4.67G  31.4MB/s   eta 35s   \r",
      "set_of_ATLAS_open_d  83%[=================>    ]   4.67G  31.9MB/s   eta 34s   \r",
      "et_of_ATLAS_open_da  84%[=================>    ]   4.68G  32.0MB/s   eta 34s   \r",
      "t_of_ATLAS_open_dat  84%[=================>    ]   4.69G  32.0MB/s   eta 34s   \r",
      "_of_ATLAS_open_data  84%[=================>    ]   4.70G  31.8MB/s   eta 34s   \r",
      "of_ATLAS_open_data_  84%[=================>    ]   4.70G  31.9MB/s   eta 34s   \r",
      "f_ATLAS_open_data_s  84%[=================>    ]   4.71G  32.4MB/s   eta 32s   \r",
      "_ATLAS_open_data_sa  84%[=================>    ]   4.72G  32.1MB/s   eta 32s   \r",
      "ATLAS_open_data_sam  84%[=================>    ]   4.72G  32.2MB/s   eta 32s   \r",
      "TLAS_open_data_samp  84%[=================>    ]   4.73G  32.4MB/s   eta 32s   \r",
      "LAS_open_data_sampl  85%[=================>    ]   4.74G  32.5MB/s   eta 32s   \r",
      "AS_open_data_sample  85%[=================>    ]   4.74G  33.6MB/s   eta 31s   \r",
      "S_open_data_samples  85%[=================>    ]   4.75G  33.9MB/s   eta 31s   \r",
      "_open_data_samples_  85%[=================>    ]   4.76G  34.5MB/s   eta 31s   \r",
      "open_data_samples_J  85%[=================>    ]   4.76G  35.4MB/s   eta 31s   \r",
      "pen_data_samples_Ju  85%[=================>    ]   4.77G  34.8MB/s   eta 31s   \r",
      "en_data_samples_Jul  85%[=================>    ]   4.77G  32.7MB/s   eta 30s   \r",
      "n_data_samples_July  85%[=================>    ]   4.78G  32.8MB/s   eta 30s   \r",
      "_data_samples_July_  85%[=================>    ]   4.79G  32.8MB/s   eta 30s   \r",
      "data_samples_July_2  86%[=================>    ]   4.79G  32.7MB/s   eta 30s   \r",
      "ata_samples_July_20  86%[=================>    ]   4.80G  32.5MB/s   eta 30s   \r",
      "ta_samples_July_201  86%[=================>    ]   4.81G  32.7MB/s   eta 28s   \r",
      "a_samples_July_2016  86%[==================>   ]   4.81G  32.5MB/s   eta 28s   \r",
      "_samples_July_2016.  86%[==================>   ]   4.82G  32.1MB/s   eta 28s   \r",
      "samples_July_2016.z  86%[==================>   ]   4.83G  32.0MB/s   eta 28s   \r",
      "amples_July_2016.zi  86%[==================>   ]   4.83G  31.8MB/s   eta 28s   \r",
      "mples_July_2016.zip  86%[==================>   ]   4.84G  29.4MB/s   eta 27s   \r",
      "complete_set_of_ATL  87%[==================>   ]   4.85G  30.2MB/s   eta 27s   \r",
      "omplete_set_of_ATLA  87%[==================>   ]   4.85G  30.3MB/s   eta 27s   \r",
      "mplete_set_of_ATLAS  87%[==================>   ]   4.86G  30.2MB/s   eta 27s   \r",
      "plete_set_of_ATLAS_  87%[==================>   ]   4.87G  31.2MB/s   eta 27s   \r",
      "lete_set_of_ATLAS_o  87%[==================>   ]   4.88G  32.6MB/s   eta 26s   \r",
      "ete_set_of_ATLAS_op  87%[==================>   ]   4.88G  32.6MB/s   eta 26s   \r",
      "te_set_of_ATLAS_ope  87%[==================>   ]   4.89G  33.0MB/s   eta 26s   \r",
      "e_set_of_ATLAS_open  87%[==================>   ]   4.90G  32.6MB/s   eta 26s   \r",
      "_set_of_ATLAS_open_  88%[==================>   ]   4.90G  32.8MB/s   eta 26s   \r",
      "set_of_ATLAS_open_d  88%[==================>   ]   4.91G  32.7MB/s   eta 25s   \r",
      "et_of_ATLAS_open_da  88%[==================>   ]   4.92G  32.7MB/s   eta 25s   \r",
      "t_of_ATLAS_open_dat  88%[==================>   ]   4.92G  32.6MB/s   eta 25s   \r",
      "_of_ATLAS_open_data  88%[==================>   ]   4.93G  33.0MB/s   eta 25s   \r",
      "of_ATLAS_open_data_  88%[==================>   ]   4.94G  33.0MB/s   eta 25s   \r",
      "f_ATLAS_open_data_s  88%[==================>   ]   4.94G  32.9MB/s   eta 23s   \r",
      "_ATLAS_open_data_sa  88%[==================>   ]   4.95G  34.5MB/s   eta 23s   \r",
      "ATLAS_open_data_sam  88%[==================>   ]   4.96G  34.1MB/s   eta 23s   \r",
      "TLAS_open_data_samp  89%[==================>   ]   4.96G  34.2MB/s   eta 23s   \r",
      "LAS_open_data_sampl  89%[==================>   ]   4.97G  34.1MB/s   eta 23s   \r",
      "AS_open_data_sample  89%[==================>   ]   4.97G  26.0MB/s   eta 22s   \r",
      "S_open_data_samples  89%[==================>   ]   4.97G  24.5MB/s   eta 22s   \r",
      "_open_data_samples_  89%[==================>   ]   4.97G  22.9MB/s   eta 22s   \r",
      "open_data_samples_J  89%[==================>   ]   4.97G  21.5MB/s   eta 22s   \r",
      "pen_data_samples_Ju  89%[==================>   ]   4.97G  19.7MB/s   eta 22s   \r",
      "en_data_samples_Jul  89%[==================>   ]   4.97G  18.5MB/s   eta 22s   \r",
      "n_data_samples_July  89%[==================>   ]   4.97G  17.2MB/s   eta 22s   \r",
      "_data_samples_July_  89%[==================>   ]   4.97G  15.3MB/s   eta 22s   \r",
      "data_samples_July_2  89%[==================>   ]   4.98G  14.1MB/s   eta 22s   \r",
      "ata_samples_July_20  89%[==================>   ]   4.98G  13.0MB/s   eta 22s   \r",
      "ta_samples_July_201  89%[==================>   ]   4.98G  11.0MB/s   eta 22s   \r",
      "a_samples_July_2016  89%[==================>   ]   4.98G  9.92MB/s   eta 22s   \r",
      "_samples_July_2016.  89%[==================>   ]   4.98G  8.85MB/s   eta 22s   \r",
      "samples_July_2016.z  89%[==================>   ]   4.98G  6.83MB/s   eta 22s   \r",
      "amples_July_2016.zi  89%[==================>   ]   4.98G  6.00MB/s   eta 22s   \r",
      "mples_July_2016.zip  89%[==================>   ]   4.98G  4.92MB/s   eta 22s   \r",
      "complete_set_of_ATL  89%[==================>   ]   4.98G  4.72MB/s   eta 22s   \r",
      "omplete_set_of_ATLA  89%[==================>   ]   4.99G  4.95MB/s   eta 22s   \r",
      "mplete_set_of_ATLAS  89%[==================>   ]   4.99G  4.94MB/s   eta 22s   \r",
      "plete_set_of_ATLAS_  89%[==================>   ]   4.99G  5.13MB/s   eta 22s   \r",
      "lete_set_of_ATLAS_o  89%[==================>   ]   4.99G  5.52MB/s   eta 22s   \r",
      "ete_set_of_ATLAS_op  89%[==================>   ]   4.99G  5.67MB/s   eta 22s   \r",
      "te_set_of_ATLAS_ope  89%[==================>   ]   4.99G  5.81MB/s   eta 22s   \r",
      "e_set_of_ATLAS_open  89%[==================>   ]   4.99G  5.97MB/s   eta 22s   \r",
      "_set_of_ATLAS_open_  89%[==================>   ]   5.00G  6.10MB/s   eta 22s   \r",
      "set_of_ATLAS_open_d  89%[==================>   ]   5.00G  6.22MB/s   eta 22s   \r",
      "et_of_ATLAS_open_da  89%[==================>   ]   5.00G  6.39MB/s   eta 22s   \r",
      "t_of_ATLAS_open_dat  89%[==================>   ]   5.00G  6.53MB/s   eta 22s   \r",
      "_of_ATLAS_open_data  89%[==================>   ]   5.00G  6.65MB/s   eta 22s   \r",
      "of_ATLAS_open_data_  89%[==================>   ]   5.00G  6.76MB/s   eta 22s   \r",
      "f_ATLAS_open_data_s  89%[==================>   ]   5.00G  6.94MB/s   eta 22s   \r",
      "_ATLAS_open_data_sa  89%[==================>   ]   5.01G  7.05MB/s   eta 22s   \r",
      "ATLAS_open_data_sam  89%[==================>   ]   5.01G  7.16MB/s   eta 22s   \r",
      "TLAS_open_data_samp  89%[==================>   ]   5.01G  7.62MB/s   eta 22s   \r",
      "LAS_open_data_sampl  89%[==================>   ]   5.01G  7.45MB/s   eta 22s   \r",
      "AS_open_data_sample  89%[==================>   ]   5.01G  7.60MB/s   eta 21s   \r",
      "S_open_data_samples  90%[==================>   ]   5.01G  7.77MB/s   eta 21s   \r",
      "_open_data_samples_  90%[==================>   ]   5.02G  7.91MB/s   eta 21s   \r",
      "open_data_samples_J  90%[==================>   ]   5.02G  8.11MB/s   eta 21s   \r",
      "pen_data_samples_Ju  90%[==================>   ]   5.02G  8.36MB/s   eta 21s   \r",
      "en_data_samples_Jul  90%[==================>   ]   5.02G  8.63MB/s   eta 21s   \r",
      "n_data_samples_July  90%[==================>   ]   5.03G  8.96MB/s   eta 21s   \r",
      "_data_samples_July_  90%[==================>   ]   5.03G  9.37MB/s   eta 21s   \r",
      "data_samples_July_2  90%[==================>   ]   5.03G  9.76MB/s   eta 21s   \r",
      "ata_samples_July_20  90%[==================>   ]   5.03G  10.2MB/s   eta 21s   \r",
      "ta_samples_July_201  90%[==================>   ]   5.04G  10.8MB/s   eta 21s   \r",
      "a_samples_July_2016  90%[==================>   ]   5.04G  11.3MB/s   eta 21s   \r",
      "_samples_July_2016.  90%[==================>   ]   5.04G  11.9MB/s   eta 21s   \r",
      "samples_July_2016.z  90%[==================>   ]   5.05G  12.7MB/s   eta 21s   \r",
      "amples_July_2016.zi  90%[==================>   ]   5.05G  13.4MB/s   eta 21s   \r",
      "mples_July_2016.zip  90%[==================>   ]   5.05G  14.2MB/s   eta 20s   \r",
      "complete_set_of_ATL  90%[==================>   ]   5.06G  15.3MB/s   eta 20s   \r",
      "omplete_set_of_ATLA  90%[==================>   ]   5.06G  16.1MB/s   eta 20s   \r",
      "mplete_set_of_ATLAS  90%[===================>  ]   5.07G  17.0MB/s   eta 20s   \r",
      "plete_set_of_ATLAS_  91%[===================>  ]   5.07G  18.2MB/s   eta 20s   \r",
      "lete_set_of_ATLAS_o  91%[===================>  ]   5.08G  19.2MB/s   eta 19s   \r",
      "ete_set_of_ATLAS_op  91%[===================>  ]   5.08G  20.1MB/s   eta 19s   \r",
      "te_set_of_ATLAS_ope  91%[===================>  ]   5.09G  21.4MB/s   eta 19s   \r",
      "e_set_of_ATLAS_open  91%[===================>  ]   5.10G  22.4MB/s   eta 19s   \r",
      "_set_of_ATLAS_open_  91%[===================>  ]   5.10G  23.6MB/s   eta 19s   \r",
      "set_of_ATLAS_open_d  91%[===================>  ]   5.11G  25.2MB/s   eta 18s   \r",
      "et_of_ATLAS_open_da  91%[===================>  ]   5.12G  25.8MB/s   eta 18s   \r",
      "t_of_ATLAS_open_dat  91%[===================>  ]   5.12G  26.4MB/s   eta 18s   \r",
      "_of_ATLAS_open_data  92%[===================>  ]   5.13G  27.3MB/s   eta 18s   \r",
      "of_ATLAS_open_data_  92%[===================>  ]   5.13G  27.7MB/s   eta 18s   \r",
      "f_ATLAS_open_data_s  92%[===================>  ]   5.14G  28.2MB/s   eta 17s   \r",
      "_ATLAS_open_data_sa  92%[===================>  ]   5.14G  28.8MB/s   eta 17s   \r",
      "ATLAS_open_data_sam  92%[===================>  ]   5.15G  29.2MB/s   eta 17s   \r",
      "TLAS_open_data_samp  92%[===================>  ]   5.16G  29.6MB/s   eta 17s   \r",
      "LAS_open_data_sampl  92%[===================>  ]   5.16G  22.9MB/s   eta 16s   \r",
      "AS_open_data_sample  92%[===================>  ]   5.16G  19.0MB/s   eta 16s   \r",
      "S_open_data_samples  92%[===================>  ]   5.16G  18.2MB/s   eta 16s   \r",
      "_open_data_samples_  92%[===================>  ]   5.17G  18.4MB/s   eta 16s   \r",
      "open_data_samples_J  92%[===================>  ]   5.17G  18.3MB/s   eta 16s   \r",
      "pen_data_samples_Ju  92%[===================>  ]   5.18G  18.5MB/s   eta 16s   \r",
      "en_data_samples_Jul  93%[===================>  ]   5.18G  17.4MB/s   eta 16s   \r",
      "n_data_samples_July  93%[===================>  ]   5.19G  17.8MB/s   eta 15s   \r",
      "_data_samples_July_  93%[===================>  ]   5.20G  17.7MB/s   eta 15s   \r",
      "data_samples_July_2  93%[===================>  ]   5.20G  17.7MB/s   eta 15s   \r",
      "ata_samples_July_20  93%[===================>  ]   5.21G  18.1MB/s   eta 15s   \r",
      "ta_samples_July_201  93%[===================>  ]   5.22G  18.4MB/s   eta 15s   \r",
      "a_samples_July_2016  93%[===================>  ]   5.22G  18.5MB/s   eta 14s   \r",
      "_samples_July_2016.  93%[===================>  ]   5.23G  18.8MB/s   eta 14s   \r",
      "samples_July_2016.z  94%[===================>  ]   5.24G  19.1MB/s   eta 14s   \r",
      "amples_July_2016.zi  94%[===================>  ]   5.24G  19.0MB/s   eta 14s   \r",
      "mples_July_2016.zip  94%[===================>  ]   5.25G  19.3MB/s   eta 14s   \r",
      "complete_set_of_ATL  94%[===================>  ]   5.26G  30.0MB/s   eta 12s   \r",
      "omplete_set_of_ATLA  94%[===================>  ]   5.26G  32.0MB/s   eta 12s   \r",
      "mplete_set_of_ATLAS  94%[===================>  ]   5.27G  32.8MB/s   eta 12s   \r",
      "plete_set_of_ATLAS_  94%[===================>  ]   5.28G  32.7MB/s   eta 12s   \r",
      "lete_set_of_ATLAS_o  94%[===================>  ]   5.28G  34.5MB/s   eta 12s   \r",
      "ete_set_of_ATLAS_op  94%[===================>  ]   5.29G  34.2MB/s   eta 11s   \r",
      "te_set_of_ATLAS_ope  95%[===================>  ]   5.30G  34.3MB/s   eta 11s   \r",
      "e_set_of_ATLAS_open  95%[===================>  ]   5.30G  34.5MB/s   eta 11s   \r",
      "_set_of_ATLAS_open_  95%[===================>  ]   5.31G  34.4MB/s   eta 11s   \r",
      "set_of_ATLAS_open_d  95%[====================> ]   5.32G  34.5MB/s   eta 11s   \r",
      "et_of_ATLAS_open_da  95%[====================> ]   5.32G  34.4MB/s   eta 10s   \r",
      "t_of_ATLAS_open_dat  95%[====================> ]   5.33G  26.2MB/s   eta 10s   \r",
      "_of_ATLAS_open_data  95%[====================> ]   5.33G  25.0MB/s   eta 9s    \r",
      "of_ATLAS_open_data_  95%[====================> ]   5.33G  25.0MB/s   eta 9s    \r",
      "f_ATLAS_open_data_s  95%[====================> ]   5.34G  24.8MB/s   eta 9s    \r",
      "_ATLAS_open_data_sa  95%[====================> ]   5.34G  23.3MB/s   eta 9s    \r",
      "ATLAS_open_data_sam  95%[====================> ]   5.35G  23.2MB/s   eta 9s    \r",
      "TLAS_open_data_samp  96%[====================> ]   5.35G  23.2MB/s   eta 8s    \r",
      "LAS_open_data_sampl  96%[====================> ]   5.36G  22.8MB/s   eta 8s    \r",
      "AS_open_data_sample  96%[====================> ]   5.36G  22.0MB/s   eta 8s    \r",
      "S_open_data_samples  96%[====================> ]   5.37G  21.5MB/s   eta 8s    \r",
      "_open_data_samples_  96%[====================> ]   5.37G  21.0MB/s   eta 8s    \r",
      "open_data_samples_J  96%[====================> ]   5.38G  20.0MB/s   eta 8s    \r",
      "pen_data_samples_Ju  96%[====================> ]   5.38G  19.6MB/s   eta 8s    \r",
      "en_data_samples_Jul  96%[====================> ]   5.38G  19.5MB/s   eta 8s    \r",
      "n_data_samples_July  96%[====================> ]   5.39G  18.3MB/s   eta 8s    \r",
      "_data_samples_July_  96%[====================> ]   5.39G  18.0MB/s   eta 8s    \r",
      "data_samples_July_2  96%[====================> ]   5.40G  17.6MB/s   eta 7s    \r",
      "ata_samples_July_20  96%[====================> ]   5.40G  23.1MB/s   eta 7s    \r",
      "ta_samples_July_201  97%[====================> ]   5.41G  22.7MB/s   eta 7s    \r",
      "a_samples_July_2016  97%[====================> ]   5.41G  22.2MB/s   eta 7s    \r",
      "_samples_July_2016.  97%[====================> ]   5.42G  23.2MB/s   eta 7s    \r",
      "samples_July_2016.z  97%[====================> ]   5.42G  22.7MB/s   eta 6s    \r",
      "amples_July_2016.zi  97%[====================> ]   5.42G  22.5MB/s   eta 6s    \r",
      "mples_July_2016.zip  97%[====================> ]   5.43G  22.6MB/s   eta 6s    \r",
      "complete_set_of_ATL  97%[====================> ]   5.43G  22.7MB/s   eta 6s    \r",
      "omplete_set_of_ATLA  97%[====================> ]   5.44G  22.8MB/s   eta 6s    \r",
      "mplete_set_of_ATLAS  97%[====================> ]   5.44G  22.9MB/s   eta 5s    \r",
      "plete_set_of_ATLAS_  97%[====================> ]   5.45G  23.1MB/s   eta 5s    \r",
      "lete_set_of_ATLAS_o  97%[====================> ]   5.45G  23.1MB/s   eta 5s    \r",
      "ete_set_of_ATLAS_op  97%[====================> ]   5.46G  23.2MB/s   eta 5s    \r",
      "te_set_of_ATLAS_ope  98%[====================> ]   5.46G  23.3MB/s   eta 5s    \r",
      "e_set_of_ATLAS_open  98%[====================> ]   5.47G  23.4MB/s   eta 4s    \r",
      "_set_of_ATLAS_open_  98%[====================> ]   5.47G  23.5MB/s   eta 4s    \r",
      "set_of_ATLAS_open_d  98%[====================> ]   5.47G  23.6MB/s   eta 4s    \r",
      "et_of_ATLAS_open_da  98%[====================> ]   5.48G  23.7MB/s   eta 4s    \r",
      "t_of_ATLAS_open_dat  98%[====================> ]   5.48G  23.8MB/s   eta 4s    \r",
      "_of_ATLAS_open_data  98%[====================> ]   5.49G  23.7MB/s   eta 3s    \r",
      "of_ATLAS_open_data_  98%[====================> ]   5.49G  23.8MB/s   eta 3s    \r",
      "f_ATLAS_open_data_s  98%[====================> ]   5.50G  23.8MB/s   eta 3s    \r",
      "_ATLAS_open_data_sa  98%[====================> ]   5.50G  23.3MB/s   eta 3s    \r",
      "ATLAS_open_data_sam  98%[====================> ]   5.51G  23.1MB/s   eta 3s    \r",
      "TLAS_open_data_samp  98%[====================> ]   5.51G  22.8MB/s   eta 2s    \r",
      "LAS_open_data_sampl  98%[====================> ]   5.51G  22.6MB/s   eta 2s    \r",
      "AS_open_data_sample  99%[====================> ]   5.52G  22.3MB/s   eta 2s    \r",
      "S_open_data_samples  99%[====================> ]   5.52G  22.1MB/s   eta 2s    \r",
      "_open_data_samples_  99%[====================> ]   5.53G  22.0MB/s   eta 2s    \r",
      "open_data_samples_J  99%[====================> ]   5.53G  21.9MB/s   eta 2s    \r",
      "pen_data_samples_Ju  99%[====================> ]   5.53G  21.6MB/s   eta 2s    \r",
      "en_data_samples_Jul  99%[====================> ]   5.54G  21.6MB/s   eta 2s    \r",
      "n_data_samples_July  99%[====================> ]   5.54G  21.4MB/s   eta 2s    \r",
      "_data_samples_July_  99%[====================> ]   5.55G  21.4MB/s   eta 2s    \r",
      "data_samples_July_2  99%[====================> ]   5.55G  21.2MB/s   eta 1s    \r",
      "ata_samples_July_20  99%[====================> ]   5.56G  21.2MB/s   eta 1s    \r",
      "ta_samples_July_201  99%[====================> ]   5.56G  21.2MB/s   eta 1s    \r",
      "a_samples_July_2016  99%[====================> ]   5.57G  21.5MB/s   eta 1s    \r",
      "_samples_July_2016.  99%[====================> ]   5.57G  21.7MB/s   eta 1s    \r",
      "complete_set_of_ATL 100%[=====================>]   5.57G  21.8MB/s   in 3m 39s \r\n",
      "\r\n",
      "2019-07-13 23:43:05 (26.1 MB/s) - ‘complete_set_of_ATLAS_open_data_samples_July_2016.zip’ saved [5982176723/5982176723]\r\n",
      "\r\n"
     ]
    }
   ],
   "source": [
    "system(\"date\");"
   ]
  },
  {
   "cell_type": "markdown",
   "metadata": {},
   "source": [
    "- Unzip the dataset you download"
   ]
  },
  {
   "cell_type": "code",
   "execution_count": 15,
   "metadata": {
    "collapsed": false
   },
   "outputs": [
    {
     "name": "stdout",
     "output_type": "stream",
     "text": [
      "Archive:  complete_set_of_ATLAS_open_data_samples_July_2016.zip\r\n",
      "   creating: MC/\r\n",
      "  inflating: MC/mc_167747.WtaunuJetsBVeto.root  \r\n",
      "  inflating: MC/mc_110905.ZPrime1500.root  \r\n",
      "  inflating: MC/mc_110904.ZPrime1250.root  \r\n",
      "  inflating: MC/mc_110906.ZPrime1750.root  \r\n",
      "  inflating: MC/mc_110901.ZPrime500.root  \r\n",
      "  inflating: MC/mc_167742.WenuNoJetsBVeto.root  "
     ]
    },
    {
     "name": "stderr",
     "output_type": "stream",
     "text": [
      "replace .gitignore? [y]es, [n]o, [A]ll, [N]one, [r]ename:  NULL\r\n",
      "(EOF or read error, treating as \"[N]one\" ...)\r\n",
      "\r\n",
      "MC/mc_167742.WenuNoJetsBVeto.root:  write error (disk full?).  Continue? (y/n/^C) \r\n",
      "warning:  MC/mc_167742.WenuNoJetsBVeto.root is probably truncated\r\n"
     ]
    },
    {
     "name": "stdout",
     "output_type": "stream",
     "text": [
      "The history saving thread hit an unexpected error (OperationalError('database or disk is full',)).History will not be written to the database.\n"
     ]
    }
   ],
   "source": [
    "system(\"unzip complete_set_of_ATLAS_open_data_samples_July_2016.zip\");"
   ]
  },
  {
   "cell_type": "markdown",
   "metadata": {},
   "source": [
    "- Print current system time"
   ]
  },
  {
   "cell_type": "code",
   "execution_count": null,
   "metadata": {
    "collapsed": false
   },
   "outputs": [],
   "source": [
    "system(\"date\");"
   ]
  },
  {
   "cell_type": "markdown",
   "metadata": {},
   "source": [
    "- Remove the zip file"
   ]
  },
  {
   "cell_type": "code",
   "execution_count": null,
   "metadata": {
    "collapsed": false
   },
   "outputs": [],
   "source": [
    "system(\"rm -rf complete_set_of_ATLAS_open_data_samples_July_2016.zip\");"
   ]
  },
  {
   "cell_type": "markdown",
   "metadata": {},
   "source": [
    "- Print current system time"
   ]
  },
  {
   "cell_type": "code",
   "execution_count": null,
   "metadata": {
    "collapsed": false
   },
   "outputs": [],
   "source": [
    "system(\"date\");"
   ]
  },
  {
   "cell_type": "markdown",
   "metadata": {},
   "source": [
    "- Change current path to parent directory"
   ]
  },
  {
   "cell_type": "code",
   "execution_count": null,
   "metadata": {
    "collapsed": false
   },
   "outputs": [],
   "source": [
    "chdir(\"..\");"
   ]
  },
  {
   "cell_type": "markdown",
   "metadata": {},
   "source": [
    "- Print your current path"
   ]
  },
  {
   "cell_type": "code",
   "execution_count": null,
   "metadata": {
    "collapsed": false
   },
   "outputs": [],
   "source": [
    "system(\"pwd\");"
   ]
  },
  {
   "cell_type": "markdown",
   "metadata": {},
   "source": [
    "- Print current system time"
   ]
  },
  {
   "cell_type": "code",
   "execution_count": null,
   "metadata": {
    "collapsed": false
   },
   "outputs": [],
   "source": [
    "system(\"date\");"
   ]
  },
  {
   "cell_type": "markdown",
   "metadata": {},
   "source": [
    "## 2. Run the TTbarAnalysis\n",
    "\n",
    "- Run \"python RunScript.py\" with option \"-a TTbarAnalysis\""
   ]
  },
  {
   "cell_type": "code",
   "execution_count": null,
   "metadata": {
    "collapsed": false
   },
   "outputs": [],
   "source": [
    "system(\"python RunScript.py -a TTbarAnalysis\");"
   ]
  },
  {
   "cell_type": "markdown",
   "metadata": {},
   "source": [
    "- Print current system time"
   ]
  },
  {
   "cell_type": "code",
   "execution_count": null,
   "metadata": {
    "collapsed": false
   },
   "outputs": [],
   "source": [
    "system(\"date\");"
   ]
  },
  {
   "cell_type": "markdown",
   "metadata": {},
   "source": [
    "## 3. Plot Results\n",
    "\n",
    "- Run \"PlotResults.py\" and \"Configurations/PlotConf_TTbarAnalysis.py\" to plot the results."
   ]
  },
  {
   "cell_type": "code",
   "execution_count": null,
   "metadata": {
    "collapsed": false
   },
   "outputs": [],
   "source": [
    "//plot results\n",
    "system(\"python PlotResults.py Configurations/PlotConf_TTbarAnalysis.py\");"
   ]
  },
  {
   "cell_type": "markdown",
   "metadata": {},
   "source": [
    "- Print current system time"
   ]
  },
  {
   "cell_type": "code",
   "execution_count": null,
   "metadata": {
    "collapsed": false
   },
   "outputs": [],
   "source": [
    "system(\"date\");"
   ]
  },
  {
   "cell_type": "markdown",
   "metadata": {},
   "source": [
    "- List all the plots in \"Output\" folder"
   ]
  },
  {
   "cell_type": "code",
   "execution_count": null,
   "metadata": {
    "collapsed": false
   },
   "outputs": [],
   "source": [
    "system(\"ls -lhrt Output/\");"
   ]
  },
  {
   "cell_type": "markdown",
   "metadata": {},
   "source": [
    "- Print your current path"
   ]
  },
  {
   "cell_type": "code",
   "execution_count": null,
   "metadata": {
    "collapsed": false
   },
   "outputs": [],
   "source": [
    "system(\"pwd\");"
   ]
  },
  {
   "cell_type": "code",
   "execution_count": null,
   "metadata": {
    "collapsed": true
   },
   "outputs": [],
   "source": []
  },
  {
   "cell_type": "code",
   "execution_count": null,
   "metadata": {
    "collapsed": true
   },
   "outputs": [],
   "source": []
  }
 ],
 "metadata": {
  "kernelspec": {
   "display_name": "ROOT Prompt",
   "language": "c++",
   "name": "root"
  },
  "language_info": {
   "codemirror_mode": {
    "name": "ipython",
    "version": 2
   },
   "file_extension": ".py",
   "mimetype": "text/x-python",
   "name": "python",
   "nbconvert_exporter": "python",
   "pygments_lexer": "ipython2",
   "version": "2.7.9"
  }
 },
 "nbformat": 4,
 "nbformat_minor": 1
}
