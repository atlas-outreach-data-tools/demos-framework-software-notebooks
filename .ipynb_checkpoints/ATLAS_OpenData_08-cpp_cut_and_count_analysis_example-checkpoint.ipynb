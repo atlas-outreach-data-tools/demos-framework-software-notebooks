{
 "cells": [
  {
   "cell_type": "code",
   "execution_count": 7,
   "metadata": {
    "collapsed": false,
    "scrolled": true
   },
   "outputs": [],
   "source": [
    "//%jsroot on"
   ]
  },
  {
   "cell_type": "code",
   "execution_count": 8,
   "metadata": {
    "collapsed": true
   },
   "outputs": [],
   "source": [
    "#include <iostream>\n",
    "#include <string>\n",
    "#include <stdio.h>\n",
    "#include <time.h>"
   ]
  },
  {
   "cell_type": "code",
   "execution_count": 9,
   "metadata": {
    "collapsed": false
   },
   "outputs": [
    {
     "name": "stderr",
     "output_type": "stream",
     "text": [
      "input_line_45:2:31: error: Unicode character literals may not contain multiple\r\n",
      "      characters\r\n",
      " get_ipython().run_cell_magic(u'cpp', u'-d', u'    // Ref: http://stacko...\r\n",
      "                              ^\r\n",
      "input_line_45:2:39: error: Unicode character literals may not contain multiple\r\n",
      "      characters\r\n",
      " get_ipython().run_cell_magic(u'cpp', u'-d', u'    // Ref: http://stacko...\r\n",
      "                                      ^\r\n",
      "input_line_45:2:46: error: Unicode character literals may not contain multiple\r\n",
      "      characters\r\n",
      " get_ipython().run_cell_magic(u'cpp', u'-d', u'    // Ref: http://stacko...\r\n",
      "                                             ^\r\n"
     ]
    }
   ],
   "source": [
    "%%cpp -d\n",
    "    // Ref: http://stackoverflow.com/questions/997946/how-to-get-current-time-and-date-in-c\n",
    "    const std::string currentDateTime() {\n",
    "        time_t now = time(0);\n",
    "        struct tm tstruct;\n",
    "        char buf[80];\n",
    "        tstruct = *localtime(&now);\n",
    "        strftime(buf, sizeof(buf), \"%Y-%m-%d.%X\", &tstruct);\n",
    "        return buf;\n",
    "    }"
   ]
  },
  {
   "cell_type": "code",
   "execution_count": 10,
   "metadata": {
    "collapsed": false
   },
   "outputs": [
    {
     "name": "stderr",
     "output_type": "stream",
     "text": [
      "input_line_46:2:10: error: redefinition of 'MonteCarlo'\r\n",
      " TChain *MonteCarlo = new TChain(\"mini\");\r\n",
      "         ^\r\n",
      "input_line_40:2:10: note: previous definition is here\r\n",
      " TChain *MonteCarlo = new TChain(\"mini\");\r\n",
      "         ^\r\n"
     ]
    }
   ],
   "source": [
    "TChain *MonteCarlo = new TChain(\"mini\");"
   ]
  },
  {
   "cell_type": "code",
   "execution_count": 11,
   "metadata": {
    "collapsed": false
   },
   "outputs": [],
   "source": [
    "MonteCarlo->Add(\"http://opendata.atlas.cern/release/samples/MC/mc_147770.Zee.root \");\n",
    "MonteCarlo->Add(\"http://opendata.atlas.cern/release/samples/MC/mc_147771.Zmumu.root\");"
   ]
  },
  {
   "cell_type": "code",
   "execution_count": 12,
   "metadata": {
    "collapsed": false
   },
   "outputs": [
    {
     "name": "stderr",
     "output_type": "stream",
     "text": [
      "input_line_48:2:8: error: redefinition of 'MonteCarlo_runNumber'\r\n",
      " Int_t MonteCarlo_runNumber = -1;   //Run identifier\r\n",
      "       ^\r\n",
      "input_line_42:2:8: note: previous definition is here\r\n",
      " Int_t MonteCarlo_runNumber = -1;   //Run identifier\r\n",
      "       ^\r\n"
     ]
    }
   ],
   "source": [
    "Int_t MonteCarlo_runNumber = -1;   //Run identifier"
   ]
  },
  {
   "cell_type": "code",
   "execution_count": 13,
   "metadata": {
    "collapsed": false
   },
   "outputs": [],
   "source": [
    "Int_t  MonteCarlo_lep_n = -1,      //number of preselected leptons\n",
    "       MonteCarlo_lep_type[5];     //number signifying the lepton type (e, mu, tau) of the lepton\n",
    "\n",
    "Float_t MonteCarlo_lep_pt[5],      //transverse momentum of the lepton\n",
    "        MonteCarlo_lep_charge[5],  //charge of the lep\n",
    "        MonteCarlo_lep_eta[5],     //pseudorapidity of the lepton\n",
    "        MonteCarlo_lep_phi[5],     //azimuthal angle of the lepton\n",
    "        MonteCarlo_lep_E[5];       //energy of the lepton\n"
   ]
  },
  {
   "cell_type": "code",
   "execution_count": 14,
   "metadata": {
    "collapsed": false
   },
   "outputs": [],
   "source": [
    "//MonteCarlo\n",
    "MonteCarlo->SetBranchAddress(\"channelNumber\", &MonteCarlo_runNumber);\n",
    "\n",
    "MonteCarlo->SetBranchAddress(\"lep_pt\",        &MonteCarlo_lep_pt);\n",
    "MonteCarlo->SetBranchAddress(\"lep_charge\",    &MonteCarlo_lep_charge);\n",
    "MonteCarlo->SetBranchAddress(\"lep_n\",         &MonteCarlo_lep_n);\n",
    "MonteCarlo->SetBranchAddress(\"lep_type\",      &MonteCarlo_lep_type);\n",
    "MonteCarlo->SetBranchAddress(\"lep_eta\",       &MonteCarlo_lep_eta);\n",
    "MonteCarlo->SetBranchAddress(\"lep_phi\",       &MonteCarlo_lep_phi);\n",
    "MonteCarlo->SetBranchAddress(\"lep_E\",         &MonteCarlo_lep_E);"
   ]
  },
  {
   "cell_type": "code",
   "execution_count": 15,
   "metadata": {
    "collapsed": false
   },
   "outputs": [
    {
     "name": "stderr",
     "output_type": "stream",
     "text": [
      "input_line_51:2:2: error: expected expression\r\n",
      " /Invariant mass histograms definition\r\n",
      " ^\r\n",
      "input_line_51:2:3: error: use of undeclared identifier 'Invariant'\r\n",
      " /Invariant mass histograms definition\r\n",
      "  ^\r\n"
     ]
    }
   ],
   "source": [
    "/Invariant mass histograms definition\n",
    "TH1F *h_M_Zee   = new TH1F(\"h_M_Zee\"  ,  \"Invariant Mass of the Z (Zee) ; M_Zee[GeV] ; # de eventos\" ,20,0,150);\n",
    "TH1F *h_M_Zmumu = new TH1F(\"h_M_Zmumu\",\"Invariant Mass of the Z (Zmumu) ; M_Zmumu[GeV] ; # de eventos\" ,20,0,150);"
   ]
  },
  {
   "cell_type": "code",
   "execution_count": 16,
   "metadata": {
    "collapsed": false
   },
   "outputs": [
    {
     "name": "stderr",
     "output_type": "stream",
     "text": [
      "input_line_52:3:23: error: cannot take the address of an rvalue of type 'EColor'\r\n",
      "h_M_Zee->SetLineColor(kBlue);\r\n",
      "                      ^~~~~\r\n",
      "Error while creating dynamic expression for:\r\n",
      "  h_M_Zee->SetLineColor(kBlue)\r\n",
      "with internal representation (look for <dependent type>):\r\n",
      "CallExpr 0x47d19a8 <input_line_52:3:1, col:28> '<dependent type>'\r\n",
      "|-CXXDependentScopeMemberExpr 0x47d1928 <col:1, col:10> '<dependent type>' lvalue\r\n",
      "| `-DeclRefExpr 0x47d1900 <col:1> '<dependent type>' lvalue Var 0x47d1840 'h_M_Zee' '<dependent type>'\r\n",
      "`-DeclRefExpr 0x47d1980 <col:23> 'enum EColor' EnumConstant 0x32a3260 'kBlue' 'enum EColor'\r\n",
      "input_line_52:4:23: error: cannot take the address of an rvalue of type 'EColor'\r\n",
      "h_M_Zee->SetFillColor(kBlue-10);\r\n",
      "                      ^~~~~\r\n",
      "Error while creating dynamic expression for:\r\n",
      "  h_M_Zee->SetFillColor(kBlue - 10)\r\n",
      "with internal representation (look for <dependent type>):\r\n",
      "CallExpr 0x47dde70 <input_line_52:4:1, col:31> '<dependent type>'\r\n",
      "|-CXXDependentScopeMemberExpr 0x47d1ac8 <col:1, col:10> '<dependent type>' lvalue\r\n",
      "| `-DeclRefExpr 0x47d1aa0 <col:1> '<dependent type>' lvalue Var 0x47d19e0 'h_M_Zee' '<dependent type>'\r\n",
      "`-BinaryOperator 0x47dde48 <col:23, col:29> 'int' '-'\r\n",
      "  |-ImplicitCastExpr 0x47dde30 <col:23> 'int' <IntegralCast>\r\n",
      "  | `-DeclRefExpr 0x47d1b20 <col:23> 'enum EColor' EnumConstant 0x32a3260 'kBlue' 'enum EColor'\r\n",
      "  `-IntegerLiteral 0x47d1b48 <col:29> 'int' 10\r\n",
      "input_line_52:7:25: error: cannot take the address of an rvalue of type 'EColor'\r\n",
      "h_M_Zmumu->SetLineColor(kGreen);\r\n",
      "                        ^~~~~~\r\n",
      "Error while creating dynamic expression for:\r\n",
      "  h_M_Zmumu->SetLineColor(kGreen)\r\n",
      "with internal representation (look for <dependent type>):\r\n",
      "CallExpr 0x47de198 <input_line_52:7:1, col:31> '<dependent type>'\r\n",
      "|-CXXDependentScopeMemberExpr 0x47de118 <col:1, col:12> '<dependent type>' lvalue\r\n",
      "| `-DeclRefExpr 0x47de0f0 <col:1> '<dependent type>' lvalue Var 0x47de030 'h_M_Zmumu' '<dependent type>'\r\n",
      "`-DeclRefExpr 0x47de170 <col:25> 'enum EColor' EnumConstant 0x32a31d0 'kGreen' 'enum EColor'\r\n",
      "input_line_52:8:25: error: cannot take the address of an rvalue of type 'EColor'\r\n",
      "h_M_Zmumu->SetFillColor(kGreen-10);\r\n",
      "                        ^~~~~~\r\n",
      "Error while creating dynamic expression for:\r\n",
      "  h_M_Zmumu->SetFillColor(kGreen - 10)\r\n",
      "with internal representation (look for <dependent type>):\r\n",
      "CallExpr 0x47de970 <input_line_52:8:1, col:34> '<dependent type>'\r\n",
      "|-CXXDependentScopeMemberExpr 0x47de2b8 <col:1, col:12> '<dependent type>' lvalue\r\n",
      "| `-DeclRefExpr 0x47de290 <col:1> '<dependent type>' lvalue Var 0x47de1d0 'h_M_Zmumu' '<dependent type>'\r\n",
      "`-BinaryOperator 0x47de948 <col:25, col:32> 'int' '-'\r\n",
      "  |-ImplicitCastExpr 0x47de930 <col:25> 'int' <IntegralCast>\r\n",
      "  | `-DeclRefExpr 0x47de310 <col:25> 'enum EColor' EnumConstant 0x32a31d0 'kGreen' 'enum EColor'\r\n",
      "  `-IntegerLiteral 0x47de338 <col:32> 'int' 10\r\n"
     ]
    }
   ],
   "source": [
    "h_M_Zee->SetMarkerSize(2.0);\n",
    "h_M_Zee->SetLineColor(kBlue);\n",
    "h_M_Zee->SetFillColor(kBlue-10);\n",
    "\n",
    "h_M_Zmumu->SetMarkerSize(2.0);\n",
    "h_M_Zmumu->SetLineColor(kGreen);\n",
    "h_M_Zmumu->SetFillColor(kGreen-10);"
   ]
  },
  {
   "cell_type": "code",
   "execution_count": 17,
   "metadata": {
    "collapsed": false
   },
   "outputs": [
    {
     "name": "stderr",
     "output_type": "stream",
     "text": [
      "input_line_54:2:8: error: expected unqualified-id\r\n",
      " (std::((*(ostream*)0x7fab95231880)) << \"Start of the Loop = \" << curren...\r\n",
      "       ^\r\n",
      "input_line_54:2:67: error: use of undeclared identifier 'currentDateTime'\r\n",
      "  ...<< \"Start of the Loop = \" << currentDateTime() << std::endl)\r\n",
      "                                  ^\r\n"
     ]
    }
   ],
   "source": [
    "std::cout << \"Start of the Loop = \" << currentDateTime() << std::endl;"
   ]
  },
  {
   "cell_type": "code",
   "execution_count": null,
   "metadata": {
    "collapsed": false
   },
   "outputs": [],
   "source": [
    "int nentriesMC, nbytesMC, i;\n",
    "nentriesMC = (Int_t)MonteCarlo->GetEntries();\n",
    "\n",
    "std::cout << \" Total number of entries to analyze: \" << nentriesMC << std::endl;\n",
    "\n",
    "for (i=0;i< nentriesMC; i++)\n",
    "{\n",
    "    nbytesMC =  MonteCarlo->GetEntry(i);\n",
    "    \n",
    "    //Cut #1: We just want events with at least two leptons\n",
    "    if(MonteCarlo_lep_n>1)\n",
    "    {   \n",
    "        // TLorentzVector definitions \n",
    "        TLorentzVector Lepton_1  = TLorentzVector();\n",
    "        TLorentzVector Lepton_2  = TLorentzVector();\n",
    "        \n",
    "        Lepton_1.SetPtEtaPhiE(MonteCarlo_lep_pt[0], MonteCarlo_lep_eta[0], MonteCarlo_lep_phi[0],MonteCarlo_lep_E[0]);\n",
    "        Lepton_2.SetPtEtaPhiE(MonteCarlo_lep_pt[1], MonteCarlo_lep_eta[1], MonteCarlo_lep_phi[1],MonteCarlo_lep_E[1]);\n",
    "                \n",
    "        //Cut #2: Exactly two good leptons with pT > 25GeV\n",
    "        if(MonteCarlo_lep_n ==2 || MonteCarlo_lep_pt[2] <25000.)\n",
    "        {\n",
    "          //Cut #3: The two selected leptons must have opposite charge\n",
    "          int OS = MonteCarlo_lep_charge[0]*MonteCarlo_lep_charge[1];\n",
    "          if(OS == -1)\n",
    "          {  \n",
    "               //Cut 4: The two selected leptons have the same flauvour\n",
    "               if(MonteCarlo_lep_type[0] == MonteCarlo_lep_type[1])\n",
    "               {\n",
    "                   //Calculation of the Invariant Mass using TLorentz vectors\n",
    "                   TLorentzVector Lepton_12 = Lepton_1 + Lepton_2;\n",
    "                   \n",
    "                   float mass_inv_GeV = Lepton_12.M()/1000.;\n",
    "\n",
    "                   /*Cut #4: The absolute value of the difference between the two leptons and the known Z boson mass \n",
    "                   (mz) must be less than 20 GeV (|mll - mz| < 20 GeV) with mz= 91.18GeV */\n",
    "                    if(TMath::Abs(mass_inv_GeV  - 90.18) < 20)\n",
    "                    {\n",
    "                        /*The runNumber value helps to separate the samples*/\n",
    "                        if(MonteCarlo_runNumber ==147770) // where 147770 == Zee\n",
    "                        {\n",
    "                            h_M_Zee->Fill(mass_inv_GeV); // invariant mass of two electrons\n",
    "                        }\n",
    "                        else if(MonteCarlo_runNumber ==147771) // where 147771 == Zmumu\n",
    "                        {\n",
    "                            h_M_Zmumu->Fill(mass_inv_GeV); // invariant mass of two muons \n",
    "                        }\n",
    "                    }\n",
    "                }\n",
    "            }\n",
    "        }\n",
    "    }\n",
    "}"
   ]
  },
  {
   "cell_type": "code",
   "execution_count": null,
   "metadata": {
    "collapsed": false
   },
   "outputs": [],
   "source": [
    "std::cout << \"End of the Loop = \" << currentDateTime() << std::endl;"
   ]
  },
  {
   "cell_type": "code",
   "execution_count": null,
   "metadata": {
    "collapsed": false
   },
   "outputs": [],
   "source": [
    "TCanvas *cz = new TCanvas(\"cz\",\"cz\",10,10,900,600);\n",
    "    TText tz; tz.SetTextFont(42); tz.SetTextAlign(21);\n",
    "    cz->Divide(2,1);\n",
    "    cz->cd(1); h_M_Zee->Draw();\n",
    "    cz->cd(2); h_M_Zmumu->Draw();\n",
    "\n",
    "cz->Draw();"
   ]
  },
  {
   "cell_type": "code",
   "execution_count": null,
   "metadata": {
    "collapsed": true
   },
   "outputs": [],
   "source": []
  },
  {
   "cell_type": "code",
   "execution_count": null,
   "metadata": {
    "collapsed": true
   },
   "outputs": [],
   "source": []
  },
  {
   "cell_type": "code",
   "execution_count": null,
   "metadata": {
    "collapsed": true
   },
   "outputs": [],
   "source": []
  },
  {
   "cell_type": "code",
   "execution_count": null,
   "metadata": {
    "collapsed": true
   },
   "outputs": [],
   "source": []
  }
 ],
 "metadata": {
  "kernelspec": {
   "display_name": "ROOT Prompt",
   "language": "c++",
   "name": "root"
  },
  "language_info": {
   "codemirror_mode": {
    "name": "ipython",
    "version": 2
   },
   "file_extension": ".py",
   "mimetype": "text/x-python",
   "name": "python",
   "nbconvert_exporter": "python",
   "pygments_lexer": "ipython2",
   "version": "2.7.9"
  }
 },
 "nbformat": 4,
 "nbformat_minor": 1
}
