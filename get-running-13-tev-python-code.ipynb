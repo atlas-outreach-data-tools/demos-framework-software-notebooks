{
 "cells": [
  {
   "cell_type": "markdown",
   "metadata": {},
   "source": [
    "<CENTER><img src=\"http://localhost:8888/notebooks/demos-framework-software-notebooks/images/opendata-top-transblack.png\" style=\"width:30%\"></CENTER>"
   ]
  },
  {
   "cell_type": "markdown",
   "metadata": {},
   "source": [
    "<CENTER><h1>Get running the analysis of Hyy channel using the 13 TeV dataset in Python</h1></CENTER>"
   ]
  },
  {
   "cell_type": "markdown",
   "metadata": {},
   "source": [
    "**Introduction**\n",
    "Let's take a current ATLAS Open Data sample and create histograms:\n",
    "\n",
    "Import some Python packages"
   ]
  },
  {
   "cell_type": "code",
   "execution_count": 1,
   "metadata": {
    "collapsed": false
   },
   "outputs": [],
   "source": [
    "import os\n",
    "import datetime"
   ]
  },
  {
   "cell_type": "markdown",
   "metadata": {},
   "source": [
    "Show the start time: "
   ]
  },
  {
   "cell_type": "code",
   "execution_count": 2,
   "metadata": {
    "collapsed": false,
    "scrolled": true
   },
   "outputs": [
    {
     "name": "stdout",
     "output_type": "stream",
     "text": [
      "Don Aug  1 14:36:02 CEST 2019\n",
      "\n"
     ]
    }
   ],
   "source": [
    "myCmd = os.popen('date').read()\n",
    "print(myCmd)\n",
    "starttime = datetime.datetime.now()"
   ]
  },
  {
   "cell_type": "markdown",
   "metadata": {},
   "source": [
    "## 1. Get the code the 13Tev dataset for Hyy analysis"
   ]
  },
  {
   "cell_type": "markdown",
   "metadata": {},
   "source": [
    "Creat a folder \"python-13tev\""
   ]
  },
  {
   "cell_type": "code",
   "execution_count": 3,
   "metadata": {
    "collapsed": false
   },
   "outputs": [
    {
     "data": {
      "text/plain": [
       "256"
      ]
     },
     "execution_count": 3,
     "metadata": {},
     "output_type": "execute_result"
    }
   ],
   "source": [
    "##\n",
    "command1 = 'mkdir python-13tev'\n",
    "os.system(command1)\n"
   ]
  },
  {
   "cell_type": "markdown",
   "metadata": {},
   "source": [
    "Show the contents in the current folder"
   ]
  },
  {
   "cell_type": "code",
   "execution_count": 4,
   "metadata": {
    "collapsed": false
   },
   "outputs": [
    {
     "name": "stdout",
     "output_type": "stream",
     "text": [
      "total 124K\n",
      "-rw-r--r-- 1 summerstudent users  125 Jul 22 11:07 README.md\n",
      "-rw------- 1 summerstudent users 9.6K Jul 22 11:26 get-running-8-tev-code-cpp.ipynb\n",
      "-rw-r--r-- 1 summerstudent users  64K Jul 22 11:50 get-running-13-tev-cpp-code.ipynb\n",
      "-rw-r--r-- 1 summerstudent users  18K Jul 31 20:36 get-running-8-tev-code-python.ipynb\n",
      "drwxr-xr-x 2 summerstudent users 4.0K Jul 31 22:37 images\n",
      "drwxr-xr-x 3 summerstudent users 4.0K Aug  1 14:22 python-13tev\n",
      "-rw-r--r-- 1 summerstudent users  14K Aug  1 14:34 get-running-13-tev-python-code.ipynb\n",
      "\n"
     ]
    }
   ],
   "source": [
    "myCmd = os.popen('ls -lhrt').read()\n",
    "print(myCmd)"
   ]
  },
  {
   "cell_type": "markdown",
   "metadata": {},
   "source": [
    "Print the current path"
   ]
  },
  {
   "cell_type": "code",
   "execution_count": null,
   "metadata": {
    "collapsed": false,
    "scrolled": true
   },
   "outputs": [],
   "source": [
    "myCmd = os.popen('pwd').read()\n",
    "print(myCmd)"
   ]
  },
  {
   "cell_type": "markdown",
   "metadata": {},
   "source": [
    "Get into the folder which we just created"
   ]
  },
  {
   "cell_type": "code",
   "execution_count": 7,
   "metadata": {
    "collapsed": false
   },
   "outputs": [],
   "source": [
    "##\n",
    "os.chdir(\"python-13tev/\")"
   ]
  },
  {
   "cell_type": "markdown",
   "metadata": {},
   "source": [
    "Print the current path"
   ]
  },
  {
   "cell_type": "code",
   "execution_count": 8,
   "metadata": {
    "collapsed": false
   },
   "outputs": [
    {
     "name": "stdout",
     "output_type": "stream",
     "text": [
      "/home/student/demos-framework-software-notebooks/python-13tev\n",
      "\n"
     ]
    }
   ],
   "source": [
    "myCmd = os.popen('pwd').read()\n",
    "print(myCmd)"
   ]
  },
  {
   "cell_type": "markdown",
   "metadata": {},
   "source": [
    "Clone the analysis code"
   ]
  },
  {
   "cell_type": "code",
   "execution_count": null,
   "metadata": {
    "collapsed": false
   },
   "outputs": [],
   "source": [
    "##\n",
    "command2 = 'git clone https://gitlab.cern.ch/yixin/atlas-outreach-cpp-framework-13tev.git'\n",
    "os.system(command2)"
   ]
  },
  {
   "cell_type": "markdown",
   "metadata": {},
   "source": [
    "Get into the folder which contains the analysis code"
   ]
  },
  {
   "cell_type": "code",
   "execution_count": 9,
   "metadata": {
    "collapsed": false
   },
   "outputs": [],
   "source": [
    "##\n",
    "os.chdir(\"atlas-outreach-cpp-framework-13tev/Beta/\")"
   ]
  },
  {
   "cell_type": "markdown",
   "metadata": {},
   "source": [
    "Print the current path"
   ]
  },
  {
   "cell_type": "code",
   "execution_count": 10,
   "metadata": {
    "collapsed": false
   },
   "outputs": [
    {
     "name": "stdout",
     "output_type": "stream",
     "text": [
      "/home/student/demos-framework-software-notebooks/python-13tev/atlas-outreach-cpp-framework-13tev/Beta\n",
      "\n"
     ]
    }
   ],
   "source": [
    "myCmd = os.popen('pwd').read()\n",
    "print(myCmd)"
   ]
  },
  {
   "cell_type": "code",
   "execution_count": 11,
   "metadata": {
    "collapsed": false
   },
   "outputs": [
    {
     "name": "stdout",
     "output_type": "stream",
     "text": [
      "Don Aug  1 14:37:35 CEST 2019\n",
      "\n"
     ]
    }
   ],
   "source": [
    "myCmd = os.popen('date').read()\n",
    "print(myCmd)"
   ]
  },
  {
   "cell_type": "markdown",
   "metadata": {},
   "source": [
    "## 2. Download the 13Tev dataset for Hyy analysis"
   ]
  },
  {
   "cell_type": "code",
   "execution_count": null,
   "metadata": {
    "collapsed": false
   },
   "outputs": [],
   "source": [
    "##\n",
    "command3 = 'wget -c http://opendata.atlas.cern/release/samples/2019/GamGam/ATLAS-open-data-13TeV-2019-GamGam.zip'\n",
    "os.system(command3)"
   ]
  },
  {
   "cell_type": "code",
   "execution_count": null,
   "metadata": {
    "collapsed": false
   },
   "outputs": [],
   "source": [
    "myCmd = os.popen('date').read()\n",
    "print(myCmd)"
   ]
  },
  {
   "cell_type": "code",
   "execution_count": null,
   "metadata": {
    "collapsed": false
   },
   "outputs": [],
   "source": [
    "##\n",
    "command4 = 'unzip ATLAS-open-data-13TeV-2019-GamGam.zip'\n",
    "os.system(command4)"
   ]
  },
  {
   "cell_type": "code",
   "execution_count": null,
   "metadata": {
    "collapsed": false
   },
   "outputs": [],
   "source": [
    "myCmd = os.popen('date').read()\n",
    "print(myCmd)"
   ]
  },
  {
   "cell_type": "code",
   "execution_count": null,
   "metadata": {
    "collapsed": false
   },
   "outputs": [],
   "source": [
    "##\n",
    "command5 = 'rm -rf ATLAS-open-data-13TeV-2019-GamGam.zip'\n",
    "os.system(command5)"
   ]
  },
  {
   "cell_type": "code",
   "execution_count": null,
   "metadata": {
    "collapsed": false
   },
   "outputs": [],
   "source": [
    "myCmd = os.popen('date').read()\n",
    "print(myCmd)"
   ]
  },
  {
   "cell_type": "markdown",
   "metadata": {},
   "source": [
    "## 3. Begin analysis"
   ]
  },
  {
   "cell_type": "code",
   "execution_count": 12,
   "metadata": {
    "collapsed": false
   },
   "outputs": [],
   "source": [
    "##\n",
    "#os.chdir(\"..\")"
   ]
  },
  {
   "cell_type": "code",
   "execution_count": 19,
   "metadata": {
    "collapsed": false
   },
   "outputs": [
    {
     "name": "stdout",
     "output_type": "stream",
     "text": [
      "/home/student/demos-framework-software-notebooks/python-13tev/atlas-outreach-cpp-framework-13tev/Beta\n",
      "\n"
     ]
    }
   ],
   "source": [
    "myCmd = os.popen('pwd').read()\n",
    "print(myCmd)"
   ]
  },
  {
   "cell_type": "markdown",
   "metadata": {},
   "source": [
    "Run the welcome script to start"
   ]
  },
  {
   "cell_type": "code",
   "execution_count": 23,
   "metadata": {
    "collapsed": false,
    "scrolled": true
   },
   "outputs": [
    {
     "data": {
      "text/plain": [
       "32512"
      ]
     },
     "execution_count": 23,
     "metadata": {},
     "output_type": "execute_result"
    }
   ],
   "source": [
    "##\n",
    "command6 = './welcome1.sh'   #if you run the code for the first time \n",
    "#command6 = './welcome0.sh' #if you want to remove the exist files\n",
    "os.system(command6)"
   ]
  },
  {
   "cell_type": "markdown",
   "metadata": {},
   "source": [
    "Change to the analysis code"
   ]
  },
  {
   "cell_type": "code",
   "execution_count": null,
   "metadata": {
    "collapsed": true
   },
   "outputs": [],
   "source": [
    "os.chdir(\"Analysis/HyyAnalysis/\")"
   ]
  },
  {
   "cell_type": "markdown",
   "metadata": {},
   "source": [
    "Now it's time to RUN!"
   ]
  },
  {
   "cell_type": "code",
   "execution_count": null,
   "metadata": {
    "collapsed": false
   },
   "outputs": [],
   "source": [
    "##\n",
    "command7 = './run0.sh'\n",
    "os.system(command7)"
   ]
  },
  {
   "cell_type": "code",
   "execution_count": null,
   "metadata": {
    "collapsed": false
   },
   "outputs": [],
   "source": [
    "myCmd = os.popen('date').read()\n",
    "print(myCmd)"
   ]
  },
  {
   "cell_type": "markdown",
   "metadata": {},
   "source": [
    "## 4. Plot the result"
   ]
  },
  {
   "cell_type": "code",
   "execution_count": null,
   "metadata": {
    "collapsed": true
   },
   "outputs": [],
   "source": [
    "os.chdir(\"../../Plotting_Hyy/\")"
   ]
  },
  {
   "cell_type": "code",
   "execution_count": null,
   "metadata": {
    "collapsed": false
   },
   "outputs": [],
   "source": [
    "##\n",
    "##  it will be the internal ROOT commands to plot\n",
    "command8 = './plotting.sh'\n",
    "os.system(command8)"
   ]
  },
  {
   "cell_type": "markdown",
   "metadata": {},
   "source": [
    "Show the end time and the analysis duration"
   ]
  },
  {
   "cell_type": "code",
   "execution_count": null,
   "metadata": {
    "collapsed": false
   },
   "outputs": [],
   "source": [
    "myCmd = os.popen('date').read()\n",
    "print(myCmd)\n",
    "endtime = datetime.datetime.now()\n",
    "print(\"Analysis finished in {} min {} s\").format(((endtime - starttime).seconds)/60,((endtime - starttime).seconds)%60)"
   ]
  },
  {
   "cell_type": "markdown",
   "metadata": {},
   "source": [
    "The following are the plots you drew located in **python-13tev/atlas-outreach-cpp-framework-13tev/Beta/Plotting_Hyy/histograms**"
   ]
  },
  {
   "cell_type": "markdown",
   "metadata": {},
   "source": [
    "<CENTER><img src=\"http://localhost:8888/files/demos-framework-software-notebooks/images/hist_mYY_incl.png\"></CENTER>\n",
    "\n",
    "<CENTER><img src=\"http://localhost:8888/files/demos-framework-software-notebooks/images/hist_mYY_win.png\"></CENTER>"
   ]
  },
  {
   "cell_type": "code",
   "execution_count": null,
   "metadata": {
    "collapsed": true
   },
   "outputs": [],
   "source": []
  }
 ],
 "metadata": {
  "kernelspec": {
   "display_name": "Python 2",
   "language": "python",
   "name": "python2"
  },
  "language_info": {
   "codemirror_mode": {
    "name": "ipython",
    "version": 2
   },
   "file_extension": ".py",
   "mimetype": "text/x-python",
   "name": "python",
   "nbconvert_exporter": "python",
   "pygments_lexer": "ipython2",
   "version": "2.7.9"
  }
 },
 "nbformat": 4,
 "nbformat_minor": 1
}
